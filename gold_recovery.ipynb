{
  "cells": [
    {
      "cell_type": "markdown",
      "metadata": {
        "id": "go2zb-K8xQf_"
      },
      "source": [
        "# Восстановление золота из руды"
      ]
    },
    {
      "cell_type": "markdown",
      "metadata": {
        "id": "VStQx5h7xQf_"
      },
      "source": [
        "# Название проекта\n",
        "Восстановление золота из руды\n",
        "\n",
        "# Описание исследования\n",
        "Нам необходимо проанализировать информацию о процессе добытия золота из руды. В нашем распоряжении датасеты, описывающие ключевые показатели процесса. В итоге у нас должен получится прототип машинного обучения, предсказывающий коэффициент восстановления золота из золотосодержащей руды. Такая модель поможет оптимизировать производство, чтобы не запускать предприятие с убыточными характеристиками.\n",
        "\n",
        "# Цель исследования\n",
        "Разработать прототип модели машинного обучения, предсказывающий коэффициент восстановления золота из золотосодержащей руды"
      ]
    },
    {
      "cell_type": "markdown",
      "metadata": {
        "id": "h7TuPxAJxQf_"
      },
      "source": [
        "## Подготовка данных"
      ]
    },
    {
      "cell_type": "markdown",
      "metadata": {
        "id": "PBjT80A-xQgA"
      },
      "source": [
        "Импотрируем необходимые библиотеки и посморим наши датасеты"
      ]
    },
    {
      "cell_type": "code",
      "execution_count": null,
      "metadata": {
        "id": "it6ewlI5xQgA"
      },
      "outputs": [],
      "source": [
        "import pandas as pd\n",
        "import matplotlib.pyplot as plt\n",
        "import numpy as np\n",
        "import seaborn as sns\n",
        "\n",
        "from sklearn.metrics import mean_absolute_error\n",
        "from sklearn.ensemble import RandomForestRegressor\n",
        "from sklearn.linear_model import LinearRegression\n",
        "from sklearn.tree import DecisionTreeRegressor\n",
        "from sklearn.model_selection import cross_val_score\n",
        "from sklearn.metrics import make_scorer\n",
        "from sklearn.dummy import DummyRegressor"
      ]
    },
    {
      "cell_type": "code",
      "execution_count": null,
      "metadata": {
        "id": "agZIFQ7rxQgB"
      },
      "outputs": [],
      "source": [
        "train = pd.read_csv('/datasets/gold_recovery_train_new.csv')\n",
        "test = pd.read_csv('/datasets/gold_recovery_test_new.csv')\n",
        "full = pd.read_csv('/datasets/gold_recovery_full_new.csv')"
      ]
    },
    {
      "cell_type": "markdown",
      "metadata": {
        "id": "mK9mX1mfxQgB"
      },
      "source": [
        "У нас в распоряжении три файла: тренировочная выборка, тестовая и полностью исходные данные. Начнем с тренировочной выборки."
      ]
    },
    {
      "cell_type": "code",
      "execution_count": null,
      "metadata": {
        "id": "j30b5kacxQgB",
        "outputId": "fe68ec50-a7d4-4ef0-9b3e-b3713922bb8f"
      },
      "outputs": [
        {
          "data": {
            "text/html": [
              "<div>\n",
              "<style scoped>\n",
              "    .dataframe tbody tr th:only-of-type {\n",
              "        vertical-align: middle;\n",
              "    }\n",
              "\n",
              "    .dataframe tbody tr th {\n",
              "        vertical-align: top;\n",
              "    }\n",
              "\n",
              "    .dataframe thead th {\n",
              "        text-align: right;\n",
              "    }\n",
              "</style>\n",
              "<table border=\"1\" class=\"dataframe\">\n",
              "  <thead>\n",
              "    <tr style=\"text-align: right;\">\n",
              "      <th></th>\n",
              "      <th>date</th>\n",
              "      <th>final.output.concentrate_ag</th>\n",
              "      <th>final.output.concentrate_pb</th>\n",
              "      <th>final.output.concentrate_sol</th>\n",
              "      <th>final.output.concentrate_au</th>\n",
              "      <th>final.output.recovery</th>\n",
              "      <th>final.output.tail_ag</th>\n",
              "      <th>final.output.tail_pb</th>\n",
              "      <th>final.output.tail_sol</th>\n",
              "      <th>final.output.tail_au</th>\n",
              "      <th>...</th>\n",
              "      <th>secondary_cleaner.state.floatbank4_a_air</th>\n",
              "      <th>secondary_cleaner.state.floatbank4_a_level</th>\n",
              "      <th>secondary_cleaner.state.floatbank4_b_air</th>\n",
              "      <th>secondary_cleaner.state.floatbank4_b_level</th>\n",
              "      <th>secondary_cleaner.state.floatbank5_a_air</th>\n",
              "      <th>secondary_cleaner.state.floatbank5_a_level</th>\n",
              "      <th>secondary_cleaner.state.floatbank5_b_air</th>\n",
              "      <th>secondary_cleaner.state.floatbank5_b_level</th>\n",
              "      <th>secondary_cleaner.state.floatbank6_a_air</th>\n",
              "      <th>secondary_cleaner.state.floatbank6_a_level</th>\n",
              "    </tr>\n",
              "  </thead>\n",
              "  <tbody>\n",
              "    <tr>\n",
              "      <th>0</th>\n",
              "      <td>2016-01-15 00:00:00</td>\n",
              "      <td>6.055403</td>\n",
              "      <td>9.889648</td>\n",
              "      <td>5.507324</td>\n",
              "      <td>42.192020</td>\n",
              "      <td>70.541216</td>\n",
              "      <td>10.411962</td>\n",
              "      <td>0.895447</td>\n",
              "      <td>16.904297</td>\n",
              "      <td>2.143149</td>\n",
              "      <td>...</td>\n",
              "      <td>14.016835</td>\n",
              "      <td>-502.488007</td>\n",
              "      <td>12.099931</td>\n",
              "      <td>-504.715942</td>\n",
              "      <td>9.925633</td>\n",
              "      <td>-498.310211</td>\n",
              "      <td>8.079666</td>\n",
              "      <td>-500.470978</td>\n",
              "      <td>14.151341</td>\n",
              "      <td>-605.841980</td>\n",
              "    </tr>\n",
              "    <tr>\n",
              "      <th>1</th>\n",
              "      <td>2016-01-15 01:00:00</td>\n",
              "      <td>6.029369</td>\n",
              "      <td>9.968944</td>\n",
              "      <td>5.257781</td>\n",
              "      <td>42.701629</td>\n",
              "      <td>69.266198</td>\n",
              "      <td>10.462676</td>\n",
              "      <td>0.927452</td>\n",
              "      <td>16.634514</td>\n",
              "      <td>2.224930</td>\n",
              "      <td>...</td>\n",
              "      <td>13.992281</td>\n",
              "      <td>-505.503262</td>\n",
              "      <td>11.950531</td>\n",
              "      <td>-501.331529</td>\n",
              "      <td>10.039245</td>\n",
              "      <td>-500.169983</td>\n",
              "      <td>7.984757</td>\n",
              "      <td>-500.582168</td>\n",
              "      <td>13.998353</td>\n",
              "      <td>-599.787184</td>\n",
              "    </tr>\n",
              "    <tr>\n",
              "      <th>2</th>\n",
              "      <td>2016-01-15 02:00:00</td>\n",
              "      <td>6.055926</td>\n",
              "      <td>10.213995</td>\n",
              "      <td>5.383759</td>\n",
              "      <td>42.657501</td>\n",
              "      <td>68.116445</td>\n",
              "      <td>10.507046</td>\n",
              "      <td>0.953716</td>\n",
              "      <td>16.208849</td>\n",
              "      <td>2.257889</td>\n",
              "      <td>...</td>\n",
              "      <td>14.015015</td>\n",
              "      <td>-502.520901</td>\n",
              "      <td>11.912783</td>\n",
              "      <td>-501.133383</td>\n",
              "      <td>10.070913</td>\n",
              "      <td>-500.129135</td>\n",
              "      <td>8.013877</td>\n",
              "      <td>-500.517572</td>\n",
              "      <td>14.028663</td>\n",
              "      <td>-601.427363</td>\n",
              "    </tr>\n",
              "    <tr>\n",
              "      <th>3</th>\n",
              "      <td>2016-01-15 03:00:00</td>\n",
              "      <td>6.047977</td>\n",
              "      <td>9.977019</td>\n",
              "      <td>4.858634</td>\n",
              "      <td>42.689819</td>\n",
              "      <td>68.347543</td>\n",
              "      <td>10.422762</td>\n",
              "      <td>0.883763</td>\n",
              "      <td>16.532835</td>\n",
              "      <td>2.146849</td>\n",
              "      <td>...</td>\n",
              "      <td>14.036510</td>\n",
              "      <td>-500.857308</td>\n",
              "      <td>11.999550</td>\n",
              "      <td>-501.193686</td>\n",
              "      <td>9.970366</td>\n",
              "      <td>-499.201640</td>\n",
              "      <td>7.977324</td>\n",
              "      <td>-500.255908</td>\n",
              "      <td>14.005551</td>\n",
              "      <td>-599.996129</td>\n",
              "    </tr>\n",
              "    <tr>\n",
              "      <th>4</th>\n",
              "      <td>2016-01-15 04:00:00</td>\n",
              "      <td>6.148599</td>\n",
              "      <td>10.142511</td>\n",
              "      <td>4.939416</td>\n",
              "      <td>42.774141</td>\n",
              "      <td>66.927016</td>\n",
              "      <td>10.360302</td>\n",
              "      <td>0.792826</td>\n",
              "      <td>16.525686</td>\n",
              "      <td>2.055292</td>\n",
              "      <td>...</td>\n",
              "      <td>14.027298</td>\n",
              "      <td>-499.838632</td>\n",
              "      <td>11.953070</td>\n",
              "      <td>-501.053894</td>\n",
              "      <td>9.925709</td>\n",
              "      <td>-501.686727</td>\n",
              "      <td>7.894242</td>\n",
              "      <td>-500.356035</td>\n",
              "      <td>13.996647</td>\n",
              "      <td>-601.496691</td>\n",
              "    </tr>\n",
              "  </tbody>\n",
              "</table>\n",
              "<p>5 rows × 87 columns</p>\n",
              "</div>"
            ],
            "text/plain": [
              "                  date  final.output.concentrate_ag  \\\n",
              "0  2016-01-15 00:00:00                     6.055403   \n",
              "1  2016-01-15 01:00:00                     6.029369   \n",
              "2  2016-01-15 02:00:00                     6.055926   \n",
              "3  2016-01-15 03:00:00                     6.047977   \n",
              "4  2016-01-15 04:00:00                     6.148599   \n",
              "\n",
              "   final.output.concentrate_pb  final.output.concentrate_sol  \\\n",
              "0                     9.889648                      5.507324   \n",
              "1                     9.968944                      5.257781   \n",
              "2                    10.213995                      5.383759   \n",
              "3                     9.977019                      4.858634   \n",
              "4                    10.142511                      4.939416   \n",
              "\n",
              "   final.output.concentrate_au  final.output.recovery  final.output.tail_ag  \\\n",
              "0                    42.192020              70.541216             10.411962   \n",
              "1                    42.701629              69.266198             10.462676   \n",
              "2                    42.657501              68.116445             10.507046   \n",
              "3                    42.689819              68.347543             10.422762   \n",
              "4                    42.774141              66.927016             10.360302   \n",
              "\n",
              "   final.output.tail_pb  final.output.tail_sol  final.output.tail_au  ...  \\\n",
              "0              0.895447              16.904297              2.143149  ...   \n",
              "1              0.927452              16.634514              2.224930  ...   \n",
              "2              0.953716              16.208849              2.257889  ...   \n",
              "3              0.883763              16.532835              2.146849  ...   \n",
              "4              0.792826              16.525686              2.055292  ...   \n",
              "\n",
              "   secondary_cleaner.state.floatbank4_a_air  \\\n",
              "0                                 14.016835   \n",
              "1                                 13.992281   \n",
              "2                                 14.015015   \n",
              "3                                 14.036510   \n",
              "4                                 14.027298   \n",
              "\n",
              "   secondary_cleaner.state.floatbank4_a_level  \\\n",
              "0                                 -502.488007   \n",
              "1                                 -505.503262   \n",
              "2                                 -502.520901   \n",
              "3                                 -500.857308   \n",
              "4                                 -499.838632   \n",
              "\n",
              "   secondary_cleaner.state.floatbank4_b_air  \\\n",
              "0                                 12.099931   \n",
              "1                                 11.950531   \n",
              "2                                 11.912783   \n",
              "3                                 11.999550   \n",
              "4                                 11.953070   \n",
              "\n",
              "   secondary_cleaner.state.floatbank4_b_level  \\\n",
              "0                                 -504.715942   \n",
              "1                                 -501.331529   \n",
              "2                                 -501.133383   \n",
              "3                                 -501.193686   \n",
              "4                                 -501.053894   \n",
              "\n",
              "   secondary_cleaner.state.floatbank5_a_air  \\\n",
              "0                                  9.925633   \n",
              "1                                 10.039245   \n",
              "2                                 10.070913   \n",
              "3                                  9.970366   \n",
              "4                                  9.925709   \n",
              "\n",
              "   secondary_cleaner.state.floatbank5_a_level  \\\n",
              "0                                 -498.310211   \n",
              "1                                 -500.169983   \n",
              "2                                 -500.129135   \n",
              "3                                 -499.201640   \n",
              "4                                 -501.686727   \n",
              "\n",
              "   secondary_cleaner.state.floatbank5_b_air  \\\n",
              "0                                  8.079666   \n",
              "1                                  7.984757   \n",
              "2                                  8.013877   \n",
              "3                                  7.977324   \n",
              "4                                  7.894242   \n",
              "\n",
              "   secondary_cleaner.state.floatbank5_b_level  \\\n",
              "0                                 -500.470978   \n",
              "1                                 -500.582168   \n",
              "2                                 -500.517572   \n",
              "3                                 -500.255908   \n",
              "4                                 -500.356035   \n",
              "\n",
              "   secondary_cleaner.state.floatbank6_a_air  \\\n",
              "0                                 14.151341   \n",
              "1                                 13.998353   \n",
              "2                                 14.028663   \n",
              "3                                 14.005551   \n",
              "4                                 13.996647   \n",
              "\n",
              "   secondary_cleaner.state.floatbank6_a_level  \n",
              "0                                 -605.841980  \n",
              "1                                 -599.787184  \n",
              "2                                 -601.427363  \n",
              "3                                 -599.996129  \n",
              "4                                 -601.496691  \n",
              "\n",
              "[5 rows x 87 columns]"
            ]
          },
          "execution_count": 3,
          "metadata": {},
          "output_type": "execute_result"
        }
      ],
      "source": [
        "train.head()"
      ]
    },
    {
      "cell_type": "code",
      "execution_count": null,
      "metadata": {
        "id": "0c1JehHuxQgC",
        "outputId": "a1085444-18ec-43fb-d38f-dc0955bd903f"
      },
      "outputs": [
        {
          "name": "stdout",
          "output_type": "stream",
          "text": [
            "<class 'pandas.core.frame.DataFrame'>\n",
            "RangeIndex: 14149 entries, 0 to 14148\n",
            "Data columns (total 87 columns):\n",
            " #   Column                                              Non-Null Count  Dtype  \n",
            "---  ------                                              --------------  -----  \n",
            " 0   date                                                14149 non-null  object \n",
            " 1   final.output.concentrate_ag                         14148 non-null  float64\n",
            " 2   final.output.concentrate_pb                         14148 non-null  float64\n",
            " 3   final.output.concentrate_sol                        13938 non-null  float64\n",
            " 4   final.output.concentrate_au                         14149 non-null  float64\n",
            " 5   final.output.recovery                               14149 non-null  float64\n",
            " 6   final.output.tail_ag                                14149 non-null  float64\n",
            " 7   final.output.tail_pb                                14049 non-null  float64\n",
            " 8   final.output.tail_sol                               14144 non-null  float64\n",
            " 9   final.output.tail_au                                14149 non-null  float64\n",
            " 10  primary_cleaner.input.sulfate                       14129 non-null  float64\n",
            " 11  primary_cleaner.input.depressant                    14117 non-null  float64\n",
            " 12  primary_cleaner.input.feed_size                     14149 non-null  float64\n",
            " 13  primary_cleaner.input.xanthate                      14049 non-null  float64\n",
            " 14  primary_cleaner.output.concentrate_ag               14149 non-null  float64\n",
            " 15  primary_cleaner.output.concentrate_pb               14063 non-null  float64\n",
            " 16  primary_cleaner.output.concentrate_sol              13863 non-null  float64\n",
            " 17  primary_cleaner.output.concentrate_au               14149 non-null  float64\n",
            " 18  primary_cleaner.output.tail_ag                      14148 non-null  float64\n",
            " 19  primary_cleaner.output.tail_pb                      14134 non-null  float64\n",
            " 20  primary_cleaner.output.tail_sol                     14103 non-null  float64\n",
            " 21  primary_cleaner.output.tail_au                      14149 non-null  float64\n",
            " 22  primary_cleaner.state.floatbank8_a_air              14145 non-null  float64\n",
            " 23  primary_cleaner.state.floatbank8_a_level            14148 non-null  float64\n",
            " 24  primary_cleaner.state.floatbank8_b_air              14145 non-null  float64\n",
            " 25  primary_cleaner.state.floatbank8_b_level            14148 non-null  float64\n",
            " 26  primary_cleaner.state.floatbank8_c_air              14147 non-null  float64\n",
            " 27  primary_cleaner.state.floatbank8_c_level            14148 non-null  float64\n",
            " 28  primary_cleaner.state.floatbank8_d_air              14146 non-null  float64\n",
            " 29  primary_cleaner.state.floatbank8_d_level            14148 non-null  float64\n",
            " 30  rougher.calculation.sulfate_to_au_concentrate       14148 non-null  float64\n",
            " 31  rougher.calculation.floatbank10_sulfate_to_au_feed  14148 non-null  float64\n",
            " 32  rougher.calculation.floatbank11_sulfate_to_au_feed  14148 non-null  float64\n",
            " 33  rougher.calculation.au_pb_ratio                     14149 non-null  float64\n",
            " 34  rougher.input.feed_ag                               14149 non-null  float64\n",
            " 35  rougher.input.feed_pb                               14049 non-null  float64\n",
            " 36  rougher.input.feed_rate                             14141 non-null  float64\n",
            " 37  rougher.input.feed_size                             14005 non-null  float64\n",
            " 38  rougher.input.feed_sol                              14071 non-null  float64\n",
            " 39  rougher.input.feed_au                               14149 non-null  float64\n",
            " 40  rougher.input.floatbank10_sulfate                   14120 non-null  float64\n",
            " 41  rougher.input.floatbank10_xanthate                  14141 non-null  float64\n",
            " 42  rougher.input.floatbank11_sulfate                   14113 non-null  float64\n",
            " 43  rougher.input.floatbank11_xanthate                  13721 non-null  float64\n",
            " 44  rougher.output.concentrate_ag                       14149 non-null  float64\n",
            " 45  rougher.output.concentrate_pb                       14149 non-null  float64\n",
            " 46  rougher.output.concentrate_sol                      14127 non-null  float64\n",
            " 47  rougher.output.concentrate_au                       14149 non-null  float64\n",
            " 48  rougher.output.recovery                             14149 non-null  float64\n",
            " 49  rougher.output.tail_ag                              14148 non-null  float64\n",
            " 50  rougher.output.tail_pb                              14149 non-null  float64\n",
            " 51  rougher.output.tail_sol                             14149 non-null  float64\n",
            " 52  rougher.output.tail_au                              14149 non-null  float64\n",
            " 53  rougher.state.floatbank10_a_air                     14148 non-null  float64\n",
            " 54  rougher.state.floatbank10_a_level                   14148 non-null  float64\n",
            " 55  rougher.state.floatbank10_b_air                     14148 non-null  float64\n",
            " 56  rougher.state.floatbank10_b_level                   14148 non-null  float64\n",
            " 57  rougher.state.floatbank10_c_air                     14148 non-null  float64\n",
            " 58  rougher.state.floatbank10_c_level                   14148 non-null  float64\n",
            " 59  rougher.state.floatbank10_d_air                     14149 non-null  float64\n",
            " 60  rougher.state.floatbank10_d_level                   14149 non-null  float64\n",
            " 61  rougher.state.floatbank10_e_air                     13713 non-null  float64\n",
            " 62  rougher.state.floatbank10_e_level                   14149 non-null  float64\n",
            " 63  rougher.state.floatbank10_f_air                     14149 non-null  float64\n",
            " 64  rougher.state.floatbank10_f_level                   14149 non-null  float64\n",
            " 65  secondary_cleaner.output.tail_ag                    14147 non-null  float64\n",
            " 66  secondary_cleaner.output.tail_pb                    14139 non-null  float64\n",
            " 67  secondary_cleaner.output.tail_sol                   12544 non-null  float64\n",
            " 68  secondary_cleaner.output.tail_au                    14149 non-null  float64\n",
            " 69  secondary_cleaner.state.floatbank2_a_air            13932 non-null  float64\n",
            " 70  secondary_cleaner.state.floatbank2_a_level          14148 non-null  float64\n",
            " 71  secondary_cleaner.state.floatbank2_b_air            14128 non-null  float64\n",
            " 72  secondary_cleaner.state.floatbank2_b_level          14148 non-null  float64\n",
            " 73  secondary_cleaner.state.floatbank3_a_air            14145 non-null  float64\n",
            " 74  secondary_cleaner.state.floatbank3_a_level          14148 non-null  float64\n",
            " 75  secondary_cleaner.state.floatbank3_b_air            14148 non-null  float64\n",
            " 76  secondary_cleaner.state.floatbank3_b_level          14148 non-null  float64\n",
            " 77  secondary_cleaner.state.floatbank4_a_air            14143 non-null  float64\n",
            " 78  secondary_cleaner.state.floatbank4_a_level          14148 non-null  float64\n",
            " 79  secondary_cleaner.state.floatbank4_b_air            14148 non-null  float64\n",
            " 80  secondary_cleaner.state.floatbank4_b_level          14148 non-null  float64\n",
            " 81  secondary_cleaner.state.floatbank5_a_air            14148 non-null  float64\n",
            " 82  secondary_cleaner.state.floatbank5_a_level          14148 non-null  float64\n",
            " 83  secondary_cleaner.state.floatbank5_b_air            14148 non-null  float64\n",
            " 84  secondary_cleaner.state.floatbank5_b_level          14148 non-null  float64\n",
            " 85  secondary_cleaner.state.floatbank6_a_air            14147 non-null  float64\n",
            " 86  secondary_cleaner.state.floatbank6_a_level          14148 non-null  float64\n",
            "dtypes: float64(86), object(1)\n",
            "memory usage: 9.4+ MB\n"
          ]
        }
      ],
      "source": [
        "train.info()"
      ]
    },
    {
      "cell_type": "markdown",
      "metadata": {
        "id": "lU3btf64xQgC"
      },
      "source": [
        "87 столбцов в нашем датасете, 14149 строк, как мы видим не все заполненно."
      ]
    },
    {
      "cell_type": "code",
      "execution_count": null,
      "metadata": {
        "id": "h1C3bpBdxQgC",
        "outputId": "0d31663f-35d9-447c-c8e9-92951dc92d7f"
      },
      "outputs": [
        {
          "data": {
            "text/html": [
              "<div>\n",
              "<style scoped>\n",
              "    .dataframe tbody tr th:only-of-type {\n",
              "        vertical-align: middle;\n",
              "    }\n",
              "\n",
              "    .dataframe tbody tr th {\n",
              "        vertical-align: top;\n",
              "    }\n",
              "\n",
              "    .dataframe thead th {\n",
              "        text-align: right;\n",
              "    }\n",
              "</style>\n",
              "<table border=\"1\" class=\"dataframe\">\n",
              "  <thead>\n",
              "    <tr style=\"text-align: right;\">\n",
              "      <th></th>\n",
              "      <th>date</th>\n",
              "      <th>primary_cleaner.input.sulfate</th>\n",
              "      <th>primary_cleaner.input.depressant</th>\n",
              "      <th>primary_cleaner.input.feed_size</th>\n",
              "      <th>primary_cleaner.input.xanthate</th>\n",
              "      <th>primary_cleaner.state.floatbank8_a_air</th>\n",
              "      <th>primary_cleaner.state.floatbank8_a_level</th>\n",
              "      <th>primary_cleaner.state.floatbank8_b_air</th>\n",
              "      <th>primary_cleaner.state.floatbank8_b_level</th>\n",
              "      <th>primary_cleaner.state.floatbank8_c_air</th>\n",
              "      <th>...</th>\n",
              "      <th>secondary_cleaner.state.floatbank4_a_air</th>\n",
              "      <th>secondary_cleaner.state.floatbank4_a_level</th>\n",
              "      <th>secondary_cleaner.state.floatbank4_b_air</th>\n",
              "      <th>secondary_cleaner.state.floatbank4_b_level</th>\n",
              "      <th>secondary_cleaner.state.floatbank5_a_air</th>\n",
              "      <th>secondary_cleaner.state.floatbank5_a_level</th>\n",
              "      <th>secondary_cleaner.state.floatbank5_b_air</th>\n",
              "      <th>secondary_cleaner.state.floatbank5_b_level</th>\n",
              "      <th>secondary_cleaner.state.floatbank6_a_air</th>\n",
              "      <th>secondary_cleaner.state.floatbank6_a_level</th>\n",
              "    </tr>\n",
              "  </thead>\n",
              "  <tbody>\n",
              "    <tr>\n",
              "      <th>0</th>\n",
              "      <td>2016-09-01 00:59:59</td>\n",
              "      <td>210.800909</td>\n",
              "      <td>14.993118</td>\n",
              "      <td>8.080000</td>\n",
              "      <td>1.005021</td>\n",
              "      <td>1398.981301</td>\n",
              "      <td>-500.225577</td>\n",
              "      <td>1399.144926</td>\n",
              "      <td>-499.919735</td>\n",
              "      <td>1400.102998</td>\n",
              "      <td>...</td>\n",
              "      <td>12.023554</td>\n",
              "      <td>-497.795834</td>\n",
              "      <td>8.016656</td>\n",
              "      <td>-501.289139</td>\n",
              "      <td>7.946562</td>\n",
              "      <td>-432.317850</td>\n",
              "      <td>4.872511</td>\n",
              "      <td>-500.037437</td>\n",
              "      <td>26.705889</td>\n",
              "      <td>-499.709414</td>\n",
              "    </tr>\n",
              "    <tr>\n",
              "      <th>1</th>\n",
              "      <td>2016-09-01 01:59:59</td>\n",
              "      <td>215.392455</td>\n",
              "      <td>14.987471</td>\n",
              "      <td>8.080000</td>\n",
              "      <td>0.990469</td>\n",
              "      <td>1398.777912</td>\n",
              "      <td>-500.057435</td>\n",
              "      <td>1398.055362</td>\n",
              "      <td>-499.778182</td>\n",
              "      <td>1396.151033</td>\n",
              "      <td>...</td>\n",
              "      <td>12.058140</td>\n",
              "      <td>-498.695773</td>\n",
              "      <td>8.130979</td>\n",
              "      <td>-499.634209</td>\n",
              "      <td>7.958270</td>\n",
              "      <td>-525.839648</td>\n",
              "      <td>4.878850</td>\n",
              "      <td>-500.162375</td>\n",
              "      <td>25.019940</td>\n",
              "      <td>-499.819438</td>\n",
              "    </tr>\n",
              "    <tr>\n",
              "      <th>2</th>\n",
              "      <td>2016-09-01 02:59:59</td>\n",
              "      <td>215.259946</td>\n",
              "      <td>12.884934</td>\n",
              "      <td>7.786667</td>\n",
              "      <td>0.996043</td>\n",
              "      <td>1398.493666</td>\n",
              "      <td>-500.868360</td>\n",
              "      <td>1398.860436</td>\n",
              "      <td>-499.764529</td>\n",
              "      <td>1398.075709</td>\n",
              "      <td>...</td>\n",
              "      <td>11.962366</td>\n",
              "      <td>-498.767484</td>\n",
              "      <td>8.096893</td>\n",
              "      <td>-500.827423</td>\n",
              "      <td>8.071056</td>\n",
              "      <td>-500.801673</td>\n",
              "      <td>4.905125</td>\n",
              "      <td>-499.828510</td>\n",
              "      <td>24.994862</td>\n",
              "      <td>-500.622559</td>\n",
              "    </tr>\n",
              "    <tr>\n",
              "      <th>3</th>\n",
              "      <td>2016-09-01 03:59:59</td>\n",
              "      <td>215.336236</td>\n",
              "      <td>12.006805</td>\n",
              "      <td>7.640000</td>\n",
              "      <td>0.863514</td>\n",
              "      <td>1399.618111</td>\n",
              "      <td>-498.863574</td>\n",
              "      <td>1397.440120</td>\n",
              "      <td>-499.211024</td>\n",
              "      <td>1400.129303</td>\n",
              "      <td>...</td>\n",
              "      <td>12.033091</td>\n",
              "      <td>-498.350935</td>\n",
              "      <td>8.074946</td>\n",
              "      <td>-499.474407</td>\n",
              "      <td>7.897085</td>\n",
              "      <td>-500.868509</td>\n",
              "      <td>4.931400</td>\n",
              "      <td>-499.963623</td>\n",
              "      <td>24.948919</td>\n",
              "      <td>-498.709987</td>\n",
              "    </tr>\n",
              "    <tr>\n",
              "      <th>4</th>\n",
              "      <td>2016-09-01 04:59:59</td>\n",
              "      <td>199.099327</td>\n",
              "      <td>10.682530</td>\n",
              "      <td>7.530000</td>\n",
              "      <td>0.805575</td>\n",
              "      <td>1401.268123</td>\n",
              "      <td>-500.808305</td>\n",
              "      <td>1398.128818</td>\n",
              "      <td>-499.504543</td>\n",
              "      <td>1402.172226</td>\n",
              "      <td>...</td>\n",
              "      <td>12.025367</td>\n",
              "      <td>-500.786497</td>\n",
              "      <td>8.054678</td>\n",
              "      <td>-500.397500</td>\n",
              "      <td>8.107890</td>\n",
              "      <td>-509.526725</td>\n",
              "      <td>4.957674</td>\n",
              "      <td>-500.360026</td>\n",
              "      <td>25.003331</td>\n",
              "      <td>-500.856333</td>\n",
              "    </tr>\n",
              "  </tbody>\n",
              "</table>\n",
              "<p>5 rows × 53 columns</p>\n",
              "</div>"
            ],
            "text/plain": [
              "                  date  primary_cleaner.input.sulfate  \\\n",
              "0  2016-09-01 00:59:59                     210.800909   \n",
              "1  2016-09-01 01:59:59                     215.392455   \n",
              "2  2016-09-01 02:59:59                     215.259946   \n",
              "3  2016-09-01 03:59:59                     215.336236   \n",
              "4  2016-09-01 04:59:59                     199.099327   \n",
              "\n",
              "   primary_cleaner.input.depressant  primary_cleaner.input.feed_size  \\\n",
              "0                         14.993118                         8.080000   \n",
              "1                         14.987471                         8.080000   \n",
              "2                         12.884934                         7.786667   \n",
              "3                         12.006805                         7.640000   \n",
              "4                         10.682530                         7.530000   \n",
              "\n",
              "   primary_cleaner.input.xanthate  primary_cleaner.state.floatbank8_a_air  \\\n",
              "0                        1.005021                             1398.981301   \n",
              "1                        0.990469                             1398.777912   \n",
              "2                        0.996043                             1398.493666   \n",
              "3                        0.863514                             1399.618111   \n",
              "4                        0.805575                             1401.268123   \n",
              "\n",
              "   primary_cleaner.state.floatbank8_a_level  \\\n",
              "0                               -500.225577   \n",
              "1                               -500.057435   \n",
              "2                               -500.868360   \n",
              "3                               -498.863574   \n",
              "4                               -500.808305   \n",
              "\n",
              "   primary_cleaner.state.floatbank8_b_air  \\\n",
              "0                             1399.144926   \n",
              "1                             1398.055362   \n",
              "2                             1398.860436   \n",
              "3                             1397.440120   \n",
              "4                             1398.128818   \n",
              "\n",
              "   primary_cleaner.state.floatbank8_b_level  \\\n",
              "0                               -499.919735   \n",
              "1                               -499.778182   \n",
              "2                               -499.764529   \n",
              "3                               -499.211024   \n",
              "4                               -499.504543   \n",
              "\n",
              "   primary_cleaner.state.floatbank8_c_air  ...  \\\n",
              "0                             1400.102998  ...   \n",
              "1                             1396.151033  ...   \n",
              "2                             1398.075709  ...   \n",
              "3                             1400.129303  ...   \n",
              "4                             1402.172226  ...   \n",
              "\n",
              "   secondary_cleaner.state.floatbank4_a_air  \\\n",
              "0                                 12.023554   \n",
              "1                                 12.058140   \n",
              "2                                 11.962366   \n",
              "3                                 12.033091   \n",
              "4                                 12.025367   \n",
              "\n",
              "   secondary_cleaner.state.floatbank4_a_level  \\\n",
              "0                                 -497.795834   \n",
              "1                                 -498.695773   \n",
              "2                                 -498.767484   \n",
              "3                                 -498.350935   \n",
              "4                                 -500.786497   \n",
              "\n",
              "   secondary_cleaner.state.floatbank4_b_air  \\\n",
              "0                                  8.016656   \n",
              "1                                  8.130979   \n",
              "2                                  8.096893   \n",
              "3                                  8.074946   \n",
              "4                                  8.054678   \n",
              "\n",
              "   secondary_cleaner.state.floatbank4_b_level  \\\n",
              "0                                 -501.289139   \n",
              "1                                 -499.634209   \n",
              "2                                 -500.827423   \n",
              "3                                 -499.474407   \n",
              "4                                 -500.397500   \n",
              "\n",
              "   secondary_cleaner.state.floatbank5_a_air  \\\n",
              "0                                  7.946562   \n",
              "1                                  7.958270   \n",
              "2                                  8.071056   \n",
              "3                                  7.897085   \n",
              "4                                  8.107890   \n",
              "\n",
              "   secondary_cleaner.state.floatbank5_a_level  \\\n",
              "0                                 -432.317850   \n",
              "1                                 -525.839648   \n",
              "2                                 -500.801673   \n",
              "3                                 -500.868509   \n",
              "4                                 -509.526725   \n",
              "\n",
              "   secondary_cleaner.state.floatbank5_b_air  \\\n",
              "0                                  4.872511   \n",
              "1                                  4.878850   \n",
              "2                                  4.905125   \n",
              "3                                  4.931400   \n",
              "4                                  4.957674   \n",
              "\n",
              "   secondary_cleaner.state.floatbank5_b_level  \\\n",
              "0                                 -500.037437   \n",
              "1                                 -500.162375   \n",
              "2                                 -499.828510   \n",
              "3                                 -499.963623   \n",
              "4                                 -500.360026   \n",
              "\n",
              "   secondary_cleaner.state.floatbank6_a_air  \\\n",
              "0                                 26.705889   \n",
              "1                                 25.019940   \n",
              "2                                 24.994862   \n",
              "3                                 24.948919   \n",
              "4                                 25.003331   \n",
              "\n",
              "   secondary_cleaner.state.floatbank6_a_level  \n",
              "0                                 -499.709414  \n",
              "1                                 -499.819438  \n",
              "2                                 -500.622559  \n",
              "3                                 -498.709987  \n",
              "4                                 -500.856333  \n",
              "\n",
              "[5 rows x 53 columns]"
            ]
          },
          "execution_count": 5,
          "metadata": {},
          "output_type": "execute_result"
        }
      ],
      "source": [
        "test.head()"
      ]
    },
    {
      "cell_type": "code",
      "execution_count": null,
      "metadata": {
        "id": "Xw1lf6EpxQgC",
        "outputId": "40ff39a1-c37c-4208-a572-59e48407be5a"
      },
      "outputs": [
        {
          "name": "stdout",
          "output_type": "stream",
          "text": [
            "<class 'pandas.core.frame.DataFrame'>\n",
            "RangeIndex: 5290 entries, 0 to 5289\n",
            "Data columns (total 53 columns):\n",
            " #   Column                                      Non-Null Count  Dtype  \n",
            "---  ------                                      --------------  -----  \n",
            " 0   date                                        5290 non-null   object \n",
            " 1   primary_cleaner.input.sulfate               5286 non-null   float64\n",
            " 2   primary_cleaner.input.depressant            5285 non-null   float64\n",
            " 3   primary_cleaner.input.feed_size             5290 non-null   float64\n",
            " 4   primary_cleaner.input.xanthate              5286 non-null   float64\n",
            " 5   primary_cleaner.state.floatbank8_a_air      5290 non-null   float64\n",
            " 6   primary_cleaner.state.floatbank8_a_level    5290 non-null   float64\n",
            " 7   primary_cleaner.state.floatbank8_b_air      5290 non-null   float64\n",
            " 8   primary_cleaner.state.floatbank8_b_level    5290 non-null   float64\n",
            " 9   primary_cleaner.state.floatbank8_c_air      5290 non-null   float64\n",
            " 10  primary_cleaner.state.floatbank8_c_level    5290 non-null   float64\n",
            " 11  primary_cleaner.state.floatbank8_d_air      5290 non-null   float64\n",
            " 12  primary_cleaner.state.floatbank8_d_level    5290 non-null   float64\n",
            " 13  rougher.input.feed_ag                       5290 non-null   float64\n",
            " 14  rougher.input.feed_pb                       5290 non-null   float64\n",
            " 15  rougher.input.feed_rate                     5287 non-null   float64\n",
            " 16  rougher.input.feed_size                     5289 non-null   float64\n",
            " 17  rougher.input.feed_sol                      5269 non-null   float64\n",
            " 18  rougher.input.feed_au                       5290 non-null   float64\n",
            " 19  rougher.input.floatbank10_sulfate           5285 non-null   float64\n",
            " 20  rougher.input.floatbank10_xanthate          5290 non-null   float64\n",
            " 21  rougher.input.floatbank11_sulfate           5282 non-null   float64\n",
            " 22  rougher.input.floatbank11_xanthate          5265 non-null   float64\n",
            " 23  rougher.state.floatbank10_a_air             5290 non-null   float64\n",
            " 24  rougher.state.floatbank10_a_level           5290 non-null   float64\n",
            " 25  rougher.state.floatbank10_b_air             5290 non-null   float64\n",
            " 26  rougher.state.floatbank10_b_level           5290 non-null   float64\n",
            " 27  rougher.state.floatbank10_c_air             5290 non-null   float64\n",
            " 28  rougher.state.floatbank10_c_level           5290 non-null   float64\n",
            " 29  rougher.state.floatbank10_d_air             5290 non-null   float64\n",
            " 30  rougher.state.floatbank10_d_level           5290 non-null   float64\n",
            " 31  rougher.state.floatbank10_e_air             5290 non-null   float64\n",
            " 32  rougher.state.floatbank10_e_level           5290 non-null   float64\n",
            " 33  rougher.state.floatbank10_f_air             5290 non-null   float64\n",
            " 34  rougher.state.floatbank10_f_level           5290 non-null   float64\n",
            " 35  secondary_cleaner.state.floatbank2_a_air    5287 non-null   float64\n",
            " 36  secondary_cleaner.state.floatbank2_a_level  5290 non-null   float64\n",
            " 37  secondary_cleaner.state.floatbank2_b_air    5288 non-null   float64\n",
            " 38  secondary_cleaner.state.floatbank2_b_level  5290 non-null   float64\n",
            " 39  secondary_cleaner.state.floatbank3_a_air    5281 non-null   float64\n",
            " 40  secondary_cleaner.state.floatbank3_a_level  5290 non-null   float64\n",
            " 41  secondary_cleaner.state.floatbank3_b_air    5290 non-null   float64\n",
            " 42  secondary_cleaner.state.floatbank3_b_level  5290 non-null   float64\n",
            " 43  secondary_cleaner.state.floatbank4_a_air    5290 non-null   float64\n",
            " 44  secondary_cleaner.state.floatbank4_a_level  5290 non-null   float64\n",
            " 45  secondary_cleaner.state.floatbank4_b_air    5290 non-null   float64\n",
            " 46  secondary_cleaner.state.floatbank4_b_level  5290 non-null   float64\n",
            " 47  secondary_cleaner.state.floatbank5_a_air    5290 non-null   float64\n",
            " 48  secondary_cleaner.state.floatbank5_a_level  5290 non-null   float64\n",
            " 49  secondary_cleaner.state.floatbank5_b_air    5290 non-null   float64\n",
            " 50  secondary_cleaner.state.floatbank5_b_level  5290 non-null   float64\n",
            " 51  secondary_cleaner.state.floatbank6_a_air    5290 non-null   float64\n",
            " 52  secondary_cleaner.state.floatbank6_a_level  5290 non-null   float64\n",
            "dtypes: float64(52), object(1)\n",
            "memory usage: 2.1+ MB\n"
          ]
        }
      ],
      "source": [
        "test.info()"
      ]
    },
    {
      "cell_type": "markdown",
      "metadata": {
        "id": "rKpgsNaVxQgD"
      },
      "source": [
        "Как мы видим в тестовой выборке 53 колонки, а в обучающей 87. Посмотрим каких колонок нет"
      ]
    },
    {
      "cell_type": "code",
      "execution_count": null,
      "metadata": {
        "id": "IIBlyKo3xQgD",
        "outputId": "8956555d-7c5f-47dc-ea22-2fcb4c1f31ad"
      },
      "outputs": [
        {
          "name": "stdout",
          "output_type": "stream",
          "text": [
            "final.output.concentrate_ag\n",
            "final.output.concentrate_au\n",
            "final.output.concentrate_pb\n",
            "final.output.concentrate_sol\n",
            "final.output.recovery\n",
            "final.output.tail_ag\n",
            "final.output.tail_au\n",
            "final.output.tail_pb\n",
            "final.output.tail_sol\n",
            "primary_cleaner.output.concentrate_ag\n",
            "primary_cleaner.output.concentrate_au\n",
            "primary_cleaner.output.concentrate_pb\n",
            "primary_cleaner.output.concentrate_sol\n",
            "primary_cleaner.output.tail_ag\n",
            "primary_cleaner.output.tail_au\n",
            "primary_cleaner.output.tail_pb\n",
            "primary_cleaner.output.tail_sol\n",
            "rougher.calculation.au_pb_ratio\n",
            "rougher.calculation.floatbank10_sulfate_to_au_feed\n",
            "rougher.calculation.floatbank11_sulfate_to_au_feed\n",
            "rougher.calculation.sulfate_to_au_concentrate\n",
            "rougher.output.concentrate_ag\n",
            "rougher.output.concentrate_au\n",
            "rougher.output.concentrate_pb\n",
            "rougher.output.concentrate_sol\n",
            "rougher.output.recovery\n",
            "rougher.output.tail_ag\n",
            "rougher.output.tail_au\n",
            "rougher.output.tail_pb\n",
            "rougher.output.tail_sol\n",
            "secondary_cleaner.output.tail_ag\n",
            "secondary_cleaner.output.tail_au\n",
            "secondary_cleaner.output.tail_pb\n",
            "secondary_cleaner.output.tail_sol\n"
          ]
        }
      ],
      "source": [
        "print(*train.columns.difference(test.columns), sep='\\n')"
      ]
    },
    {
      "cell_type": "markdown",
      "metadata": {
        "id": "onPe39jLxQgD"
      },
      "source": [
        "В тестовой выборке отсутствуют признаки параметра продукта и расчетные характеристики. Из условий задачи мы знаем, что некоторые параметры замеряются и/или рассчитываются позже. Следовательно это те самые параметры. Так же стоит отметить что отсутствуют целевые признаки, нам нужно будет их добавить."
      ]
    },
    {
      "cell_type": "markdown",
      "metadata": {
        "id": "06qzH1ajxQgE"
      },
      "source": [
        "Теперь рассмотрим всю таблицу."
      ]
    },
    {
      "cell_type": "code",
      "execution_count": null,
      "metadata": {
        "id": "O6RWhehjxQgE",
        "outputId": "142dbcbb-f6cb-44fb-cf17-9781b1f79f61"
      },
      "outputs": [
        {
          "data": {
            "text/html": [
              "<div>\n",
              "<style scoped>\n",
              "    .dataframe tbody tr th:only-of-type {\n",
              "        vertical-align: middle;\n",
              "    }\n",
              "\n",
              "    .dataframe tbody tr th {\n",
              "        vertical-align: top;\n",
              "    }\n",
              "\n",
              "    .dataframe thead th {\n",
              "        text-align: right;\n",
              "    }\n",
              "</style>\n",
              "<table border=\"1\" class=\"dataframe\">\n",
              "  <thead>\n",
              "    <tr style=\"text-align: right;\">\n",
              "      <th></th>\n",
              "      <th>date</th>\n",
              "      <th>final.output.concentrate_ag</th>\n",
              "      <th>final.output.concentrate_pb</th>\n",
              "      <th>final.output.concentrate_sol</th>\n",
              "      <th>final.output.concentrate_au</th>\n",
              "      <th>final.output.recovery</th>\n",
              "      <th>final.output.tail_ag</th>\n",
              "      <th>final.output.tail_pb</th>\n",
              "      <th>final.output.tail_sol</th>\n",
              "      <th>final.output.tail_au</th>\n",
              "      <th>...</th>\n",
              "      <th>secondary_cleaner.state.floatbank4_a_air</th>\n",
              "      <th>secondary_cleaner.state.floatbank4_a_level</th>\n",
              "      <th>secondary_cleaner.state.floatbank4_b_air</th>\n",
              "      <th>secondary_cleaner.state.floatbank4_b_level</th>\n",
              "      <th>secondary_cleaner.state.floatbank5_a_air</th>\n",
              "      <th>secondary_cleaner.state.floatbank5_a_level</th>\n",
              "      <th>secondary_cleaner.state.floatbank5_b_air</th>\n",
              "      <th>secondary_cleaner.state.floatbank5_b_level</th>\n",
              "      <th>secondary_cleaner.state.floatbank6_a_air</th>\n",
              "      <th>secondary_cleaner.state.floatbank6_a_level</th>\n",
              "    </tr>\n",
              "  </thead>\n",
              "  <tbody>\n",
              "    <tr>\n",
              "      <th>0</th>\n",
              "      <td>2016-01-15 00:00:00</td>\n",
              "      <td>6.055403</td>\n",
              "      <td>9.889648</td>\n",
              "      <td>5.507324</td>\n",
              "      <td>42.192020</td>\n",
              "      <td>70.541216</td>\n",
              "      <td>10.411962</td>\n",
              "      <td>0.895447</td>\n",
              "      <td>16.904297</td>\n",
              "      <td>2.143149</td>\n",
              "      <td>...</td>\n",
              "      <td>14.016835</td>\n",
              "      <td>-502.488007</td>\n",
              "      <td>12.099931</td>\n",
              "      <td>-504.715942</td>\n",
              "      <td>9.925633</td>\n",
              "      <td>-498.310211</td>\n",
              "      <td>8.079666</td>\n",
              "      <td>-500.470978</td>\n",
              "      <td>14.151341</td>\n",
              "      <td>-605.841980</td>\n",
              "    </tr>\n",
              "    <tr>\n",
              "      <th>1</th>\n",
              "      <td>2016-01-15 01:00:00</td>\n",
              "      <td>6.029369</td>\n",
              "      <td>9.968944</td>\n",
              "      <td>5.257781</td>\n",
              "      <td>42.701629</td>\n",
              "      <td>69.266198</td>\n",
              "      <td>10.462676</td>\n",
              "      <td>0.927452</td>\n",
              "      <td>16.634514</td>\n",
              "      <td>2.224930</td>\n",
              "      <td>...</td>\n",
              "      <td>13.992281</td>\n",
              "      <td>-505.503262</td>\n",
              "      <td>11.950531</td>\n",
              "      <td>-501.331529</td>\n",
              "      <td>10.039245</td>\n",
              "      <td>-500.169983</td>\n",
              "      <td>7.984757</td>\n",
              "      <td>-500.582168</td>\n",
              "      <td>13.998353</td>\n",
              "      <td>-599.787184</td>\n",
              "    </tr>\n",
              "    <tr>\n",
              "      <th>2</th>\n",
              "      <td>2016-01-15 02:00:00</td>\n",
              "      <td>6.055926</td>\n",
              "      <td>10.213995</td>\n",
              "      <td>5.383759</td>\n",
              "      <td>42.657501</td>\n",
              "      <td>68.116445</td>\n",
              "      <td>10.507046</td>\n",
              "      <td>0.953716</td>\n",
              "      <td>16.208849</td>\n",
              "      <td>2.257889</td>\n",
              "      <td>...</td>\n",
              "      <td>14.015015</td>\n",
              "      <td>-502.520901</td>\n",
              "      <td>11.912783</td>\n",
              "      <td>-501.133383</td>\n",
              "      <td>10.070913</td>\n",
              "      <td>-500.129135</td>\n",
              "      <td>8.013877</td>\n",
              "      <td>-500.517572</td>\n",
              "      <td>14.028663</td>\n",
              "      <td>-601.427363</td>\n",
              "    </tr>\n",
              "    <tr>\n",
              "      <th>3</th>\n",
              "      <td>2016-01-15 03:00:00</td>\n",
              "      <td>6.047977</td>\n",
              "      <td>9.977019</td>\n",
              "      <td>4.858634</td>\n",
              "      <td>42.689819</td>\n",
              "      <td>68.347543</td>\n",
              "      <td>10.422762</td>\n",
              "      <td>0.883763</td>\n",
              "      <td>16.532835</td>\n",
              "      <td>2.146849</td>\n",
              "      <td>...</td>\n",
              "      <td>14.036510</td>\n",
              "      <td>-500.857308</td>\n",
              "      <td>11.999550</td>\n",
              "      <td>-501.193686</td>\n",
              "      <td>9.970366</td>\n",
              "      <td>-499.201640</td>\n",
              "      <td>7.977324</td>\n",
              "      <td>-500.255908</td>\n",
              "      <td>14.005551</td>\n",
              "      <td>-599.996129</td>\n",
              "    </tr>\n",
              "    <tr>\n",
              "      <th>4</th>\n",
              "      <td>2016-01-15 04:00:00</td>\n",
              "      <td>6.148599</td>\n",
              "      <td>10.142511</td>\n",
              "      <td>4.939416</td>\n",
              "      <td>42.774141</td>\n",
              "      <td>66.927016</td>\n",
              "      <td>10.360302</td>\n",
              "      <td>0.792826</td>\n",
              "      <td>16.525686</td>\n",
              "      <td>2.055292</td>\n",
              "      <td>...</td>\n",
              "      <td>14.027298</td>\n",
              "      <td>-499.838632</td>\n",
              "      <td>11.953070</td>\n",
              "      <td>-501.053894</td>\n",
              "      <td>9.925709</td>\n",
              "      <td>-501.686727</td>\n",
              "      <td>7.894242</td>\n",
              "      <td>-500.356035</td>\n",
              "      <td>13.996647</td>\n",
              "      <td>-601.496691</td>\n",
              "    </tr>\n",
              "  </tbody>\n",
              "</table>\n",
              "<p>5 rows × 87 columns</p>\n",
              "</div>"
            ],
            "text/plain": [
              "                  date  final.output.concentrate_ag  \\\n",
              "0  2016-01-15 00:00:00                     6.055403   \n",
              "1  2016-01-15 01:00:00                     6.029369   \n",
              "2  2016-01-15 02:00:00                     6.055926   \n",
              "3  2016-01-15 03:00:00                     6.047977   \n",
              "4  2016-01-15 04:00:00                     6.148599   \n",
              "\n",
              "   final.output.concentrate_pb  final.output.concentrate_sol  \\\n",
              "0                     9.889648                      5.507324   \n",
              "1                     9.968944                      5.257781   \n",
              "2                    10.213995                      5.383759   \n",
              "3                     9.977019                      4.858634   \n",
              "4                    10.142511                      4.939416   \n",
              "\n",
              "   final.output.concentrate_au  final.output.recovery  final.output.tail_ag  \\\n",
              "0                    42.192020              70.541216             10.411962   \n",
              "1                    42.701629              69.266198             10.462676   \n",
              "2                    42.657501              68.116445             10.507046   \n",
              "3                    42.689819              68.347543             10.422762   \n",
              "4                    42.774141              66.927016             10.360302   \n",
              "\n",
              "   final.output.tail_pb  final.output.tail_sol  final.output.tail_au  ...  \\\n",
              "0              0.895447              16.904297              2.143149  ...   \n",
              "1              0.927452              16.634514              2.224930  ...   \n",
              "2              0.953716              16.208849              2.257889  ...   \n",
              "3              0.883763              16.532835              2.146849  ...   \n",
              "4              0.792826              16.525686              2.055292  ...   \n",
              "\n",
              "   secondary_cleaner.state.floatbank4_a_air  \\\n",
              "0                                 14.016835   \n",
              "1                                 13.992281   \n",
              "2                                 14.015015   \n",
              "3                                 14.036510   \n",
              "4                                 14.027298   \n",
              "\n",
              "   secondary_cleaner.state.floatbank4_a_level  \\\n",
              "0                                 -502.488007   \n",
              "1                                 -505.503262   \n",
              "2                                 -502.520901   \n",
              "3                                 -500.857308   \n",
              "4                                 -499.838632   \n",
              "\n",
              "   secondary_cleaner.state.floatbank4_b_air  \\\n",
              "0                                 12.099931   \n",
              "1                                 11.950531   \n",
              "2                                 11.912783   \n",
              "3                                 11.999550   \n",
              "4                                 11.953070   \n",
              "\n",
              "   secondary_cleaner.state.floatbank4_b_level  \\\n",
              "0                                 -504.715942   \n",
              "1                                 -501.331529   \n",
              "2                                 -501.133383   \n",
              "3                                 -501.193686   \n",
              "4                                 -501.053894   \n",
              "\n",
              "   secondary_cleaner.state.floatbank5_a_air  \\\n",
              "0                                  9.925633   \n",
              "1                                 10.039245   \n",
              "2                                 10.070913   \n",
              "3                                  9.970366   \n",
              "4                                  9.925709   \n",
              "\n",
              "   secondary_cleaner.state.floatbank5_a_level  \\\n",
              "0                                 -498.310211   \n",
              "1                                 -500.169983   \n",
              "2                                 -500.129135   \n",
              "3                                 -499.201640   \n",
              "4                                 -501.686727   \n",
              "\n",
              "   secondary_cleaner.state.floatbank5_b_air  \\\n",
              "0                                  8.079666   \n",
              "1                                  7.984757   \n",
              "2                                  8.013877   \n",
              "3                                  7.977324   \n",
              "4                                  7.894242   \n",
              "\n",
              "   secondary_cleaner.state.floatbank5_b_level  \\\n",
              "0                                 -500.470978   \n",
              "1                                 -500.582168   \n",
              "2                                 -500.517572   \n",
              "3                                 -500.255908   \n",
              "4                                 -500.356035   \n",
              "\n",
              "   secondary_cleaner.state.floatbank6_a_air  \\\n",
              "0                                 14.151341   \n",
              "1                                 13.998353   \n",
              "2                                 14.028663   \n",
              "3                                 14.005551   \n",
              "4                                 13.996647   \n",
              "\n",
              "   secondary_cleaner.state.floatbank6_a_level  \n",
              "0                                 -605.841980  \n",
              "1                                 -599.787184  \n",
              "2                                 -601.427363  \n",
              "3                                 -599.996129  \n",
              "4                                 -601.496691  \n",
              "\n",
              "[5 rows x 87 columns]"
            ]
          },
          "execution_count": 8,
          "metadata": {},
          "output_type": "execute_result"
        }
      ],
      "source": [
        "full.head()"
      ]
    },
    {
      "cell_type": "code",
      "execution_count": null,
      "metadata": {
        "id": "rXybur9xxQgE",
        "outputId": "6480b557-67b1-4f72-e6ac-faa28313c641"
      },
      "outputs": [
        {
          "name": "stdout",
          "output_type": "stream",
          "text": [
            "<class 'pandas.core.frame.DataFrame'>\n",
            "RangeIndex: 19439 entries, 0 to 19438\n",
            "Data columns (total 87 columns):\n",
            " #   Column                                              Non-Null Count  Dtype  \n",
            "---  ------                                              --------------  -----  \n",
            " 0   date                                                19439 non-null  object \n",
            " 1   final.output.concentrate_ag                         19438 non-null  float64\n",
            " 2   final.output.concentrate_pb                         19438 non-null  float64\n",
            " 3   final.output.concentrate_sol                        19228 non-null  float64\n",
            " 4   final.output.concentrate_au                         19439 non-null  float64\n",
            " 5   final.output.recovery                               19439 non-null  float64\n",
            " 6   final.output.tail_ag                                19438 non-null  float64\n",
            " 7   final.output.tail_pb                                19338 non-null  float64\n",
            " 8   final.output.tail_sol                               19433 non-null  float64\n",
            " 9   final.output.tail_au                                19439 non-null  float64\n",
            " 10  primary_cleaner.input.sulfate                       19415 non-null  float64\n",
            " 11  primary_cleaner.input.depressant                    19402 non-null  float64\n",
            " 12  primary_cleaner.input.feed_size                     19439 non-null  float64\n",
            " 13  primary_cleaner.input.xanthate                      19335 non-null  float64\n",
            " 14  primary_cleaner.output.concentrate_ag               19439 non-null  float64\n",
            " 15  primary_cleaner.output.concentrate_pb               19323 non-null  float64\n",
            " 16  primary_cleaner.output.concentrate_sol              19069 non-null  float64\n",
            " 17  primary_cleaner.output.concentrate_au               19439 non-null  float64\n",
            " 18  primary_cleaner.output.tail_ag                      19435 non-null  float64\n",
            " 19  primary_cleaner.output.tail_pb                      19418 non-null  float64\n",
            " 20  primary_cleaner.output.tail_sol                     19377 non-null  float64\n",
            " 21  primary_cleaner.output.tail_au                      19439 non-null  float64\n",
            " 22  primary_cleaner.state.floatbank8_a_air              19435 non-null  float64\n",
            " 23  primary_cleaner.state.floatbank8_a_level            19438 non-null  float64\n",
            " 24  primary_cleaner.state.floatbank8_b_air              19435 non-null  float64\n",
            " 25  primary_cleaner.state.floatbank8_b_level            19438 non-null  float64\n",
            " 26  primary_cleaner.state.floatbank8_c_air              19437 non-null  float64\n",
            " 27  primary_cleaner.state.floatbank8_c_level            19438 non-null  float64\n",
            " 28  primary_cleaner.state.floatbank8_d_air              19436 non-null  float64\n",
            " 29  primary_cleaner.state.floatbank8_d_level            19438 non-null  float64\n",
            " 30  rougher.calculation.sulfate_to_au_concentrate       19437 non-null  float64\n",
            " 31  rougher.calculation.floatbank10_sulfate_to_au_feed  19437 non-null  float64\n",
            " 32  rougher.calculation.floatbank11_sulfate_to_au_feed  19437 non-null  float64\n",
            " 33  rougher.calculation.au_pb_ratio                     19439 non-null  float64\n",
            " 34  rougher.input.feed_ag                               19439 non-null  float64\n",
            " 35  rougher.input.feed_pb                               19339 non-null  float64\n",
            " 36  rougher.input.feed_rate                             19428 non-null  float64\n",
            " 37  rougher.input.feed_size                             19294 non-null  float64\n",
            " 38  rougher.input.feed_sol                              19340 non-null  float64\n",
            " 39  rougher.input.feed_au                               19439 non-null  float64\n",
            " 40  rougher.input.floatbank10_sulfate                   19405 non-null  float64\n",
            " 41  rougher.input.floatbank10_xanthate                  19431 non-null  float64\n",
            " 42  rougher.input.floatbank11_sulfate                   19395 non-null  float64\n",
            " 43  rougher.input.floatbank11_xanthate                  18986 non-null  float64\n",
            " 44  rougher.output.concentrate_ag                       19439 non-null  float64\n",
            " 45  rougher.output.concentrate_pb                       19439 non-null  float64\n",
            " 46  rougher.output.concentrate_sol                      19416 non-null  float64\n",
            " 47  rougher.output.concentrate_au                       19439 non-null  float64\n",
            " 48  rougher.output.recovery                             19439 non-null  float64\n",
            " 49  rougher.output.tail_ag                              19438 non-null  float64\n",
            " 50  rougher.output.tail_pb                              19439 non-null  float64\n",
            " 51  rougher.output.tail_sol                             19439 non-null  float64\n",
            " 52  rougher.output.tail_au                              19439 non-null  float64\n",
            " 53  rougher.state.floatbank10_a_air                     19438 non-null  float64\n",
            " 54  rougher.state.floatbank10_a_level                   19438 non-null  float64\n",
            " 55  rougher.state.floatbank10_b_air                     19438 non-null  float64\n",
            " 56  rougher.state.floatbank10_b_level                   19438 non-null  float64\n",
            " 57  rougher.state.floatbank10_c_air                     19438 non-null  float64\n",
            " 58  rougher.state.floatbank10_c_level                   19438 non-null  float64\n",
            " 59  rougher.state.floatbank10_d_air                     19439 non-null  float64\n",
            " 60  rougher.state.floatbank10_d_level                   19439 non-null  float64\n",
            " 61  rougher.state.floatbank10_e_air                     19003 non-null  float64\n",
            " 62  rougher.state.floatbank10_e_level                   19439 non-null  float64\n",
            " 63  rougher.state.floatbank10_f_air                     19439 non-null  float64\n",
            " 64  rougher.state.floatbank10_f_level                   19439 non-null  float64\n",
            " 65  secondary_cleaner.output.tail_ag                    19437 non-null  float64\n",
            " 66  secondary_cleaner.output.tail_pb                    19427 non-null  float64\n",
            " 67  secondary_cleaner.output.tail_sol                   17691 non-null  float64\n",
            " 68  secondary_cleaner.output.tail_au                    19439 non-null  float64\n",
            " 69  secondary_cleaner.state.floatbank2_a_air            19219 non-null  float64\n",
            " 70  secondary_cleaner.state.floatbank2_a_level          19438 non-null  float64\n",
            " 71  secondary_cleaner.state.floatbank2_b_air            19416 non-null  float64\n",
            " 72  secondary_cleaner.state.floatbank2_b_level          19438 non-null  float64\n",
            " 73  secondary_cleaner.state.floatbank3_a_air            19426 non-null  float64\n",
            " 74  secondary_cleaner.state.floatbank3_a_level          19438 non-null  float64\n",
            " 75  secondary_cleaner.state.floatbank3_b_air            19438 non-null  float64\n",
            " 76  secondary_cleaner.state.floatbank3_b_level          19438 non-null  float64\n",
            " 77  secondary_cleaner.state.floatbank4_a_air            19433 non-null  float64\n",
            " 78  secondary_cleaner.state.floatbank4_a_level          19438 non-null  float64\n",
            " 79  secondary_cleaner.state.floatbank4_b_air            19438 non-null  float64\n",
            " 80  secondary_cleaner.state.floatbank4_b_level          19438 non-null  float64\n",
            " 81  secondary_cleaner.state.floatbank5_a_air            19438 non-null  float64\n",
            " 82  secondary_cleaner.state.floatbank5_a_level          19438 non-null  float64\n",
            " 83  secondary_cleaner.state.floatbank5_b_air            19438 non-null  float64\n",
            " 84  secondary_cleaner.state.floatbank5_b_level          19438 non-null  float64\n",
            " 85  secondary_cleaner.state.floatbank6_a_air            19437 non-null  float64\n",
            " 86  secondary_cleaner.state.floatbank6_a_level          19438 non-null  float64\n",
            "dtypes: float64(86), object(1)\n",
            "memory usage: 12.9+ MB\n"
          ]
        }
      ],
      "source": [
        "full.info()"
      ]
    },
    {
      "cell_type": "markdown",
      "metadata": {
        "id": "8FTj-DnyxQgE"
      },
      "source": [
        "Полный датасет содержит 19439 строк и 87 колонок."
      ]
    },
    {
      "cell_type": "markdown",
      "metadata": {
        "id": "jYNVPGWcxQgE"
      },
      "source": [
        "Посмотрим на числовые показатели датасета в целом"
      ]
    },
    {
      "cell_type": "code",
      "execution_count": null,
      "metadata": {
        "id": "pg5nkfRPxQgE",
        "outputId": "6f610839-1012-4b7b-bc28-0326c7c3c34f"
      },
      "outputs": [
        {
          "data": {
            "text/html": [
              "<div>\n",
              "<style scoped>\n",
              "    .dataframe tbody tr th:only-of-type {\n",
              "        vertical-align: middle;\n",
              "    }\n",
              "\n",
              "    .dataframe tbody tr th {\n",
              "        vertical-align: top;\n",
              "    }\n",
              "\n",
              "    .dataframe thead th {\n",
              "        text-align: right;\n",
              "    }\n",
              "</style>\n",
              "<table border=\"1\" class=\"dataframe\">\n",
              "  <thead>\n",
              "    <tr style=\"text-align: right;\">\n",
              "      <th></th>\n",
              "      <th>final.output.concentrate_ag</th>\n",
              "      <th>final.output.concentrate_pb</th>\n",
              "      <th>final.output.concentrate_sol</th>\n",
              "      <th>final.output.concentrate_au</th>\n",
              "      <th>final.output.recovery</th>\n",
              "      <th>final.output.tail_ag</th>\n",
              "      <th>final.output.tail_pb</th>\n",
              "      <th>final.output.tail_sol</th>\n",
              "      <th>final.output.tail_au</th>\n",
              "      <th>primary_cleaner.input.sulfate</th>\n",
              "      <th>...</th>\n",
              "      <th>secondary_cleaner.state.floatbank4_a_air</th>\n",
              "      <th>secondary_cleaner.state.floatbank4_a_level</th>\n",
              "      <th>secondary_cleaner.state.floatbank4_b_air</th>\n",
              "      <th>secondary_cleaner.state.floatbank4_b_level</th>\n",
              "      <th>secondary_cleaner.state.floatbank5_a_air</th>\n",
              "      <th>secondary_cleaner.state.floatbank5_a_level</th>\n",
              "      <th>secondary_cleaner.state.floatbank5_b_air</th>\n",
              "      <th>secondary_cleaner.state.floatbank5_b_level</th>\n",
              "      <th>secondary_cleaner.state.floatbank6_a_air</th>\n",
              "      <th>secondary_cleaner.state.floatbank6_a_level</th>\n",
              "    </tr>\n",
              "  </thead>\n",
              "  <tbody>\n",
              "    <tr>\n",
              "      <th>count</th>\n",
              "      <td>19438.000000</td>\n",
              "      <td>19438.000000</td>\n",
              "      <td>19228.000000</td>\n",
              "      <td>19439.000000</td>\n",
              "      <td>19439.000000</td>\n",
              "      <td>19438.000000</td>\n",
              "      <td>19338.000000</td>\n",
              "      <td>19433.000000</td>\n",
              "      <td>19439.000000</td>\n",
              "      <td>19415.000000</td>\n",
              "      <td>...</td>\n",
              "      <td>19433.000000</td>\n",
              "      <td>19438.000000</td>\n",
              "      <td>19438.000000</td>\n",
              "      <td>19438.000000</td>\n",
              "      <td>19438.000000</td>\n",
              "      <td>19438.000000</td>\n",
              "      <td>19438.000000</td>\n",
              "      <td>19438.000000</td>\n",
              "      <td>19437.000000</td>\n",
              "      <td>19438.000000</td>\n",
              "    </tr>\n",
              "    <tr>\n",
              "      <th>mean</th>\n",
              "      <td>5.168470</td>\n",
              "      <td>9.978895</td>\n",
              "      <td>9.501224</td>\n",
              "      <td>44.076513</td>\n",
              "      <td>67.050208</td>\n",
              "      <td>9.688589</td>\n",
              "      <td>2.705795</td>\n",
              "      <td>10.583728</td>\n",
              "      <td>3.042467</td>\n",
              "      <td>144.624774</td>\n",
              "      <td>...</td>\n",
              "      <td>18.987674</td>\n",
              "      <td>-485.894516</td>\n",
              "      <td>15.010366</td>\n",
              "      <td>-461.078636</td>\n",
              "      <td>15.694452</td>\n",
              "      <td>-488.684065</td>\n",
              "      <td>12.198224</td>\n",
              "      <td>-487.149827</td>\n",
              "      <td>18.959024</td>\n",
              "      <td>-505.436305</td>\n",
              "    </tr>\n",
              "    <tr>\n",
              "      <th>std</th>\n",
              "      <td>1.372348</td>\n",
              "      <td>1.669240</td>\n",
              "      <td>2.787537</td>\n",
              "      <td>5.129784</td>\n",
              "      <td>10.125840</td>\n",
              "      <td>2.328642</td>\n",
              "      <td>0.949077</td>\n",
              "      <td>2.868782</td>\n",
              "      <td>0.922808</td>\n",
              "      <td>44.464071</td>\n",
              "      <td>...</td>\n",
              "      <td>5.411058</td>\n",
              "      <td>47.758570</td>\n",
              "      <td>4.890228</td>\n",
              "      <td>67.405524</td>\n",
              "      <td>5.510974</td>\n",
              "      <td>34.533396</td>\n",
              "      <td>5.333024</td>\n",
              "      <td>38.347312</td>\n",
              "      <td>5.550498</td>\n",
              "      <td>37.689057</td>\n",
              "    </tr>\n",
              "    <tr>\n",
              "      <th>min</th>\n",
              "      <td>0.000000</td>\n",
              "      <td>0.000000</td>\n",
              "      <td>0.000000</td>\n",
              "      <td>0.000000</td>\n",
              "      <td>0.000000</td>\n",
              "      <td>0.000000</td>\n",
              "      <td>0.000000</td>\n",
              "      <td>0.000000</td>\n",
              "      <td>0.000000</td>\n",
              "      <td>0.003112</td>\n",
              "      <td>...</td>\n",
              "      <td>0.000000</td>\n",
              "      <td>-799.798523</td>\n",
              "      <td>0.000000</td>\n",
              "      <td>-800.836914</td>\n",
              "      <td>-0.372054</td>\n",
              "      <td>-797.323986</td>\n",
              "      <td>0.528083</td>\n",
              "      <td>-800.220337</td>\n",
              "      <td>-0.079426</td>\n",
              "      <td>-809.741464</td>\n",
              "    </tr>\n",
              "    <tr>\n",
              "      <th>25%</th>\n",
              "      <td>4.251240</td>\n",
              "      <td>9.137262</td>\n",
              "      <td>7.722820</td>\n",
              "      <td>43.402215</td>\n",
              "      <td>63.299712</td>\n",
              "      <td>8.062878</td>\n",
              "      <td>2.040119</td>\n",
              "      <td>8.938947</td>\n",
              "      <td>2.461138</td>\n",
              "      <td>114.107029</td>\n",
              "      <td>...</td>\n",
              "      <td>14.975734</td>\n",
              "      <td>-500.704892</td>\n",
              "      <td>11.940294</td>\n",
              "      <td>-500.187742</td>\n",
              "      <td>10.988606</td>\n",
              "      <td>-500.458467</td>\n",
              "      <td>8.971105</td>\n",
              "      <td>-500.129462</td>\n",
              "      <td>14.983037</td>\n",
              "      <td>-500.728067</td>\n",
              "    </tr>\n",
              "    <tr>\n",
              "      <th>50%</th>\n",
              "      <td>5.066094</td>\n",
              "      <td>10.102433</td>\n",
              "      <td>9.218961</td>\n",
              "      <td>45.011244</td>\n",
              "      <td>68.172738</td>\n",
              "      <td>9.743623</td>\n",
              "      <td>2.748730</td>\n",
              "      <td>10.622456</td>\n",
              "      <td>2.984909</td>\n",
              "      <td>143.232103</td>\n",
              "      <td>...</td>\n",
              "      <td>18.017481</td>\n",
              "      <td>-499.837793</td>\n",
              "      <td>14.971014</td>\n",
              "      <td>-499.459786</td>\n",
              "      <td>15.000036</td>\n",
              "      <td>-499.802605</td>\n",
              "      <td>11.019433</td>\n",
              "      <td>-499.935317</td>\n",
              "      <td>19.960541</td>\n",
              "      <td>-500.048400</td>\n",
              "    </tr>\n",
              "    <tr>\n",
              "      <th>75%</th>\n",
              "      <td>5.895527</td>\n",
              "      <td>11.035769</td>\n",
              "      <td>10.947813</td>\n",
              "      <td>46.275313</td>\n",
              "      <td>72.686642</td>\n",
              "      <td>11.134294</td>\n",
              "      <td>3.333216</td>\n",
              "      <td>12.104271</td>\n",
              "      <td>3.571351</td>\n",
              "      <td>175.075656</td>\n",
              "      <td>...</td>\n",
              "      <td>23.012470</td>\n",
              "      <td>-498.249730</td>\n",
              "      <td>19.034162</td>\n",
              "      <td>-400.118106</td>\n",
              "      <td>18.026190</td>\n",
              "      <td>-498.384187</td>\n",
              "      <td>14.019088</td>\n",
              "      <td>-499.436708</td>\n",
              "      <td>24.003170</td>\n",
              "      <td>-499.495378</td>\n",
              "    </tr>\n",
              "    <tr>\n",
              "      <th>max</th>\n",
              "      <td>16.001945</td>\n",
              "      <td>17.031899</td>\n",
              "      <td>19.615720</td>\n",
              "      <td>52.756638</td>\n",
              "      <td>100.000000</td>\n",
              "      <td>19.552149</td>\n",
              "      <td>5.804178</td>\n",
              "      <td>22.317730</td>\n",
              "      <td>8.245022</td>\n",
              "      <td>265.983123</td>\n",
              "      <td>...</td>\n",
              "      <td>30.115735</td>\n",
              "      <td>-245.239184</td>\n",
              "      <td>31.269706</td>\n",
              "      <td>-6.506986</td>\n",
              "      <td>43.709931</td>\n",
              "      <td>-244.483566</td>\n",
              "      <td>27.926001</td>\n",
              "      <td>-137.740004</td>\n",
              "      <td>32.188906</td>\n",
              "      <td>-104.427459</td>\n",
              "    </tr>\n",
              "  </tbody>\n",
              "</table>\n",
              "<p>8 rows × 86 columns</p>\n",
              "</div>"
            ],
            "text/plain": [
              "       final.output.concentrate_ag  final.output.concentrate_pb  \\\n",
              "count                 19438.000000                 19438.000000   \n",
              "mean                      5.168470                     9.978895   \n",
              "std                       1.372348                     1.669240   \n",
              "min                       0.000000                     0.000000   \n",
              "25%                       4.251240                     9.137262   \n",
              "50%                       5.066094                    10.102433   \n",
              "75%                       5.895527                    11.035769   \n",
              "max                      16.001945                    17.031899   \n",
              "\n",
              "       final.output.concentrate_sol  final.output.concentrate_au  \\\n",
              "count                  19228.000000                 19439.000000   \n",
              "mean                       9.501224                    44.076513   \n",
              "std                        2.787537                     5.129784   \n",
              "min                        0.000000                     0.000000   \n",
              "25%                        7.722820                    43.402215   \n",
              "50%                        9.218961                    45.011244   \n",
              "75%                       10.947813                    46.275313   \n",
              "max                       19.615720                    52.756638   \n",
              "\n",
              "       final.output.recovery  final.output.tail_ag  final.output.tail_pb  \\\n",
              "count           19439.000000          19438.000000          19338.000000   \n",
              "mean               67.050208              9.688589              2.705795   \n",
              "std                10.125840              2.328642              0.949077   \n",
              "min                 0.000000              0.000000              0.000000   \n",
              "25%                63.299712              8.062878              2.040119   \n",
              "50%                68.172738              9.743623              2.748730   \n",
              "75%                72.686642             11.134294              3.333216   \n",
              "max               100.000000             19.552149              5.804178   \n",
              "\n",
              "       final.output.tail_sol  final.output.tail_au  \\\n",
              "count           19433.000000          19439.000000   \n",
              "mean               10.583728              3.042467   \n",
              "std                 2.868782              0.922808   \n",
              "min                 0.000000              0.000000   \n",
              "25%                 8.938947              2.461138   \n",
              "50%                10.622456              2.984909   \n",
              "75%                12.104271              3.571351   \n",
              "max                22.317730              8.245022   \n",
              "\n",
              "       primary_cleaner.input.sulfate  ...  \\\n",
              "count                   19415.000000  ...   \n",
              "mean                      144.624774  ...   \n",
              "std                        44.464071  ...   \n",
              "min                         0.003112  ...   \n",
              "25%                       114.107029  ...   \n",
              "50%                       143.232103  ...   \n",
              "75%                       175.075656  ...   \n",
              "max                       265.983123  ...   \n",
              "\n",
              "       secondary_cleaner.state.floatbank4_a_air  \\\n",
              "count                              19433.000000   \n",
              "mean                                  18.987674   \n",
              "std                                    5.411058   \n",
              "min                                    0.000000   \n",
              "25%                                   14.975734   \n",
              "50%                                   18.017481   \n",
              "75%                                   23.012470   \n",
              "max                                   30.115735   \n",
              "\n",
              "       secondary_cleaner.state.floatbank4_a_level  \\\n",
              "count                                19438.000000   \n",
              "mean                                  -485.894516   \n",
              "std                                     47.758570   \n",
              "min                                   -799.798523   \n",
              "25%                                   -500.704892   \n",
              "50%                                   -499.837793   \n",
              "75%                                   -498.249730   \n",
              "max                                   -245.239184   \n",
              "\n",
              "       secondary_cleaner.state.floatbank4_b_air  \\\n",
              "count                              19438.000000   \n",
              "mean                                  15.010366   \n",
              "std                                    4.890228   \n",
              "min                                    0.000000   \n",
              "25%                                   11.940294   \n",
              "50%                                   14.971014   \n",
              "75%                                   19.034162   \n",
              "max                                   31.269706   \n",
              "\n",
              "       secondary_cleaner.state.floatbank4_b_level  \\\n",
              "count                                19438.000000   \n",
              "mean                                  -461.078636   \n",
              "std                                     67.405524   \n",
              "min                                   -800.836914   \n",
              "25%                                   -500.187742   \n",
              "50%                                   -499.459786   \n",
              "75%                                   -400.118106   \n",
              "max                                     -6.506986   \n",
              "\n",
              "       secondary_cleaner.state.floatbank5_a_air  \\\n",
              "count                              19438.000000   \n",
              "mean                                  15.694452   \n",
              "std                                    5.510974   \n",
              "min                                   -0.372054   \n",
              "25%                                   10.988606   \n",
              "50%                                   15.000036   \n",
              "75%                                   18.026190   \n",
              "max                                   43.709931   \n",
              "\n",
              "       secondary_cleaner.state.floatbank5_a_level  \\\n",
              "count                                19438.000000   \n",
              "mean                                  -488.684065   \n",
              "std                                     34.533396   \n",
              "min                                   -797.323986   \n",
              "25%                                   -500.458467   \n",
              "50%                                   -499.802605   \n",
              "75%                                   -498.384187   \n",
              "max                                   -244.483566   \n",
              "\n",
              "       secondary_cleaner.state.floatbank5_b_air  \\\n",
              "count                              19438.000000   \n",
              "mean                                  12.198224   \n",
              "std                                    5.333024   \n",
              "min                                    0.528083   \n",
              "25%                                    8.971105   \n",
              "50%                                   11.019433   \n",
              "75%                                   14.019088   \n",
              "max                                   27.926001   \n",
              "\n",
              "       secondary_cleaner.state.floatbank5_b_level  \\\n",
              "count                                19438.000000   \n",
              "mean                                  -487.149827   \n",
              "std                                     38.347312   \n",
              "min                                   -800.220337   \n",
              "25%                                   -500.129462   \n",
              "50%                                   -499.935317   \n",
              "75%                                   -499.436708   \n",
              "max                                   -137.740004   \n",
              "\n",
              "       secondary_cleaner.state.floatbank6_a_air  \\\n",
              "count                              19437.000000   \n",
              "mean                                  18.959024   \n",
              "std                                    5.550498   \n",
              "min                                   -0.079426   \n",
              "25%                                   14.983037   \n",
              "50%                                   19.960541   \n",
              "75%                                   24.003170   \n",
              "max                                   32.188906   \n",
              "\n",
              "       secondary_cleaner.state.floatbank6_a_level  \n",
              "count                                19438.000000  \n",
              "mean                                  -505.436305  \n",
              "std                                     37.689057  \n",
              "min                                   -809.741464  \n",
              "25%                                   -500.728067  \n",
              "50%                                   -500.048400  \n",
              "75%                                   -499.495378  \n",
              "max                                   -104.427459  \n",
              "\n",
              "[8 rows x 86 columns]"
            ]
          },
          "execution_count": 10,
          "metadata": {},
          "output_type": "execute_result"
        }
      ],
      "source": [
        "full.describe()"
      ]
    },
    {
      "cell_type": "markdown",
      "metadata": {
        "id": "4_bKOkHlxQgF"
      },
      "source": [
        "Некоторые колонки имеют достаточно большой разброс. Некоторые дажи отрицательный значения."
      ]
    },
    {
      "cell_type": "markdown",
      "metadata": {
        "id": "8yNJAkrPxQgF"
      },
      "source": [
        "Проверим, что эффективность обогащения рассчитана правильно на обучающей выборке"
      ]
    },
    {
      "cell_type": "code",
      "execution_count": null,
      "metadata": {
        "id": "P6uspSZfxQgF",
        "outputId": "3596c31e-caef-4b97-a7c9-b670320db2a8"
      },
      "outputs": [
        {
          "name": "stdout",
          "output_type": "stream",
          "text": [
            "Абсолютная средняя ошибка = 9.73512347450521e-15\n"
          ]
        }
      ],
      "source": [
        "train['calculated_recovery'] = (train['rougher.output.concentrate_au']*\n",
        "                          (train['rougher.input.feed_au'] - train['rougher.output.tail_au']))/(train['rougher.input.feed_au']*\n",
        "                            (train['rougher.output.concentrate_au'] - train['rougher.output.tail_au']))*100\n",
        "print('Абсолютная средняя ошибка =', mean_absolute_error(train['rougher.output.recovery'], train['calculated_recovery']))"
      ]
    },
    {
      "cell_type": "markdown",
      "metadata": {
        "id": "FV3jZ4wJxQgF"
      },
      "source": [
        "Абсолютная средняя ошибка крайне мала, значит эффективность обогащения расчитана верно. Удалим эту колонку, чтобы она не мешла в будущем."
      ]
    },
    {
      "cell_type": "code",
      "execution_count": null,
      "metadata": {
        "id": "fsyxQr_JxQgG"
      },
      "outputs": [],
      "source": [
        "train = train.drop(columns='calculated_recovery', axis=1)"
      ]
    },
    {
      "cell_type": "markdown",
      "metadata": {
        "id": "vJiTLtAtxQgJ"
      },
      "source": [
        "Проверим дубликаты на полном датасете"
      ]
    },
    {
      "cell_type": "code",
      "execution_count": null,
      "metadata": {
        "id": "kLqzPWmbxQgJ",
        "outputId": "e57a8c5d-4a99-4254-f385-cab24c62f7c7"
      },
      "outputs": [
        {
          "data": {
            "text/plain": [
              "0"
            ]
          },
          "execution_count": 13,
          "metadata": {},
          "output_type": "execute_result"
        }
      ],
      "source": [
        "full.duplicated().sum()"
      ]
    },
    {
      "cell_type": "markdown",
      "metadata": {
        "id": "gMHN8F-9xQgJ"
      },
      "source": [
        "Дубликаты отсутствуют"
      ]
    },
    {
      "cell_type": "markdown",
      "metadata": {
        "id": "NJJ0A0xNxQgJ"
      },
      "source": [
        "Рассмотрим пропуски в данных, начнем с полной таблицы, затем проверим обучающую и тестовую"
      ]
    },
    {
      "cell_type": "code",
      "execution_count": null,
      "metadata": {
        "id": "-Rgnd4wdxQgJ",
        "outputId": "1c4d320f-df80-4541-db87-7d524d94c37b"
      },
      "outputs": [
        {
          "data": {
            "text/html": [
              "<style  type=\"text/css\" >\n",
              "#T_e5919_row0_col0{\n",
              "            background-color:  #b40426;\n",
              "            color:  #f1f1f1;\n",
              "        }#T_e5919_row1_col0,#T_e5919_row2_col0,#T_e5919_row3_col0{\n",
              "            background-color:  #82a6fb;\n",
              "            color:  #000000;\n",
              "        }#T_e5919_row4_col0,#T_e5919_row5_col0,#T_e5919_row6_col0,#T_e5919_row7_col0,#T_e5919_row8_col0,#T_e5919_row9_col0,#T_e5919_row10_col0,#T_e5919_row11_col0{\n",
              "            background-color:  #5d7ce6;\n",
              "            color:  #000000;\n",
              "        }#T_e5919_row12_col0,#T_e5919_row13_col0,#T_e5919_row14_col0,#T_e5919_row15_col0,#T_e5919_row16_col0,#T_e5919_row17_col0,#T_e5919_row18_col0,#T_e5919_row19_col0,#T_e5919_row20_col0,#T_e5919_row21_col0,#T_e5919_row22_col0,#T_e5919_row23_col0,#T_e5919_row24_col0,#T_e5919_row25_col0,#T_e5919_row26_col0,#T_e5919_row27_col0,#T_e5919_row28_col0,#T_e5919_row29_col0,#T_e5919_row30_col0,#T_e5919_row31_col0,#T_e5919_row32_col0,#T_e5919_row33_col0,#T_e5919_row34_col0,#T_e5919_row35_col0,#T_e5919_row36_col0,#T_e5919_row37_col0,#T_e5919_row38_col0,#T_e5919_row39_col0,#T_e5919_row40_col0,#T_e5919_row41_col0,#T_e5919_row42_col0,#T_e5919_row43_col0,#T_e5919_row44_col0,#T_e5919_row45_col0,#T_e5919_row46_col0,#T_e5919_row47_col0,#T_e5919_row48_col0,#T_e5919_row49_col0,#T_e5919_row50_col0,#T_e5919_row51_col0,#T_e5919_row52_col0,#T_e5919_row53_col0,#T_e5919_row54_col0,#T_e5919_row55_col0,#T_e5919_row56_col0,#T_e5919_row57_col0,#T_e5919_row58_col0,#T_e5919_row59_col0,#T_e5919_row60_col0,#T_e5919_row61_col0,#T_e5919_row62_col0,#T_e5919_row63_col0,#T_e5919_row64_col0,#T_e5919_row65_col0,#T_e5919_row66_col0,#T_e5919_row67_col0,#T_e5919_row68_col0,#T_e5919_row69_col0,#T_e5919_row70_col0,#T_e5919_row71_col0,#T_e5919_row72_col0,#T_e5919_row73_col0,#T_e5919_row74_col0,#T_e5919_row75_col0,#T_e5919_row76_col0,#T_e5919_row77_col0,#T_e5919_row78_col0,#T_e5919_row79_col0,#T_e5919_row80_col0,#T_e5919_row81_col0,#T_e5919_row82_col0,#T_e5919_row83_col0,#T_e5919_row84_col0,#T_e5919_row85_col0,#T_e5919_row86_col0{\n",
              "            background-color:  #3b4cc0;\n",
              "            color:  #f1f1f1;\n",
              "        }</style><table id=\"T_e5919_\" ><thead>    <tr>        <th class=\"blank level0\" ></th>        <th class=\"col_heading level0 col0\" >0</th>    </tr></thead><tbody>\n",
              "                <tr>\n",
              "                        <th id=\"T_e5919_level0_row0\" class=\"row_heading level0 row0\" >secondary_cleaner.output.tail_sol</th>\n",
              "                        <td id=\"T_e5919_row0_col0\" class=\"data row0 col0\" >9.000000</td>\n",
              "            </tr>\n",
              "            <tr>\n",
              "                        <th id=\"T_e5919_level0_row1\" class=\"row_heading level0 row1\" >rougher.input.floatbank11_xanthate</th>\n",
              "                        <td id=\"T_e5919_row1_col0\" class=\"data row1 col0\" >2.000000</td>\n",
              "            </tr>\n",
              "            <tr>\n",
              "                        <th id=\"T_e5919_level0_row2\" class=\"row_heading level0 row2\" >rougher.state.floatbank10_e_air</th>\n",
              "                        <td id=\"T_e5919_row2_col0\" class=\"data row2 col0\" >2.000000</td>\n",
              "            </tr>\n",
              "            <tr>\n",
              "                        <th id=\"T_e5919_level0_row3\" class=\"row_heading level0 row3\" >primary_cleaner.output.concentrate_sol</th>\n",
              "                        <td id=\"T_e5919_row3_col0\" class=\"data row3 col0\" >2.000000</td>\n",
              "            </tr>\n",
              "            <tr>\n",
              "                        <th id=\"T_e5919_level0_row4\" class=\"row_heading level0 row4\" >primary_cleaner.input.xanthate</th>\n",
              "                        <td id=\"T_e5919_row4_col0\" class=\"data row4 col0\" >1.000000</td>\n",
              "            </tr>\n",
              "            <tr>\n",
              "                        <th id=\"T_e5919_level0_row5\" class=\"row_heading level0 row5\" >rougher.input.feed_sol</th>\n",
              "                        <td id=\"T_e5919_row5_col0\" class=\"data row5 col0\" >1.000000</td>\n",
              "            </tr>\n",
              "            <tr>\n",
              "                        <th id=\"T_e5919_level0_row6\" class=\"row_heading level0 row6\" >rougher.input.feed_size</th>\n",
              "                        <td id=\"T_e5919_row6_col0\" class=\"data row6 col0\" >1.000000</td>\n",
              "            </tr>\n",
              "            <tr>\n",
              "                        <th id=\"T_e5919_level0_row7\" class=\"row_heading level0 row7\" >rougher.input.feed_pb</th>\n",
              "                        <td id=\"T_e5919_row7_col0\" class=\"data row7 col0\" >1.000000</td>\n",
              "            </tr>\n",
              "            <tr>\n",
              "                        <th id=\"T_e5919_level0_row8\" class=\"row_heading level0 row8\" >primary_cleaner.output.concentrate_pb</th>\n",
              "                        <td id=\"T_e5919_row8_col0\" class=\"data row8 col0\" >1.000000</td>\n",
              "            </tr>\n",
              "            <tr>\n",
              "                        <th id=\"T_e5919_level0_row9\" class=\"row_heading level0 row9\" >secondary_cleaner.state.floatbank2_a_air</th>\n",
              "                        <td id=\"T_e5919_row9_col0\" class=\"data row9 col0\" >1.000000</td>\n",
              "            </tr>\n",
              "            <tr>\n",
              "                        <th id=\"T_e5919_level0_row10\" class=\"row_heading level0 row10\" >final.output.tail_pb</th>\n",
              "                        <td id=\"T_e5919_row10_col0\" class=\"data row10 col0\" >1.000000</td>\n",
              "            </tr>\n",
              "            <tr>\n",
              "                        <th id=\"T_e5919_level0_row11\" class=\"row_heading level0 row11\" >final.output.concentrate_sol</th>\n",
              "                        <td id=\"T_e5919_row11_col0\" class=\"data row11 col0\" >1.000000</td>\n",
              "            </tr>\n",
              "            <tr>\n",
              "                        <th id=\"T_e5919_level0_row12\" class=\"row_heading level0 row12\" >secondary_cleaner.state.floatbank4_b_air</th>\n",
              "                        <td id=\"T_e5919_row12_col0\" class=\"data row12 col0\" >0.000000</td>\n",
              "            </tr>\n",
              "            <tr>\n",
              "                        <th id=\"T_e5919_level0_row13\" class=\"row_heading level0 row13\" >secondary_cleaner.state.floatbank6_a_air</th>\n",
              "                        <td id=\"T_e5919_row13_col0\" class=\"data row13 col0\" >0.000000</td>\n",
              "            </tr>\n",
              "            <tr>\n",
              "                        <th id=\"T_e5919_level0_row14\" class=\"row_heading level0 row14\" >secondary_cleaner.state.floatbank5_b_air</th>\n",
              "                        <td id=\"T_e5919_row14_col0\" class=\"data row14 col0\" >0.000000</td>\n",
              "            </tr>\n",
              "            <tr>\n",
              "                        <th id=\"T_e5919_level0_row15\" class=\"row_heading level0 row15\" >rougher.state.floatbank10_d_level</th>\n",
              "                        <td id=\"T_e5919_row15_col0\" class=\"data row15 col0\" >0.000000</td>\n",
              "            </tr>\n",
              "            <tr>\n",
              "                        <th id=\"T_e5919_level0_row16\" class=\"row_heading level0 row16\" >rougher.state.floatbank10_d_air</th>\n",
              "                        <td id=\"T_e5919_row16_col0\" class=\"data row16 col0\" >0.000000</td>\n",
              "            </tr>\n",
              "            <tr>\n",
              "                        <th id=\"T_e5919_level0_row17\" class=\"row_heading level0 row17\" >rougher.state.floatbank10_c_level</th>\n",
              "                        <td id=\"T_e5919_row17_col0\" class=\"data row17 col0\" >0.000000</td>\n",
              "            </tr>\n",
              "            <tr>\n",
              "                        <th id=\"T_e5919_level0_row18\" class=\"row_heading level0 row18\" >secondary_cleaner.state.floatbank5_b_level</th>\n",
              "                        <td id=\"T_e5919_row18_col0\" class=\"data row18 col0\" >0.000000</td>\n",
              "            </tr>\n",
              "            <tr>\n",
              "                        <th id=\"T_e5919_level0_row19\" class=\"row_heading level0 row19\" >rougher.state.floatbank10_c_air</th>\n",
              "                        <td id=\"T_e5919_row19_col0\" class=\"data row19 col0\" >0.000000</td>\n",
              "            </tr>\n",
              "            <tr>\n",
              "                        <th id=\"T_e5919_level0_row20\" class=\"row_heading level0 row20\" >rougher.state.floatbank10_b_level</th>\n",
              "                        <td id=\"T_e5919_row20_col0\" class=\"data row20 col0\" >0.000000</td>\n",
              "            </tr>\n",
              "            <tr>\n",
              "                        <th id=\"T_e5919_level0_row21\" class=\"row_heading level0 row21\" >rougher.state.floatbank10_f_air</th>\n",
              "                        <td id=\"T_e5919_row21_col0\" class=\"data row21 col0\" >0.000000</td>\n",
              "            </tr>\n",
              "            <tr>\n",
              "                        <th id=\"T_e5919_level0_row22\" class=\"row_heading level0 row22\" >rougher.state.floatbank10_b_air</th>\n",
              "                        <td id=\"T_e5919_row22_col0\" class=\"data row22 col0\" >0.000000</td>\n",
              "            </tr>\n",
              "            <tr>\n",
              "                        <th id=\"T_e5919_level0_row23\" class=\"row_heading level0 row23\" >rougher.state.floatbank10_a_level</th>\n",
              "                        <td id=\"T_e5919_row23_col0\" class=\"data row23 col0\" >0.000000</td>\n",
              "            </tr>\n",
              "            <tr>\n",
              "                        <th id=\"T_e5919_level0_row24\" class=\"row_heading level0 row24\" >rougher.state.floatbank10_a_air</th>\n",
              "                        <td id=\"T_e5919_row24_col0\" class=\"data row24 col0\" >0.000000</td>\n",
              "            </tr>\n",
              "            <tr>\n",
              "                        <th id=\"T_e5919_level0_row25\" class=\"row_heading level0 row25\" >rougher.output.tail_au</th>\n",
              "                        <td id=\"T_e5919_row25_col0\" class=\"data row25 col0\" >0.000000</td>\n",
              "            </tr>\n",
              "            <tr>\n",
              "                        <th id=\"T_e5919_level0_row26\" class=\"row_heading level0 row26\" >rougher.output.tail_sol</th>\n",
              "                        <td id=\"T_e5919_row26_col0\" class=\"data row26 col0\" >0.000000</td>\n",
              "            </tr>\n",
              "            <tr>\n",
              "                        <th id=\"T_e5919_level0_row27\" class=\"row_heading level0 row27\" >rougher.output.tail_pb</th>\n",
              "                        <td id=\"T_e5919_row27_col0\" class=\"data row27 col0\" >0.000000</td>\n",
              "            </tr>\n",
              "            <tr>\n",
              "                        <th id=\"T_e5919_level0_row28\" class=\"row_heading level0 row28\" >rougher.state.floatbank10_e_level</th>\n",
              "                        <td id=\"T_e5919_row28_col0\" class=\"data row28 col0\" >0.000000</td>\n",
              "            </tr>\n",
              "            <tr>\n",
              "                        <th id=\"T_e5919_level0_row29\" class=\"row_heading level0 row29\" >rougher.state.floatbank10_f_level</th>\n",
              "                        <td id=\"T_e5919_row29_col0\" class=\"data row29 col0\" >0.000000</td>\n",
              "            </tr>\n",
              "            <tr>\n",
              "                        <th id=\"T_e5919_level0_row30\" class=\"row_heading level0 row30\" >secondary_cleaner.state.floatbank4_a_level</th>\n",
              "                        <td id=\"T_e5919_row30_col0\" class=\"data row30 col0\" >0.000000</td>\n",
              "            </tr>\n",
              "            <tr>\n",
              "                        <th id=\"T_e5919_level0_row31\" class=\"row_heading level0 row31\" >secondary_cleaner.state.floatbank3_a_air</th>\n",
              "                        <td id=\"T_e5919_row31_col0\" class=\"data row31 col0\" >0.000000</td>\n",
              "            </tr>\n",
              "            <tr>\n",
              "                        <th id=\"T_e5919_level0_row32\" class=\"row_heading level0 row32\" >secondary_cleaner.state.floatbank4_a_air</th>\n",
              "                        <td id=\"T_e5919_row32_col0\" class=\"data row32 col0\" >0.000000</td>\n",
              "            </tr>\n",
              "            <tr>\n",
              "                        <th id=\"T_e5919_level0_row33\" class=\"row_heading level0 row33\" >secondary_cleaner.state.floatbank4_b_level</th>\n",
              "                        <td id=\"T_e5919_row33_col0\" class=\"data row33 col0\" >0.000000</td>\n",
              "            </tr>\n",
              "            <tr>\n",
              "                        <th id=\"T_e5919_level0_row34\" class=\"row_heading level0 row34\" >secondary_cleaner.state.floatbank3_b_level</th>\n",
              "                        <td id=\"T_e5919_row34_col0\" class=\"data row34 col0\" >0.000000</td>\n",
              "            </tr>\n",
              "            <tr>\n",
              "                        <th id=\"T_e5919_level0_row35\" class=\"row_heading level0 row35\" >secondary_cleaner.state.floatbank5_a_air</th>\n",
              "                        <td id=\"T_e5919_row35_col0\" class=\"data row35 col0\" >0.000000</td>\n",
              "            </tr>\n",
              "            <tr>\n",
              "                        <th id=\"T_e5919_level0_row36\" class=\"row_heading level0 row36\" >secondary_cleaner.state.floatbank3_b_air</th>\n",
              "                        <td id=\"T_e5919_row36_col0\" class=\"data row36 col0\" >0.000000</td>\n",
              "            </tr>\n",
              "            <tr>\n",
              "                        <th id=\"T_e5919_level0_row37\" class=\"row_heading level0 row37\" >secondary_cleaner.state.floatbank3_a_level</th>\n",
              "                        <td id=\"T_e5919_row37_col0\" class=\"data row37 col0\" >0.000000</td>\n",
              "            </tr>\n",
              "            <tr>\n",
              "                        <th id=\"T_e5919_level0_row38\" class=\"row_heading level0 row38\" >secondary_cleaner.state.floatbank2_b_level</th>\n",
              "                        <td id=\"T_e5919_row38_col0\" class=\"data row38 col0\" >0.000000</td>\n",
              "            </tr>\n",
              "            <tr>\n",
              "                        <th id=\"T_e5919_level0_row39\" class=\"row_heading level0 row39\" >secondary_cleaner.output.tail_ag</th>\n",
              "                        <td id=\"T_e5919_row39_col0\" class=\"data row39 col0\" >0.000000</td>\n",
              "            </tr>\n",
              "            <tr>\n",
              "                        <th id=\"T_e5919_level0_row40\" class=\"row_heading level0 row40\" >secondary_cleaner.state.floatbank2_b_air</th>\n",
              "                        <td id=\"T_e5919_row40_col0\" class=\"data row40 col0\" >0.000000</td>\n",
              "            </tr>\n",
              "            <tr>\n",
              "                        <th id=\"T_e5919_level0_row41\" class=\"row_heading level0 row41\" >secondary_cleaner.state.floatbank2_a_level</th>\n",
              "                        <td id=\"T_e5919_row41_col0\" class=\"data row41 col0\" >0.000000</td>\n",
              "            </tr>\n",
              "            <tr>\n",
              "                        <th id=\"T_e5919_level0_row42\" class=\"row_heading level0 row42\" >rougher.output.recovery</th>\n",
              "                        <td id=\"T_e5919_row42_col0\" class=\"data row42 col0\" >0.000000</td>\n",
              "            </tr>\n",
              "            <tr>\n",
              "                        <th id=\"T_e5919_level0_row43\" class=\"row_heading level0 row43\" >secondary_cleaner.output.tail_au</th>\n",
              "                        <td id=\"T_e5919_row43_col0\" class=\"data row43 col0\" >0.000000</td>\n",
              "            </tr>\n",
              "            <tr>\n",
              "                        <th id=\"T_e5919_level0_row44\" class=\"row_heading level0 row44\" >secondary_cleaner.state.floatbank5_a_level</th>\n",
              "                        <td id=\"T_e5919_row44_col0\" class=\"data row44 col0\" >0.000000</td>\n",
              "            </tr>\n",
              "            <tr>\n",
              "                        <th id=\"T_e5919_level0_row45\" class=\"row_heading level0 row45\" >secondary_cleaner.output.tail_pb</th>\n",
              "                        <td id=\"T_e5919_row45_col0\" class=\"data row45 col0\" >0.000000</td>\n",
              "            </tr>\n",
              "            <tr>\n",
              "                        <th id=\"T_e5919_level0_row46\" class=\"row_heading level0 row46\" >rougher.output.tail_ag</th>\n",
              "                        <td id=\"T_e5919_row46_col0\" class=\"data row46 col0\" >0.000000</td>\n",
              "            </tr>\n",
              "            <tr>\n",
              "                        <th id=\"T_e5919_level0_row47\" class=\"row_heading level0 row47\" >date</th>\n",
              "                        <td id=\"T_e5919_row47_col0\" class=\"data row47 col0\" >0.000000</td>\n",
              "            </tr>\n",
              "            <tr>\n",
              "                        <th id=\"T_e5919_level0_row48\" class=\"row_heading level0 row48\" >rougher.output.concentrate_au</th>\n",
              "                        <td id=\"T_e5919_row48_col0\" class=\"data row48 col0\" >0.000000</td>\n",
              "            </tr>\n",
              "            <tr>\n",
              "                        <th id=\"T_e5919_level0_row49\" class=\"row_heading level0 row49\" >primary_cleaner.input.feed_size</th>\n",
              "                        <td id=\"T_e5919_row49_col0\" class=\"data row49 col0\" >0.000000</td>\n",
              "            </tr>\n",
              "            <tr>\n",
              "                        <th id=\"T_e5919_level0_row50\" class=\"row_heading level0 row50\" >primary_cleaner.state.floatbank8_a_air</th>\n",
              "                        <td id=\"T_e5919_row50_col0\" class=\"data row50 col0\" >0.000000</td>\n",
              "            </tr>\n",
              "            <tr>\n",
              "                        <th id=\"T_e5919_level0_row51\" class=\"row_heading level0 row51\" >primary_cleaner.output.tail_au</th>\n",
              "                        <td id=\"T_e5919_row51_col0\" class=\"data row51 col0\" >0.000000</td>\n",
              "            </tr>\n",
              "            <tr>\n",
              "                        <th id=\"T_e5919_level0_row52\" class=\"row_heading level0 row52\" >primary_cleaner.output.tail_sol</th>\n",
              "                        <td id=\"T_e5919_row52_col0\" class=\"data row52 col0\" >0.000000</td>\n",
              "            </tr>\n",
              "            <tr>\n",
              "                        <th id=\"T_e5919_level0_row53\" class=\"row_heading level0 row53\" >primary_cleaner.output.tail_pb</th>\n",
              "                        <td id=\"T_e5919_row53_col0\" class=\"data row53 col0\" >0.000000</td>\n",
              "            </tr>\n",
              "            <tr>\n",
              "                        <th id=\"T_e5919_level0_row54\" class=\"row_heading level0 row54\" >primary_cleaner.output.tail_ag</th>\n",
              "                        <td id=\"T_e5919_row54_col0\" class=\"data row54 col0\" >0.000000</td>\n",
              "            </tr>\n",
              "            <tr>\n",
              "                        <th id=\"T_e5919_level0_row55\" class=\"row_heading level0 row55\" >primary_cleaner.output.concentrate_au</th>\n",
              "                        <td id=\"T_e5919_row55_col0\" class=\"data row55 col0\" >0.000000</td>\n",
              "            </tr>\n",
              "            <tr>\n",
              "                        <th id=\"T_e5919_level0_row56\" class=\"row_heading level0 row56\" >primary_cleaner.output.concentrate_ag</th>\n",
              "                        <td id=\"T_e5919_row56_col0\" class=\"data row56 col0\" >0.000000</td>\n",
              "            </tr>\n",
              "            <tr>\n",
              "                        <th id=\"T_e5919_level0_row57\" class=\"row_heading level0 row57\" >primary_cleaner.input.depressant</th>\n",
              "                        <td id=\"T_e5919_row57_col0\" class=\"data row57 col0\" >0.000000</td>\n",
              "            </tr>\n",
              "            <tr>\n",
              "                        <th id=\"T_e5919_level0_row58\" class=\"row_heading level0 row58\" >primary_cleaner.state.floatbank8_b_air</th>\n",
              "                        <td id=\"T_e5919_row58_col0\" class=\"data row58 col0\" >0.000000</td>\n",
              "            </tr>\n",
              "            <tr>\n",
              "                        <th id=\"T_e5919_level0_row59\" class=\"row_heading level0 row59\" >primary_cleaner.input.sulfate</th>\n",
              "                        <td id=\"T_e5919_row59_col0\" class=\"data row59 col0\" >0.000000</td>\n",
              "            </tr>\n",
              "            <tr>\n",
              "                        <th id=\"T_e5919_level0_row60\" class=\"row_heading level0 row60\" >final.output.tail_au</th>\n",
              "                        <td id=\"T_e5919_row60_col0\" class=\"data row60 col0\" >0.000000</td>\n",
              "            </tr>\n",
              "            <tr>\n",
              "                        <th id=\"T_e5919_level0_row61\" class=\"row_heading level0 row61\" >final.output.tail_sol</th>\n",
              "                        <td id=\"T_e5919_row61_col0\" class=\"data row61 col0\" >0.000000</td>\n",
              "            </tr>\n",
              "            <tr>\n",
              "                        <th id=\"T_e5919_level0_row62\" class=\"row_heading level0 row62\" >final.output.tail_ag</th>\n",
              "                        <td id=\"T_e5919_row62_col0\" class=\"data row62 col0\" >0.000000</td>\n",
              "            </tr>\n",
              "            <tr>\n",
              "                        <th id=\"T_e5919_level0_row63\" class=\"row_heading level0 row63\" >final.output.recovery</th>\n",
              "                        <td id=\"T_e5919_row63_col0\" class=\"data row63 col0\" >0.000000</td>\n",
              "            </tr>\n",
              "            <tr>\n",
              "                        <th id=\"T_e5919_level0_row64\" class=\"row_heading level0 row64\" >final.output.concentrate_au</th>\n",
              "                        <td id=\"T_e5919_row64_col0\" class=\"data row64 col0\" >0.000000</td>\n",
              "            </tr>\n",
              "            <tr>\n",
              "                        <th id=\"T_e5919_level0_row65\" class=\"row_heading level0 row65\" >final.output.concentrate_pb</th>\n",
              "                        <td id=\"T_e5919_row65_col0\" class=\"data row65 col0\" >0.000000</td>\n",
              "            </tr>\n",
              "            <tr>\n",
              "                        <th id=\"T_e5919_level0_row66\" class=\"row_heading level0 row66\" >primary_cleaner.state.floatbank8_a_level</th>\n",
              "                        <td id=\"T_e5919_row66_col0\" class=\"data row66 col0\" >0.000000</td>\n",
              "            </tr>\n",
              "            <tr>\n",
              "                        <th id=\"T_e5919_level0_row67\" class=\"row_heading level0 row67\" >primary_cleaner.state.floatbank8_b_level</th>\n",
              "                        <td id=\"T_e5919_row67_col0\" class=\"data row67 col0\" >0.000000</td>\n",
              "            </tr>\n",
              "            <tr>\n",
              "                        <th id=\"T_e5919_level0_row68\" class=\"row_heading level0 row68\" >rougher.output.concentrate_sol</th>\n",
              "                        <td id=\"T_e5919_row68_col0\" class=\"data row68 col0\" >0.000000</td>\n",
              "            </tr>\n",
              "            <tr>\n",
              "                        <th id=\"T_e5919_level0_row69\" class=\"row_heading level0 row69\" >rougher.input.feed_rate</th>\n",
              "                        <td id=\"T_e5919_row69_col0\" class=\"data row69 col0\" >0.000000</td>\n",
              "            </tr>\n",
              "            <tr>\n",
              "                        <th id=\"T_e5919_level0_row70\" class=\"row_heading level0 row70\" >rougher.output.concentrate_pb</th>\n",
              "                        <td id=\"T_e5919_row70_col0\" class=\"data row70 col0\" >0.000000</td>\n",
              "            </tr>\n",
              "            <tr>\n",
              "                        <th id=\"T_e5919_level0_row71\" class=\"row_heading level0 row71\" >rougher.output.concentrate_ag</th>\n",
              "                        <td id=\"T_e5919_row71_col0\" class=\"data row71 col0\" >0.000000</td>\n",
              "            </tr>\n",
              "            <tr>\n",
              "                        <th id=\"T_e5919_level0_row72\" class=\"row_heading level0 row72\" >final.output.concentrate_ag</th>\n",
              "                        <td id=\"T_e5919_row72_col0\" class=\"data row72 col0\" >0.000000</td>\n",
              "            </tr>\n",
              "            <tr>\n",
              "                        <th id=\"T_e5919_level0_row73\" class=\"row_heading level0 row73\" >rougher.input.floatbank11_sulfate</th>\n",
              "                        <td id=\"T_e5919_row73_col0\" class=\"data row73 col0\" >0.000000</td>\n",
              "            </tr>\n",
              "            <tr>\n",
              "                        <th id=\"T_e5919_level0_row74\" class=\"row_heading level0 row74\" >rougher.input.floatbank10_xanthate</th>\n",
              "                        <td id=\"T_e5919_row74_col0\" class=\"data row74 col0\" >0.000000</td>\n",
              "            </tr>\n",
              "            <tr>\n",
              "                        <th id=\"T_e5919_level0_row75\" class=\"row_heading level0 row75\" >rougher.input.floatbank10_sulfate</th>\n",
              "                        <td id=\"T_e5919_row75_col0\" class=\"data row75 col0\" >0.000000</td>\n",
              "            </tr>\n",
              "            <tr>\n",
              "                        <th id=\"T_e5919_level0_row76\" class=\"row_heading level0 row76\" >rougher.input.feed_au</th>\n",
              "                        <td id=\"T_e5919_row76_col0\" class=\"data row76 col0\" >0.000000</td>\n",
              "            </tr>\n",
              "            <tr>\n",
              "                        <th id=\"T_e5919_level0_row77\" class=\"row_heading level0 row77\" >rougher.input.feed_ag</th>\n",
              "                        <td id=\"T_e5919_row77_col0\" class=\"data row77 col0\" >0.000000</td>\n",
              "            </tr>\n",
              "            <tr>\n",
              "                        <th id=\"T_e5919_level0_row78\" class=\"row_heading level0 row78\" >primary_cleaner.state.floatbank8_c_air</th>\n",
              "                        <td id=\"T_e5919_row78_col0\" class=\"data row78 col0\" >0.000000</td>\n",
              "            </tr>\n",
              "            <tr>\n",
              "                        <th id=\"T_e5919_level0_row79\" class=\"row_heading level0 row79\" >rougher.calculation.au_pb_ratio</th>\n",
              "                        <td id=\"T_e5919_row79_col0\" class=\"data row79 col0\" >0.000000</td>\n",
              "            </tr>\n",
              "            <tr>\n",
              "                        <th id=\"T_e5919_level0_row80\" class=\"row_heading level0 row80\" >rougher.calculation.floatbank11_sulfate_to_au_feed</th>\n",
              "                        <td id=\"T_e5919_row80_col0\" class=\"data row80 col0\" >0.000000</td>\n",
              "            </tr>\n",
              "            <tr>\n",
              "                        <th id=\"T_e5919_level0_row81\" class=\"row_heading level0 row81\" >rougher.calculation.floatbank10_sulfate_to_au_feed</th>\n",
              "                        <td id=\"T_e5919_row81_col0\" class=\"data row81 col0\" >0.000000</td>\n",
              "            </tr>\n",
              "            <tr>\n",
              "                        <th id=\"T_e5919_level0_row82\" class=\"row_heading level0 row82\" >rougher.calculation.sulfate_to_au_concentrate</th>\n",
              "                        <td id=\"T_e5919_row82_col0\" class=\"data row82 col0\" >0.000000</td>\n",
              "            </tr>\n",
              "            <tr>\n",
              "                        <th id=\"T_e5919_level0_row83\" class=\"row_heading level0 row83\" >primary_cleaner.state.floatbank8_d_level</th>\n",
              "                        <td id=\"T_e5919_row83_col0\" class=\"data row83 col0\" >0.000000</td>\n",
              "            </tr>\n",
              "            <tr>\n",
              "                        <th id=\"T_e5919_level0_row84\" class=\"row_heading level0 row84\" >primary_cleaner.state.floatbank8_d_air</th>\n",
              "                        <td id=\"T_e5919_row84_col0\" class=\"data row84 col0\" >0.000000</td>\n",
              "            </tr>\n",
              "            <tr>\n",
              "                        <th id=\"T_e5919_level0_row85\" class=\"row_heading level0 row85\" >primary_cleaner.state.floatbank8_c_level</th>\n",
              "                        <td id=\"T_e5919_row85_col0\" class=\"data row85 col0\" >0.000000</td>\n",
              "            </tr>\n",
              "            <tr>\n",
              "                        <th id=\"T_e5919_level0_row86\" class=\"row_heading level0 row86\" >secondary_cleaner.state.floatbank6_a_level</th>\n",
              "                        <td id=\"T_e5919_row86_col0\" class=\"data row86 col0\" >0.000000</td>\n",
              "            </tr>\n",
              "    </tbody></table>"
            ],
            "text/plain": [
              "<pandas.io.formats.style.Styler at 0x7fb860cc5340>"
            ]
          },
          "execution_count": 14,
          "metadata": {},
          "output_type": "execute_result"
        }
      ],
      "source": [
        "pd.DataFrame(round(full.isna().mean()*100,).sort_values(ascending=False)).style.background_gradient('coolwarm')"
      ]
    },
    {
      "cell_type": "code",
      "execution_count": null,
      "metadata": {
        "id": "gJ4GTlUPxQgJ",
        "outputId": "871b348f-32ff-4a06-9b56-35309538937d"
      },
      "outputs": [
        {
          "data": {
            "text/plain": [
              "secondary_cleaner.output.tail_sol           1748\n",
              "rougher.input.floatbank11_xanthate           453\n",
              "rougher.state.floatbank10_e_air              436\n",
              "primary_cleaner.output.concentrate_sol       370\n",
              "secondary_cleaner.state.floatbank2_a_air     220\n",
              "final.output.concentrate_sol                 211\n",
              "rougher.input.feed_size                      145\n",
              "primary_cleaner.output.concentrate_pb        116\n",
              "primary_cleaner.input.xanthate               104\n",
              "final.output.tail_pb                         101\n",
              "rougher.input.feed_pb                        100\n",
              "rougher.input.feed_sol                        99\n",
              "primary_cleaner.output.tail_sol               62\n",
              "rougher.input.floatbank11_sulfate             44\n",
              "primary_cleaner.input.depressant              37\n",
              "rougher.input.floatbank10_sulfate             34\n",
              "primary_cleaner.input.sulfate                 24\n",
              "rougher.output.concentrate_sol                23\n",
              "secondary_cleaner.state.floatbank2_b_air      23\n",
              "primary_cleaner.output.tail_pb                21\n",
              "dtype: int64"
            ]
          },
          "execution_count": 15,
          "metadata": {},
          "output_type": "execute_result"
        }
      ],
      "source": [
        "full.isna().sum().sort_values(ascending=False).head(20)"
      ]
    },
    {
      "cell_type": "code",
      "execution_count": null,
      "metadata": {
        "id": "RSVEwU6sxQgJ",
        "outputId": "0140c710-a4dc-4253-ebe9-456b83063274"
      },
      "outputs": [
        {
          "data": {
            "text/plain": [
              "secondary_cleaner.output.tail_sol           1605\n",
              "rougher.state.floatbank10_e_air              436\n",
              "rougher.input.floatbank11_xanthate           428\n",
              "primary_cleaner.output.concentrate_sol       286\n",
              "secondary_cleaner.state.floatbank2_a_air     217\n",
              "final.output.concentrate_sol                 211\n",
              "rougher.input.feed_size                      144\n",
              "primary_cleaner.input.xanthate               100\n",
              "rougher.input.feed_pb                        100\n",
              "final.output.tail_pb                         100\n",
              "primary_cleaner.output.concentrate_pb         86\n",
              "rougher.input.feed_sol                        78\n",
              "primary_cleaner.output.tail_sol               46\n",
              "rougher.input.floatbank11_sulfate             36\n",
              "primary_cleaner.input.depressant              32\n",
              "rougher.input.floatbank10_sulfate             29\n",
              "rougher.output.concentrate_sol                22\n",
              "secondary_cleaner.state.floatbank2_b_air      21\n",
              "primary_cleaner.input.sulfate                 20\n",
              "primary_cleaner.output.tail_pb                15\n",
              "dtype: int64"
            ]
          },
          "execution_count": 16,
          "metadata": {},
          "output_type": "execute_result"
        }
      ],
      "source": [
        "train.isna().sum().sort_values(ascending=False).head(20)"
      ]
    },
    {
      "cell_type": "code",
      "execution_count": null,
      "metadata": {
        "id": "tzxvv181xQgK",
        "outputId": "17f0c29e-16a2-49b0-9ff3-bdb67ba0ae74"
      },
      "outputs": [
        {
          "data": {
            "text/html": [
              "<style  type=\"text/css\" >\n",
              "#T_08188_row0_col0{\n",
              "            background-color:  #b40426;\n",
              "            color:  #f1f1f1;\n",
              "        }#T_08188_row1_col0,#T_08188_row2_col0{\n",
              "            background-color:  #94b6ff;\n",
              "            color:  #000000;\n",
              "        }#T_08188_row3_col0,#T_08188_row4_col0{\n",
              "            background-color:  #7597f6;\n",
              "            color:  #000000;\n",
              "        }#T_08188_row5_col0,#T_08188_row6_col0,#T_08188_row7_col0,#T_08188_row8_col0,#T_08188_row9_col0,#T_08188_row10_col0,#T_08188_row11_col0{\n",
              "            background-color:  #5673e0;\n",
              "            color:  #000000;\n",
              "        }#T_08188_row12_col0,#T_08188_row13_col0,#T_08188_row14_col0,#T_08188_row15_col0,#T_08188_row16_col0,#T_08188_row17_col0,#T_08188_row18_col0,#T_08188_row19_col0,#T_08188_row20_col0,#T_08188_row21_col0,#T_08188_row22_col0,#T_08188_row23_col0,#T_08188_row24_col0,#T_08188_row25_col0,#T_08188_row26_col0,#T_08188_row27_col0,#T_08188_row28_col0,#T_08188_row29_col0,#T_08188_row30_col0,#T_08188_row31_col0,#T_08188_row32_col0,#T_08188_row33_col0,#T_08188_row34_col0,#T_08188_row35_col0,#T_08188_row36_col0,#T_08188_row37_col0,#T_08188_row38_col0,#T_08188_row39_col0,#T_08188_row40_col0,#T_08188_row41_col0,#T_08188_row42_col0,#T_08188_row43_col0,#T_08188_row44_col0,#T_08188_row45_col0,#T_08188_row46_col0,#T_08188_row47_col0,#T_08188_row48_col0,#T_08188_row49_col0,#T_08188_row50_col0,#T_08188_row51_col0,#T_08188_row52_col0,#T_08188_row53_col0,#T_08188_row54_col0,#T_08188_row55_col0,#T_08188_row56_col0,#T_08188_row57_col0,#T_08188_row58_col0,#T_08188_row59_col0,#T_08188_row60_col0,#T_08188_row61_col0,#T_08188_row62_col0,#T_08188_row63_col0,#T_08188_row64_col0,#T_08188_row65_col0,#T_08188_row66_col0,#T_08188_row67_col0,#T_08188_row68_col0,#T_08188_row69_col0,#T_08188_row70_col0,#T_08188_row71_col0,#T_08188_row72_col0,#T_08188_row73_col0,#T_08188_row74_col0,#T_08188_row75_col0,#T_08188_row76_col0,#T_08188_row77_col0,#T_08188_row78_col0,#T_08188_row79_col0,#T_08188_row80_col0,#T_08188_row81_col0,#T_08188_row82_col0,#T_08188_row83_col0,#T_08188_row84_col0,#T_08188_row85_col0,#T_08188_row86_col0{\n",
              "            background-color:  #3b4cc0;\n",
              "            color:  #f1f1f1;\n",
              "        }</style><table id=\"T_08188_\" ><thead>    <tr>        <th class=\"blank level0\" ></th>        <th class=\"col_heading level0 col0\" >0</th>    </tr></thead><tbody>\n",
              "                <tr>\n",
              "                        <th id=\"T_08188_level0_row0\" class=\"row_heading level0 row0\" >secondary_cleaner.output.tail_sol</th>\n",
              "                        <td id=\"T_08188_row0_col0\" class=\"data row0 col0\" >11.000000</td>\n",
              "            </tr>\n",
              "            <tr>\n",
              "                        <th id=\"T_08188_level0_row1\" class=\"row_heading level0 row1\" >rougher.input.floatbank11_xanthate</th>\n",
              "                        <td id=\"T_08188_row1_col0\" class=\"data row1 col0\" >3.000000</td>\n",
              "            </tr>\n",
              "            <tr>\n",
              "                        <th id=\"T_08188_level0_row2\" class=\"row_heading level0 row2\" >rougher.state.floatbank10_e_air</th>\n",
              "                        <td id=\"T_08188_row2_col0\" class=\"data row2 col0\" >3.000000</td>\n",
              "            </tr>\n",
              "            <tr>\n",
              "                        <th id=\"T_08188_level0_row3\" class=\"row_heading level0 row3\" >primary_cleaner.output.concentrate_sol</th>\n",
              "                        <td id=\"T_08188_row3_col0\" class=\"data row3 col0\" >2.000000</td>\n",
              "            </tr>\n",
              "            <tr>\n",
              "                        <th id=\"T_08188_level0_row4\" class=\"row_heading level0 row4\" >secondary_cleaner.state.floatbank2_a_air</th>\n",
              "                        <td id=\"T_08188_row4_col0\" class=\"data row4 col0\" >2.000000</td>\n",
              "            </tr>\n",
              "            <tr>\n",
              "                        <th id=\"T_08188_level0_row5\" class=\"row_heading level0 row5\" >final.output.tail_pb</th>\n",
              "                        <td id=\"T_08188_row5_col0\" class=\"data row5 col0\" >1.000000</td>\n",
              "            </tr>\n",
              "            <tr>\n",
              "                        <th id=\"T_08188_level0_row6\" class=\"row_heading level0 row6\" >final.output.concentrate_sol</th>\n",
              "                        <td id=\"T_08188_row6_col0\" class=\"data row6 col0\" >1.000000</td>\n",
              "            </tr>\n",
              "            <tr>\n",
              "                        <th id=\"T_08188_level0_row7\" class=\"row_heading level0 row7\" >primary_cleaner.input.xanthate</th>\n",
              "                        <td id=\"T_08188_row7_col0\" class=\"data row7 col0\" >1.000000</td>\n",
              "            </tr>\n",
              "            <tr>\n",
              "                        <th id=\"T_08188_level0_row8\" class=\"row_heading level0 row8\" >primary_cleaner.output.concentrate_pb</th>\n",
              "                        <td id=\"T_08188_row8_col0\" class=\"data row8 col0\" >1.000000</td>\n",
              "            </tr>\n",
              "            <tr>\n",
              "                        <th id=\"T_08188_level0_row9\" class=\"row_heading level0 row9\" >rougher.input.feed_pb</th>\n",
              "                        <td id=\"T_08188_row9_col0\" class=\"data row9 col0\" >1.000000</td>\n",
              "            </tr>\n",
              "            <tr>\n",
              "                        <th id=\"T_08188_level0_row10\" class=\"row_heading level0 row10\" >rougher.input.feed_sol</th>\n",
              "                        <td id=\"T_08188_row10_col0\" class=\"data row10 col0\" >1.000000</td>\n",
              "            </tr>\n",
              "            <tr>\n",
              "                        <th id=\"T_08188_level0_row11\" class=\"row_heading level0 row11\" >rougher.input.feed_size</th>\n",
              "                        <td id=\"T_08188_row11_col0\" class=\"data row11 col0\" >1.000000</td>\n",
              "            </tr>\n",
              "            <tr>\n",
              "                        <th id=\"T_08188_level0_row12\" class=\"row_heading level0 row12\" >secondary_cleaner.state.floatbank5_b_air</th>\n",
              "                        <td id=\"T_08188_row12_col0\" class=\"data row12 col0\" >0.000000</td>\n",
              "            </tr>\n",
              "            <tr>\n",
              "                        <th id=\"T_08188_level0_row13\" class=\"row_heading level0 row13\" >rougher.state.floatbank10_c_air</th>\n",
              "                        <td id=\"T_08188_row13_col0\" class=\"data row13 col0\" >0.000000</td>\n",
              "            </tr>\n",
              "            <tr>\n",
              "                        <th id=\"T_08188_level0_row14\" class=\"row_heading level0 row14\" >rougher.state.floatbank10_e_level</th>\n",
              "                        <td id=\"T_08188_row14_col0\" class=\"data row14 col0\" >0.000000</td>\n",
              "            </tr>\n",
              "            <tr>\n",
              "                        <th id=\"T_08188_level0_row15\" class=\"row_heading level0 row15\" >secondary_cleaner.state.floatbank6_a_air</th>\n",
              "                        <td id=\"T_08188_row15_col0\" class=\"data row15 col0\" >0.000000</td>\n",
              "            </tr>\n",
              "            <tr>\n",
              "                        <th id=\"T_08188_level0_row16\" class=\"row_heading level0 row16\" >rougher.state.floatbank10_d_level</th>\n",
              "                        <td id=\"T_08188_row16_col0\" class=\"data row16 col0\" >0.000000</td>\n",
              "            </tr>\n",
              "            <tr>\n",
              "                        <th id=\"T_08188_level0_row17\" class=\"row_heading level0 row17\" >rougher.state.floatbank10_d_air</th>\n",
              "                        <td id=\"T_08188_row17_col0\" class=\"data row17 col0\" >0.000000</td>\n",
              "            </tr>\n",
              "            <tr>\n",
              "                        <th id=\"T_08188_level0_row18\" class=\"row_heading level0 row18\" >rougher.state.floatbank10_c_level</th>\n",
              "                        <td id=\"T_08188_row18_col0\" class=\"data row18 col0\" >0.000000</td>\n",
              "            </tr>\n",
              "            <tr>\n",
              "                        <th id=\"T_08188_level0_row19\" class=\"row_heading level0 row19\" >rougher.state.floatbank10_b_level</th>\n",
              "                        <td id=\"T_08188_row19_col0\" class=\"data row19 col0\" >0.000000</td>\n",
              "            </tr>\n",
              "            <tr>\n",
              "                        <th id=\"T_08188_level0_row20\" class=\"row_heading level0 row20\" >rougher.state.floatbank10_f_level</th>\n",
              "                        <td id=\"T_08188_row20_col0\" class=\"data row20 col0\" >0.000000</td>\n",
              "            </tr>\n",
              "            <tr>\n",
              "                        <th id=\"T_08188_level0_row21\" class=\"row_heading level0 row21\" >rougher.state.floatbank10_b_air</th>\n",
              "                        <td id=\"T_08188_row21_col0\" class=\"data row21 col0\" >0.000000</td>\n",
              "            </tr>\n",
              "            <tr>\n",
              "                        <th id=\"T_08188_level0_row22\" class=\"row_heading level0 row22\" >rougher.state.floatbank10_a_level</th>\n",
              "                        <td id=\"T_08188_row22_col0\" class=\"data row22 col0\" >0.000000</td>\n",
              "            </tr>\n",
              "            <tr>\n",
              "                        <th id=\"T_08188_level0_row23\" class=\"row_heading level0 row23\" >rougher.state.floatbank10_a_air</th>\n",
              "                        <td id=\"T_08188_row23_col0\" class=\"data row23 col0\" >0.000000</td>\n",
              "            </tr>\n",
              "            <tr>\n",
              "                        <th id=\"T_08188_level0_row24\" class=\"row_heading level0 row24\" >rougher.output.tail_au</th>\n",
              "                        <td id=\"T_08188_row24_col0\" class=\"data row24 col0\" >0.000000</td>\n",
              "            </tr>\n",
              "            <tr>\n",
              "                        <th id=\"T_08188_level0_row25\" class=\"row_heading level0 row25\" >rougher.output.tail_sol</th>\n",
              "                        <td id=\"T_08188_row25_col0\" class=\"data row25 col0\" >0.000000</td>\n",
              "            </tr>\n",
              "            <tr>\n",
              "                        <th id=\"T_08188_level0_row26\" class=\"row_heading level0 row26\" >rougher.output.tail_pb</th>\n",
              "                        <td id=\"T_08188_row26_col0\" class=\"data row26 col0\" >0.000000</td>\n",
              "            </tr>\n",
              "            <tr>\n",
              "                        <th id=\"T_08188_level0_row27\" class=\"row_heading level0 row27\" >rougher.state.floatbank10_f_air</th>\n",
              "                        <td id=\"T_08188_row27_col0\" class=\"data row27 col0\" >0.000000</td>\n",
              "            </tr>\n",
              "            <tr>\n",
              "                        <th id=\"T_08188_level0_row28\" class=\"row_heading level0 row28\" >secondary_cleaner.output.tail_pb</th>\n",
              "                        <td id=\"T_08188_row28_col0\" class=\"data row28 col0\" >0.000000</td>\n",
              "            </tr>\n",
              "            <tr>\n",
              "                        <th id=\"T_08188_level0_row29\" class=\"row_heading level0 row29\" >secondary_cleaner.output.tail_ag</th>\n",
              "                        <td id=\"T_08188_row29_col0\" class=\"data row29 col0\" >0.000000</td>\n",
              "            </tr>\n",
              "            <tr>\n",
              "                        <th id=\"T_08188_level0_row30\" class=\"row_heading level0 row30\" >secondary_cleaner.state.floatbank5_a_level</th>\n",
              "                        <td id=\"T_08188_row30_col0\" class=\"data row30 col0\" >0.000000</td>\n",
              "            </tr>\n",
              "            <tr>\n",
              "                        <th id=\"T_08188_level0_row31\" class=\"row_heading level0 row31\" >secondary_cleaner.state.floatbank5_a_air</th>\n",
              "                        <td id=\"T_08188_row31_col0\" class=\"data row31 col0\" >0.000000</td>\n",
              "            </tr>\n",
              "            <tr>\n",
              "                        <th id=\"T_08188_level0_row32\" class=\"row_heading level0 row32\" >secondary_cleaner.state.floatbank4_b_level</th>\n",
              "                        <td id=\"T_08188_row32_col0\" class=\"data row32 col0\" >0.000000</td>\n",
              "            </tr>\n",
              "            <tr>\n",
              "                        <th id=\"T_08188_level0_row33\" class=\"row_heading level0 row33\" >secondary_cleaner.state.floatbank4_b_air</th>\n",
              "                        <td id=\"T_08188_row33_col0\" class=\"data row33 col0\" >0.000000</td>\n",
              "            </tr>\n",
              "            <tr>\n",
              "                        <th id=\"T_08188_level0_row34\" class=\"row_heading level0 row34\" >secondary_cleaner.state.floatbank4_a_level</th>\n",
              "                        <td id=\"T_08188_row34_col0\" class=\"data row34 col0\" >0.000000</td>\n",
              "            </tr>\n",
              "            <tr>\n",
              "                        <th id=\"T_08188_level0_row35\" class=\"row_heading level0 row35\" >secondary_cleaner.state.floatbank4_a_air</th>\n",
              "                        <td id=\"T_08188_row35_col0\" class=\"data row35 col0\" >0.000000</td>\n",
              "            </tr>\n",
              "            <tr>\n",
              "                        <th id=\"T_08188_level0_row36\" class=\"row_heading level0 row36\" >secondary_cleaner.state.floatbank3_b_level</th>\n",
              "                        <td id=\"T_08188_row36_col0\" class=\"data row36 col0\" >0.000000</td>\n",
              "            </tr>\n",
              "            <tr>\n",
              "                        <th id=\"T_08188_level0_row37\" class=\"row_heading level0 row37\" >secondary_cleaner.state.floatbank5_b_level</th>\n",
              "                        <td id=\"T_08188_row37_col0\" class=\"data row37 col0\" >0.000000</td>\n",
              "            </tr>\n",
              "            <tr>\n",
              "                        <th id=\"T_08188_level0_row38\" class=\"row_heading level0 row38\" >secondary_cleaner.state.floatbank3_b_air</th>\n",
              "                        <td id=\"T_08188_row38_col0\" class=\"data row38 col0\" >0.000000</td>\n",
              "            </tr>\n",
              "            <tr>\n",
              "                        <th id=\"T_08188_level0_row39\" class=\"row_heading level0 row39\" >secondary_cleaner.state.floatbank3_a_level</th>\n",
              "                        <td id=\"T_08188_row39_col0\" class=\"data row39 col0\" >0.000000</td>\n",
              "            </tr>\n",
              "            <tr>\n",
              "                        <th id=\"T_08188_level0_row40\" class=\"row_heading level0 row40\" >secondary_cleaner.state.floatbank3_a_air</th>\n",
              "                        <td id=\"T_08188_row40_col0\" class=\"data row40 col0\" >0.000000</td>\n",
              "            </tr>\n",
              "            <tr>\n",
              "                        <th id=\"T_08188_level0_row41\" class=\"row_heading level0 row41\" >secondary_cleaner.state.floatbank2_b_level</th>\n",
              "                        <td id=\"T_08188_row41_col0\" class=\"data row41 col0\" >0.000000</td>\n",
              "            </tr>\n",
              "            <tr>\n",
              "                        <th id=\"T_08188_level0_row42\" class=\"row_heading level0 row42\" >secondary_cleaner.state.floatbank2_b_air</th>\n",
              "                        <td id=\"T_08188_row42_col0\" class=\"data row42 col0\" >0.000000</td>\n",
              "            </tr>\n",
              "            <tr>\n",
              "                        <th id=\"T_08188_level0_row43\" class=\"row_heading level0 row43\" >secondary_cleaner.state.floatbank2_a_level</th>\n",
              "                        <td id=\"T_08188_row43_col0\" class=\"data row43 col0\" >0.000000</td>\n",
              "            </tr>\n",
              "            <tr>\n",
              "                        <th id=\"T_08188_level0_row44\" class=\"row_heading level0 row44\" >rougher.output.recovery</th>\n",
              "                        <td id=\"T_08188_row44_col0\" class=\"data row44 col0\" >0.000000</td>\n",
              "            </tr>\n",
              "            <tr>\n",
              "                        <th id=\"T_08188_level0_row45\" class=\"row_heading level0 row45\" >secondary_cleaner.output.tail_au</th>\n",
              "                        <td id=\"T_08188_row45_col0\" class=\"data row45 col0\" >0.000000</td>\n",
              "            </tr>\n",
              "            <tr>\n",
              "                        <th id=\"T_08188_level0_row46\" class=\"row_heading level0 row46\" >rougher.output.tail_ag</th>\n",
              "                        <td id=\"T_08188_row46_col0\" class=\"data row46 col0\" >0.000000</td>\n",
              "            </tr>\n",
              "            <tr>\n",
              "                        <th id=\"T_08188_level0_row47\" class=\"row_heading level0 row47\" >date</th>\n",
              "                        <td id=\"T_08188_row47_col0\" class=\"data row47 col0\" >0.000000</td>\n",
              "            </tr>\n",
              "            <tr>\n",
              "                        <th id=\"T_08188_level0_row48\" class=\"row_heading level0 row48\" >rougher.output.concentrate_au</th>\n",
              "                        <td id=\"T_08188_row48_col0\" class=\"data row48 col0\" >0.000000</td>\n",
              "            </tr>\n",
              "            <tr>\n",
              "                        <th id=\"T_08188_level0_row49\" class=\"row_heading level0 row49\" >primary_cleaner.input.feed_size</th>\n",
              "                        <td id=\"T_08188_row49_col0\" class=\"data row49 col0\" >0.000000</td>\n",
              "            </tr>\n",
              "            <tr>\n",
              "                        <th id=\"T_08188_level0_row50\" class=\"row_heading level0 row50\" >primary_cleaner.state.floatbank8_a_air</th>\n",
              "                        <td id=\"T_08188_row50_col0\" class=\"data row50 col0\" >0.000000</td>\n",
              "            </tr>\n",
              "            <tr>\n",
              "                        <th id=\"T_08188_level0_row51\" class=\"row_heading level0 row51\" >primary_cleaner.output.tail_au</th>\n",
              "                        <td id=\"T_08188_row51_col0\" class=\"data row51 col0\" >0.000000</td>\n",
              "            </tr>\n",
              "            <tr>\n",
              "                        <th id=\"T_08188_level0_row52\" class=\"row_heading level0 row52\" >primary_cleaner.output.tail_sol</th>\n",
              "                        <td id=\"T_08188_row52_col0\" class=\"data row52 col0\" >0.000000</td>\n",
              "            </tr>\n",
              "            <tr>\n",
              "                        <th id=\"T_08188_level0_row53\" class=\"row_heading level0 row53\" >primary_cleaner.output.tail_pb</th>\n",
              "                        <td id=\"T_08188_row53_col0\" class=\"data row53 col0\" >0.000000</td>\n",
              "            </tr>\n",
              "            <tr>\n",
              "                        <th id=\"T_08188_level0_row54\" class=\"row_heading level0 row54\" >primary_cleaner.output.tail_ag</th>\n",
              "                        <td id=\"T_08188_row54_col0\" class=\"data row54 col0\" >0.000000</td>\n",
              "            </tr>\n",
              "            <tr>\n",
              "                        <th id=\"T_08188_level0_row55\" class=\"row_heading level0 row55\" >primary_cleaner.output.concentrate_au</th>\n",
              "                        <td id=\"T_08188_row55_col0\" class=\"data row55 col0\" >0.000000</td>\n",
              "            </tr>\n",
              "            <tr>\n",
              "                        <th id=\"T_08188_level0_row56\" class=\"row_heading level0 row56\" >primary_cleaner.output.concentrate_ag</th>\n",
              "                        <td id=\"T_08188_row56_col0\" class=\"data row56 col0\" >0.000000</td>\n",
              "            </tr>\n",
              "            <tr>\n",
              "                        <th id=\"T_08188_level0_row57\" class=\"row_heading level0 row57\" >primary_cleaner.input.depressant</th>\n",
              "                        <td id=\"T_08188_row57_col0\" class=\"data row57 col0\" >0.000000</td>\n",
              "            </tr>\n",
              "            <tr>\n",
              "                        <th id=\"T_08188_level0_row58\" class=\"row_heading level0 row58\" >primary_cleaner.state.floatbank8_b_air</th>\n",
              "                        <td id=\"T_08188_row58_col0\" class=\"data row58 col0\" >0.000000</td>\n",
              "            </tr>\n",
              "            <tr>\n",
              "                        <th id=\"T_08188_level0_row59\" class=\"row_heading level0 row59\" >primary_cleaner.input.sulfate</th>\n",
              "                        <td id=\"T_08188_row59_col0\" class=\"data row59 col0\" >0.000000</td>\n",
              "            </tr>\n",
              "            <tr>\n",
              "                        <th id=\"T_08188_level0_row60\" class=\"row_heading level0 row60\" >final.output.tail_au</th>\n",
              "                        <td id=\"T_08188_row60_col0\" class=\"data row60 col0\" >0.000000</td>\n",
              "            </tr>\n",
              "            <tr>\n",
              "                        <th id=\"T_08188_level0_row61\" class=\"row_heading level0 row61\" >final.output.tail_sol</th>\n",
              "                        <td id=\"T_08188_row61_col0\" class=\"data row61 col0\" >0.000000</td>\n",
              "            </tr>\n",
              "            <tr>\n",
              "                        <th id=\"T_08188_level0_row62\" class=\"row_heading level0 row62\" >final.output.tail_ag</th>\n",
              "                        <td id=\"T_08188_row62_col0\" class=\"data row62 col0\" >0.000000</td>\n",
              "            </tr>\n",
              "            <tr>\n",
              "                        <th id=\"T_08188_level0_row63\" class=\"row_heading level0 row63\" >final.output.recovery</th>\n",
              "                        <td id=\"T_08188_row63_col0\" class=\"data row63 col0\" >0.000000</td>\n",
              "            </tr>\n",
              "            <tr>\n",
              "                        <th id=\"T_08188_level0_row64\" class=\"row_heading level0 row64\" >final.output.concentrate_au</th>\n",
              "                        <td id=\"T_08188_row64_col0\" class=\"data row64 col0\" >0.000000</td>\n",
              "            </tr>\n",
              "            <tr>\n",
              "                        <th id=\"T_08188_level0_row65\" class=\"row_heading level0 row65\" >final.output.concentrate_pb</th>\n",
              "                        <td id=\"T_08188_row65_col0\" class=\"data row65 col0\" >0.000000</td>\n",
              "            </tr>\n",
              "            <tr>\n",
              "                        <th id=\"T_08188_level0_row66\" class=\"row_heading level0 row66\" >primary_cleaner.state.floatbank8_a_level</th>\n",
              "                        <td id=\"T_08188_row66_col0\" class=\"data row66 col0\" >0.000000</td>\n",
              "            </tr>\n",
              "            <tr>\n",
              "                        <th id=\"T_08188_level0_row67\" class=\"row_heading level0 row67\" >primary_cleaner.state.floatbank8_b_level</th>\n",
              "                        <td id=\"T_08188_row67_col0\" class=\"data row67 col0\" >0.000000</td>\n",
              "            </tr>\n",
              "            <tr>\n",
              "                        <th id=\"T_08188_level0_row68\" class=\"row_heading level0 row68\" >rougher.output.concentrate_sol</th>\n",
              "                        <td id=\"T_08188_row68_col0\" class=\"data row68 col0\" >0.000000</td>\n",
              "            </tr>\n",
              "            <tr>\n",
              "                        <th id=\"T_08188_level0_row69\" class=\"row_heading level0 row69\" >rougher.input.feed_rate</th>\n",
              "                        <td id=\"T_08188_row69_col0\" class=\"data row69 col0\" >0.000000</td>\n",
              "            </tr>\n",
              "            <tr>\n",
              "                        <th id=\"T_08188_level0_row70\" class=\"row_heading level0 row70\" >rougher.output.concentrate_pb</th>\n",
              "                        <td id=\"T_08188_row70_col0\" class=\"data row70 col0\" >0.000000</td>\n",
              "            </tr>\n",
              "            <tr>\n",
              "                        <th id=\"T_08188_level0_row71\" class=\"row_heading level0 row71\" >rougher.output.concentrate_ag</th>\n",
              "                        <td id=\"T_08188_row71_col0\" class=\"data row71 col0\" >0.000000</td>\n",
              "            </tr>\n",
              "            <tr>\n",
              "                        <th id=\"T_08188_level0_row72\" class=\"row_heading level0 row72\" >final.output.concentrate_ag</th>\n",
              "                        <td id=\"T_08188_row72_col0\" class=\"data row72 col0\" >0.000000</td>\n",
              "            </tr>\n",
              "            <tr>\n",
              "                        <th id=\"T_08188_level0_row73\" class=\"row_heading level0 row73\" >rougher.input.floatbank11_sulfate</th>\n",
              "                        <td id=\"T_08188_row73_col0\" class=\"data row73 col0\" >0.000000</td>\n",
              "            </tr>\n",
              "            <tr>\n",
              "                        <th id=\"T_08188_level0_row74\" class=\"row_heading level0 row74\" >rougher.input.floatbank10_xanthate</th>\n",
              "                        <td id=\"T_08188_row74_col0\" class=\"data row74 col0\" >0.000000</td>\n",
              "            </tr>\n",
              "            <tr>\n",
              "                        <th id=\"T_08188_level0_row75\" class=\"row_heading level0 row75\" >rougher.input.floatbank10_sulfate</th>\n",
              "                        <td id=\"T_08188_row75_col0\" class=\"data row75 col0\" >0.000000</td>\n",
              "            </tr>\n",
              "            <tr>\n",
              "                        <th id=\"T_08188_level0_row76\" class=\"row_heading level0 row76\" >rougher.input.feed_au</th>\n",
              "                        <td id=\"T_08188_row76_col0\" class=\"data row76 col0\" >0.000000</td>\n",
              "            </tr>\n",
              "            <tr>\n",
              "                        <th id=\"T_08188_level0_row77\" class=\"row_heading level0 row77\" >rougher.input.feed_ag</th>\n",
              "                        <td id=\"T_08188_row77_col0\" class=\"data row77 col0\" >0.000000</td>\n",
              "            </tr>\n",
              "            <tr>\n",
              "                        <th id=\"T_08188_level0_row78\" class=\"row_heading level0 row78\" >primary_cleaner.state.floatbank8_c_air</th>\n",
              "                        <td id=\"T_08188_row78_col0\" class=\"data row78 col0\" >0.000000</td>\n",
              "            </tr>\n",
              "            <tr>\n",
              "                        <th id=\"T_08188_level0_row79\" class=\"row_heading level0 row79\" >rougher.calculation.au_pb_ratio</th>\n",
              "                        <td id=\"T_08188_row79_col0\" class=\"data row79 col0\" >0.000000</td>\n",
              "            </tr>\n",
              "            <tr>\n",
              "                        <th id=\"T_08188_level0_row80\" class=\"row_heading level0 row80\" >rougher.calculation.floatbank11_sulfate_to_au_feed</th>\n",
              "                        <td id=\"T_08188_row80_col0\" class=\"data row80 col0\" >0.000000</td>\n",
              "            </tr>\n",
              "            <tr>\n",
              "                        <th id=\"T_08188_level0_row81\" class=\"row_heading level0 row81\" >rougher.calculation.floatbank10_sulfate_to_au_feed</th>\n",
              "                        <td id=\"T_08188_row81_col0\" class=\"data row81 col0\" >0.000000</td>\n",
              "            </tr>\n",
              "            <tr>\n",
              "                        <th id=\"T_08188_level0_row82\" class=\"row_heading level0 row82\" >rougher.calculation.sulfate_to_au_concentrate</th>\n",
              "                        <td id=\"T_08188_row82_col0\" class=\"data row82 col0\" >0.000000</td>\n",
              "            </tr>\n",
              "            <tr>\n",
              "                        <th id=\"T_08188_level0_row83\" class=\"row_heading level0 row83\" >primary_cleaner.state.floatbank8_d_level</th>\n",
              "                        <td id=\"T_08188_row83_col0\" class=\"data row83 col0\" >0.000000</td>\n",
              "            </tr>\n",
              "            <tr>\n",
              "                        <th id=\"T_08188_level0_row84\" class=\"row_heading level0 row84\" >primary_cleaner.state.floatbank8_d_air</th>\n",
              "                        <td id=\"T_08188_row84_col0\" class=\"data row84 col0\" >0.000000</td>\n",
              "            </tr>\n",
              "            <tr>\n",
              "                        <th id=\"T_08188_level0_row85\" class=\"row_heading level0 row85\" >primary_cleaner.state.floatbank8_c_level</th>\n",
              "                        <td id=\"T_08188_row85_col0\" class=\"data row85 col0\" >0.000000</td>\n",
              "            </tr>\n",
              "            <tr>\n",
              "                        <th id=\"T_08188_level0_row86\" class=\"row_heading level0 row86\" >secondary_cleaner.state.floatbank6_a_level</th>\n",
              "                        <td id=\"T_08188_row86_col0\" class=\"data row86 col0\" >0.000000</td>\n",
              "            </tr>\n",
              "    </tbody></table>"
            ],
            "text/plain": [
              "<pandas.io.formats.style.Styler at 0x7fb860ab3af0>"
            ]
          },
          "execution_count": 17,
          "metadata": {},
          "output_type": "execute_result"
        }
      ],
      "source": [
        "pd.DataFrame(round(train.isna().mean()*100,).sort_values(ascending=False)).style.background_gradient('coolwarm')"
      ]
    },
    {
      "cell_type": "code",
      "execution_count": null,
      "metadata": {
        "id": "7fxs7T7JxQgK",
        "outputId": "720ef9e2-b9aa-45cb-b42b-ff20a5e5cd89"
      },
      "outputs": [
        {
          "data": {
            "text/plain": [
              "rougher.input.floatbank11_xanthate            25\n",
              "rougher.input.feed_sol                        21\n",
              "secondary_cleaner.state.floatbank3_a_air       9\n",
              "rougher.input.floatbank11_sulfate              8\n",
              "primary_cleaner.input.depressant               5\n",
              "rougher.input.floatbank10_sulfate              5\n",
              "primary_cleaner.input.xanthate                 4\n",
              "primary_cleaner.input.sulfate                  4\n",
              "rougher.input.feed_rate                        3\n",
              "secondary_cleaner.state.floatbank2_a_air       3\n",
              "secondary_cleaner.state.floatbank2_b_air       2\n",
              "rougher.input.feed_size                        1\n",
              "secondary_cleaner.state.floatbank2_b_level     0\n",
              "rougher.state.floatbank10_f_level              0\n",
              "rougher.state.floatbank10_f_air                0\n",
              "secondary_cleaner.state.floatbank3_a_level     0\n",
              "secondary_cleaner.state.floatbank2_a_level     0\n",
              "date                                           0\n",
              "rougher.state.floatbank10_e_air                0\n",
              "secondary_cleaner.state.floatbank3_b_air       0\n",
              "dtype: int64"
            ]
          },
          "execution_count": 18,
          "metadata": {},
          "output_type": "execute_result"
        }
      ],
      "source": [
        "test.isna().sum().sort_values(ascending=False).head(20)"
      ]
    },
    {
      "cell_type": "markdown",
      "metadata": {
        "id": "GTSsSED9xQgK"
      },
      "source": [
        "В целом во всей таблице пропуски занимают максимум 9% в одной колонке, можно было бы их удалить. Но в обучаюющей выборке они занимают уже 11%, что не очень хорошо. По условию задачи приемлемо, если мы заменим пропуски по предудущим значениям, используем метод ffil."
      ]
    },
    {
      "cell_type": "code",
      "execution_count": null,
      "metadata": {
        "id": "WZl7JZbFxQgK"
      },
      "outputs": [],
      "source": [
        "train_fill = train.fillna(method='ffill')\n",
        "test_fill = test.fillna(method='ffill')\n",
        "full_fill = full.fillna(method='ffill')"
      ]
    },
    {
      "cell_type": "markdown",
      "metadata": {
        "id": "3fzrpbRxxQgK"
      },
      "source": [
        "Добавим в тестовую выборку целевые признаки, для подсчета метрики качества модели."
      ]
    },
    {
      "cell_type": "code",
      "execution_count": null,
      "metadata": {
        "id": "ljIXi760xQgK"
      },
      "outputs": [],
      "source": [
        "merge_test_fill = test_fill.merge(\n",
        "    full_fill[['final.output.recovery', 'rougher.output.recovery', 'date']], how='left', on='date')"
      ]
    },
    {
      "cell_type": "markdown",
      "metadata": {
        "id": "MA-nnqXxxQgL"
      },
      "source": [
        "Удалим даты из наших таблиц, они для нас не бессмыленны"
      ]
    },
    {
      "cell_type": "code",
      "execution_count": null,
      "metadata": {
        "id": "Fw5MnMgAxQgL"
      },
      "outputs": [],
      "source": [
        "train_fill = train_fill.drop('date', axis=1)\n",
        "merge_test_fill = merge_test_fill.drop('date', axis=1)\n",
        "full_fill = full_fill.drop('date', axis=1)"
      ]
    },
    {
      "cell_type": "markdown",
      "metadata": {
        "id": "ZMETT3QHxQgL"
      },
      "source": [
        "Мы подготовили данные. Посмотрели количество пропусков и дубликатов. Заменили пустые значения ближайшими"
      ]
    },
    {
      "cell_type": "markdown",
      "metadata": {
        "id": "e29RDRz8xQgL"
      },
      "source": [
        "## Анализ данных"
      ]
    },
    {
      "cell_type": "markdown",
      "metadata": {
        "id": "t1UZLmZPxQgL"
      },
      "source": [
        "Посмотрим как меняется концентрация металлов (Au, Ag, Pb) на различных этапах очистки.\n",
        "Начнем с самого главного для нас: с золота."
      ]
    },
    {
      "cell_type": "code",
      "execution_count": null,
      "metadata": {
        "id": "bkMZccWHxQgL",
        "outputId": "f326c5c5-1d3c-46f6-9b98-3444776e479a"
      },
      "outputs": [
        {
          "data": {
            "image/png": "[encoded data removed]",
            "text/plain": [
              "<Figure size 864x648 with 1 Axes>"
            ]
          },
          "metadata": {
            "needs_background": "light"
          },
          "output_type": "display_data"
        }
      ],
      "source": [
        "plt.figure(figsize=[12,9])\n",
        "\n",
        "plt.hist(full_fill['final.output.concentrate_au'], bins=100, label = 'Финальная концентрация', alpha=.5)\n",
        "plt.hist(full_fill['primary_cleaner.output.concentrate_au'], bins=100, label = 'После первичной очистки', alpha=.5)\n",
        "plt.hist(full_fill['rougher.output.concentrate_au'], bins=100, label = 'После флотации', alpha=.5)\n",
        "\n",
        "plt.xlim([0, 55])\n",
        "plt.ylim([0, 2200])\n",
        "\n",
        "plt.xlabel('Концентрация золота')\n",
        "plt.ylabel('Количество')\n",
        "\n",
        "plt.legend(loc='upper left', fontsize='x-large')\n",
        "\n",
        "plt.title('Гистограмма распределения концентрации золота')\n",
        "plt.show()"
      ]
    },
    {
      "cell_type": "markdown",
      "metadata": {
        "id": "MCJdv7iDxQgL"
      },
      "source": [
        "Как мы видим концентрация золота растет после каждого этапа обработки. Так же стоит отметить, что есть нулевые показатели. и длинные хвосты к нулю"
      ]
    },
    {
      "cell_type": "markdown",
      "metadata": {
        "id": "PpomOdTUxQgL"
      },
      "source": [
        "Теперь посмотрим что происходит с серебром"
      ]
    },
    {
      "cell_type": "code",
      "execution_count": null,
      "metadata": {
        "id": "vXsKPaUIxQgM",
        "outputId": "1f999546-0d9d-4a5c-fb46-c5910e435182"
      },
      "outputs": [
        {
          "data": {
            "image/png": "[encoded data removed]",
            "text/plain": [
              "<Figure size 864x648 with 1 Axes>"
            ]
          },
          "metadata": {
            "needs_background": "light"
          },
          "output_type": "display_data"
        }
      ],
      "source": [
        "plt.figure(figsize=[12,9])\n",
        "\n",
        "plt.hist(full_fill['final.output.concentrate_ag'], bins=100, label = 'Финальная концентрация', alpha=.5)\n",
        "plt.hist(full_fill['primary_cleaner.output.concentrate_ag'], bins=100, label = 'После первичной очистки', alpha=.5)\n",
        "plt.hist(full_fill['rougher.output.concentrate_ag'], bins=100, label = 'После флотации', alpha=.5)\n",
        "\n",
        "plt.xlim([0, 25])\n",
        "plt.ylim([0, 1250])\n",
        "\n",
        "plt.xlabel('Концентрация серебра')\n",
        "plt.ylabel('Количество')\n",
        "\n",
        "plt.legend(loc='upper left', fontsize='x-large')\n",
        "\n",
        "plt.title('Гистограмма распределения концентрации серебра')\n",
        "plt.show()"
      ]
    },
    {
      "cell_type": "markdown",
      "metadata": {
        "id": "v0Y6juPKxQgM"
      },
      "source": [
        "Как мы видим наибольшее количество серебра убирают после флотации, затем количество постепенно уменьшается."
      ]
    },
    {
      "cell_type": "code",
      "execution_count": null,
      "metadata": {
        "id": "6djjLeNOxQgM",
        "outputId": "60449999-54ab-49e7-8310-11772b1fdf54"
      },
      "outputs": [
        {
          "data": {
            "image/png": "[encoded data removed]",
            "text/plain": [
              "<Figure size 864x648 with 1 Axes>"
            ]
          },
          "metadata": {
            "needs_background": "light"
          },
          "output_type": "display_data"
        }
      ],
      "source": [
        "plt.figure(figsize=[12,9])\n",
        "\n",
        "plt.hist(full_fill['final.output.concentrate_pb'], bins=100, label = 'Финальная концентрация', alpha=.5)\n",
        "plt.hist(full_fill['primary_cleaner.output.concentrate_pb'], bins=100, label = 'После первичной очистки', alpha=.5)\n",
        "plt.hist(full_fill['rougher.output.concentrate_pb'], bins=100, label = 'После флотации', alpha=.5)\n",
        "\n",
        "plt.xlim([0, 20])\n",
        "plt.ylim([0, 1000])\n",
        "\n",
        "plt.xlabel('Концентрация свинца')\n",
        "plt.ylabel('Количество')\n",
        "\n",
        "plt.legend(loc='upper right', fontsize='x-large')\n",
        "\n",
        "plt.title('Гистограмма распределения концентрации свинца')\n",
        "plt.show()"
      ]
    },
    {
      "cell_type": "markdown",
      "metadata": {
        "id": "gfCkqO2nxQgM"
      },
      "source": [
        "Свинец убирают практически одинаково со всех этапов. Видимо от него сложно очищать металл."
      ]
    },
    {
      "cell_type": "markdown",
      "metadata": {
        "id": "AL62FD_ExQgM"
      },
      "source": [
        "Сравним распределение размеров гранул сырья на обучающей и тестовой выборках."
      ]
    },
    {
      "cell_type": "code",
      "execution_count": null,
      "metadata": {
        "id": "PpUWG3bLxQgM",
        "outputId": "914ffa92-cbe7-45ba-d1ff-73b0ffb0f1b7"
      },
      "outputs": [
        {
          "data": {
            "image/png": "[encoded data removed]",
            "text/plain": [
              "<Figure size 864x648 with 1 Axes>"
            ]
          },
          "metadata": {
            "needs_background": "light"
          },
          "output_type": "display_data"
        }
      ],
      "source": [
        "plt.figure(figsize=[12,9])\n",
        "\n",
        "plt.hist(train_fill['primary_cleaner.input.feed_size'],\n",
        "         density=True,\n",
        "         bins=100,\n",
        "         label = 'Гранулы в тренировочной выборке',\n",
        "         alpha=.5)\n",
        "plt.hist(merge_test_fill['primary_cleaner.input.feed_size'],\n",
        "         density=True,\n",
        "         bins=100,\n",
        "         label = 'Гранулы в тестовой выборке',\n",
        "         alpha=.5)\n",
        "\n",
        "plt.xlabel('Размер гранул сырья')\n",
        "plt.ylabel('Количество')\n",
        "\n",
        "plt.legend(loc='upper right', fontsize='x-large')\n",
        "\n",
        "plt.title('Распределения гранул сырья после первичной очистки')\n",
        "plt.show()"
      ]
    },
    {
      "cell_type": "markdown",
      "metadata": {
        "id": "a8eDe2HFxQgM"
      },
      "source": [
        "Плотности практически одинаковые, с этим проблем нет, можем спокойно создавать модель и проверять на тестовой выборке."
      ]
    },
    {
      "cell_type": "markdown",
      "metadata": {
        "id": "XAXCWoBqxQgN"
      },
      "source": [
        "Посчитаем концентрацию всех веществ на каждой стадии"
      ]
    },
    {
      "cell_type": "code",
      "execution_count": null,
      "metadata": {
        "id": "zpo0MRtjxQgN"
      },
      "outputs": [],
      "source": [
        "rougher_input_feed = (full_fill['rougher.input.feed_ag'] +\n",
        "                     full_fill['rougher.input.feed_pb'] +\n",
        "                     full_fill['rougher.input.feed_sol'] +\n",
        "                     full_fill['rougher.input.feed_au'])\n",
        "\n",
        "rougher_output_concentrate = (full_fill['rougher.output.concentrate_ag'] +\n",
        "                             full_fill['rougher.output.concentrate_pb'] +\n",
        "                             full_fill['rougher.output.concentrate_sol'] +\n",
        "                             full_fill['rougher.output.concentrate_au'])\n",
        "\n",
        "final_output_concentrate = (full_fill['final.output.concentrate_ag'] +\n",
        "                           full_fill['final.output.concentrate_pb'] +\n",
        "                           full_fill['final.output.concentrate_sol'] +\n",
        "                           full_fill['final.output.concentrate_au'])"
      ]
    },
    {
      "cell_type": "code",
      "execution_count": null,
      "metadata": {
        "id": "5MD1iaKnxQgN"
      },
      "outputs": [],
      "source": [
        "plt.figure(figsize=[12,9])\n",
        "\n",
        "plt.hist(rougher_input_feed , bins=100, label = 'в сырье', alpha=.5)\n",
        "plt.hist(rougher_output_concentrate , bins=100, label = 'в черновом концентрате', alpha=.5)\n",
        "plt.hist(final_output_concentrate , bins=100, label = 'в финальном концентрате', alpha=.5)\n",
        "\n",
        "plt.xlim([0, 100])\n",
        "plt.ylim([0, 2500])\n",
        "\n",
        "plt.xlabel('Суммарная концентраця')\n",
        "plt.ylabel('Количество')\n",
        "\n",
        "plt.legend(loc='upper left', fontsize='x-large')\n",
        "\n",
        "plt.title('Суммарная концентрация всех веществ')\n",
        "plt.show()"
      ]
    },
    {
      "cell_type": "markdown",
      "metadata": {
        "id": "tGQnBm1vxQgN"
      },
      "source": [
        "Как мы видим, чем больше стадий обработок, тем выше и наш график. Так повышается концентрация веществ. В целом же распределение нормальное, но слева у нас относильно длинный хвост."
      ]
    },
    {
      "cell_type": "markdown",
      "metadata": {
        "id": "9YcV5y-zxQgN"
      },
      "source": [
        "Удалим нулевые значения и приведем количество признаков в обучающей выборке к тестовой"
      ]
    },
    {
      "cell_type": "code",
      "execution_count": null,
      "metadata": {
        "id": "JY0PG9MCxQgN"
      },
      "outputs": [],
      "source": [
        "train_fill = train_fill[(train_fill['final.output.concentrate_pb'] != 0) &\n",
        "                        (train_fill['final.output.concentrate_ag'] != 0) &\n",
        "                        (train_fill['final.output.concentrate_au'] != 0) &\n",
        "                        (train_fill['primary_cleaner.output.concentrate_pb'] != 0) &\n",
        "                        (train_fill['primary_cleaner.output.concentrate_ag'] != 0) &\n",
        "                        (train_fill['primary_cleaner.output.concentrate_au'] != 0) &\n",
        "                        (train_fill['rougher.output.concentrate_pb'] != 0) &\n",
        "                        (train_fill['rougher.output.concentrate_ag'] != 0) &\n",
        "                        (train_fill['rougher.output.concentrate_au'] != 0)]"
      ]
    },
    {
      "cell_type": "code",
      "execution_count": null,
      "metadata": {
        "scrolled": false,
        "id": "u35TtDhkxQgO"
      },
      "outputs": [],
      "source": [
        "columns_del = set(train_fill.columns) - set(merge_test_fill.columns)\n",
        "train_fill = train_fill.drop(columns=columns_del, axis=1)\n",
        "print(train_fill.shape)\n",
        "print(merge_test_fill.shape)"
      ]
    },
    {
      "cell_type": "markdown",
      "metadata": {
        "id": "52nBNldXxQgO"
      },
      "source": [
        "Мы посмотрели распределение металла на разных стадиях обработки, сколько всего металла мы получаем после всех стадий. Удалили нулевые значение и лишние колонки."
      ]
    },
    {
      "cell_type": "markdown",
      "metadata": {
        "id": "HOuQCuIxxQgO"
      },
      "source": [
        "## Модель"
      ]
    },
    {
      "cell_type": "markdown",
      "metadata": {
        "id": "o_7MQ2aOxQgO"
      },
      "source": [
        "Напишем функцию для расчета метрик sMAPE и итоговой sMAPE"
      ]
    },
    {
      "cell_type": "code",
      "execution_count": null,
      "metadata": {
        "id": "DdE3_D8qxQgO"
      },
      "outputs": [],
      "source": [
        "def smape(features,predict):\n",
        "    s = np.mean(abs(features - predict)/((abs(features)+abs(predict))/2))*100\n",
        "    return s"
      ]
    },
    {
      "cell_type": "code",
      "execution_count": null,
      "metadata": {
        "id": "4065faJGxQgO"
      },
      "outputs": [],
      "source": [
        "def final_smape(smape_rougher,smape_final):\n",
        "    s = 0.25*smape_rougher + 0.75*smape_final\n",
        "    return s"
      ]
    },
    {
      "cell_type": "markdown",
      "metadata": {
        "id": "VusMwikkxQgP"
      },
      "source": [
        "Теперь подготовим выборки для обучения и расчета эффективности модели"
      ]
    },
    {
      "cell_type": "code",
      "execution_count": null,
      "metadata": {
        "id": "_R2IRG2kxQgP"
      },
      "outputs": [],
      "source": [
        "features_train = train_fill.drop(['rougher.output.recovery', 'final.output.recovery'], axis=1)\n",
        "\n",
        "target_train_rougher = train_fill['rougher.output.recovery']\n",
        "target_train_final = train_fill['final.output.recovery']"
      ]
    },
    {
      "cell_type": "code",
      "execution_count": null,
      "metadata": {
        "id": "mqGor_18xQgP"
      },
      "outputs": [],
      "source": [
        "features_test = merge_test_fill.drop(['rougher.output.recovery', 'final.output.recovery'], axis=1)\n",
        "\n",
        "target_test_rougher = merge_test_fill['rougher.output.recovery']\n",
        "target_test_final = merge_test_fill['final.output.recovery']"
      ]
    },
    {
      "cell_type": "markdown",
      "metadata": {
        "id": "BLid-KAjxQgP"
      },
      "source": [
        "Теперь обучим наши модели. Начнем с дерева решений"
      ]
    },
    {
      "cell_type": "code",
      "execution_count": null,
      "metadata": {
        "id": "himETYbLxQgP"
      },
      "outputs": [],
      "source": [
        "smape_scorer = make_scorer(smape) #, greater_is_better=False"
      ]
    },
    {
      "cell_type": "code",
      "execution_count": null,
      "metadata": {
        "id": "keMb8tvnxQgP"
      },
      "outputs": [],
      "source": [
        "best_smape_rougher = 20\n",
        "for depth in range(1,11,1):\n",
        "    model_tree_rougher = DecisionTreeRegressor(max_depth=depth, random_state=12345).fit(features_train,target_train_rougher)\n",
        "    scores_tree_rougher = cross_val_score(model_tree_rougher,\n",
        "                                          features_train,\n",
        "                                          target_train_rougher,\n",
        "                                          scoring = smape_scorer,\n",
        "                                          cv = 5)\n",
        "    smape_rougher = np.mean(abs(scores_tree_rougher))\n",
        "    print(f'Глубина дерева: {depth}  Средняя оценка качества {smape_rougher}')\n",
        "    if smape_rougher < best_smape_rougher:\n",
        "        best_smape_rougher = smape_rougher\n",
        "        best_model_tree_rougher = model_tree_rougher\n",
        "        best_depth = depth\n",
        "print()\n",
        "print(f\"Лучшая модель при глубине дерева {best_depth}, с оценкой {best_smape_rougher}\")"
      ]
    },
    {
      "cell_type": "markdown",
      "metadata": {
        "id": "b55L5ooPxQgP"
      },
      "source": [
        "Как мы видим, лучшая глубина равна 4, сохраним модель и ключевые показатели."
      ]
    },
    {
      "cell_type": "markdown",
      "metadata": {
        "id": "0KhFQ89SxQgP"
      },
      "source": [
        "Теперь рассмотрим дерево решений для финального концентрата"
      ]
    },
    {
      "cell_type": "code",
      "execution_count": null,
      "metadata": {
        "scrolled": true,
        "id": "agTNhjM7xQgQ"
      },
      "outputs": [],
      "source": [
        "best_smape_final = 20\n",
        "for depth in range(1,11,1):\n",
        "    model_tree_final = DecisionTreeRegressor(max_depth=depth, random_state=12345).fit(features_train,target_train_final)\n",
        "    scores_tree_final = cross_val_score(model_tree_final,\n",
        "                                          features_train,\n",
        "                                          target_train_final,\n",
        "                                          scoring = smape_scorer,\n",
        "                                          cv = 5)\n",
        "    smape_final = np.mean(abs(scores_tree_final))\n",
        "    print(f'Глубина дерева: {depth}  Средняя оценка качества {smape_final}')\n",
        "    if smape_final < best_smape_final:\n",
        "        best_smape_final = smape_final\n",
        "        best_model_tree_final = model_tree_final\n",
        "        best_depth = depth\n",
        "print()\n",
        "print(f\"Лучшая модель при глубине дерева {best_depth}, с оценкой {best_smape_final}\")"
      ]
    },
    {
      "cell_type": "markdown",
      "metadata": {
        "id": "GG4cOUIpxQgQ"
      },
      "source": [
        "Лучший результат при глубине 3, а у чернового концентрата при глубине 4. Теперь расчитаем общий sMAPE."
      ]
    },
    {
      "cell_type": "markdown",
      "metadata": {
        "id": "C-NFW5YlxQgQ"
      },
      "source": [
        "Теперь посчитаем общий sMAPE"
      ]
    },
    {
      "cell_type": "code",
      "execution_count": null,
      "metadata": {
        "id": "TFHGOD8PxQgQ"
      },
      "outputs": [],
      "source": [
        "final_smape(best_smape_rougher, best_smape_final)"
      ]
    },
    {
      "cell_type": "markdown",
      "metadata": {
        "id": "SOP4WyotxQgQ"
      },
      "source": [
        "Посмотрим что покажет случайный лес"
      ]
    },
    {
      "cell_type": "code",
      "execution_count": null,
      "metadata": {
        "id": "WUWuVVyWxQgQ"
      },
      "outputs": [],
      "source": [
        "best_smape_rougher = 20\n",
        "for estimators in range(1,110,10):\n",
        "    model_forest_rougher = RandomForestRegressor(max_depth=3,\n",
        "                                                 n_estimators=estimators,\n",
        "                                                 random_state=12345).fit(features_train,target_train_rougher)\n",
        "    scores_forest_rougher = cross_val_score(model_forest_rougher,\n",
        "                                          features_train,\n",
        "                                          target_train_rougher,\n",
        "                                          scoring = smape_scorer,\n",
        "                                          cv = 5)\n",
        "    smape_rougher = np.mean(abs(scores_forest_rougher))\n",
        "    print(f'Количество деревьев: {estimators}  Средняя оценка качества {smape_rougher}')\n",
        "    if smape_rougher < best_smape_rougher:\n",
        "        best_smape_rougher = smape_rougher\n",
        "        best_model_forest_rougher = model_forest_rougher\n",
        "        best_estimators = estimators\n",
        "print()\n",
        "print(f\"Лучшая модель при количестве деревьев {best_estimators}, с оценкой {best_smape_rougher}\")"
      ]
    },
    {
      "cell_type": "markdown",
      "metadata": {
        "id": "0RWC6vmzxQgQ"
      },
      "source": [
        "Случайный лес показал результат лучше чем дерево решений. Посмотрим что будет на финальном концентрате"
      ]
    },
    {
      "cell_type": "code",
      "execution_count": null,
      "metadata": {
        "id": "LaXo90IcxQgQ"
      },
      "outputs": [],
      "source": [
        "best_smape_final = 20\n",
        "for estimators in range(1,110,10):\n",
        "    model_forest_final = RandomForestRegressor(max_depth=3,\n",
        "                                             n_estimators=estimators,\n",
        "                                             random_state=12345).fit(features_train,target_train_final)\n",
        "    scores_forest_final = cross_val_score(model_forest_final,\n",
        "                                          features_train,\n",
        "                                          target_train_final,\n",
        "                                          scoring = smape_scorer,\n",
        "                                          cv = 5)\n",
        "    smape_final = np.mean(abs(scores_forest_final))\n",
        "    print(f'Количество деревьев: {estimators}  Средняя оценка качества {smape_final}')\n",
        "    if smape_final < best_smape_final:\n",
        "        best_smape_final = smape_final\n",
        "        best_model_forest_final = model_forest_final\n",
        "        best_estimators = estimators\n",
        "print()\n",
        "print(f\"Лучшая модель при количестве деревьев {best_estimators}, с оценкой {best_smape_final}\")"
      ]
    },
    {
      "cell_type": "markdown",
      "metadata": {
        "id": "m6im7KTaxQgR"
      },
      "source": [
        "Финальный концентрат показал большую ошибку, по сравнению с черновым, но все же лучше, чем у дерева"
      ]
    },
    {
      "cell_type": "code",
      "execution_count": null,
      "metadata": {
        "scrolled": true,
        "id": "U79pGw_QxQgR"
      },
      "outputs": [],
      "source": [
        "final_smape(best_smape_rougher, best_smape_final)"
      ]
    },
    {
      "cell_type": "markdown",
      "metadata": {
        "id": "vrZuoyTUxQgR"
      },
      "source": [
        "Общий sMAPE оказался так же лучше. На данный момент это лучшая модель"
      ]
    },
    {
      "cell_type": "markdown",
      "metadata": {
        "id": "pJsE9AaBxQgS"
      },
      "source": [
        "Теперь линейная регрессия"
      ]
    },
    {
      "cell_type": "code",
      "execution_count": null,
      "metadata": {
        "id": "pWSeMzpRxQgS"
      },
      "outputs": [],
      "source": [
        "model_linear_rougher = LinearRegression().fit(features_train,target_train_rougher)\n",
        "scores_linear_rougher = cross_val_score(model_linear_rougher,\n",
        "                                          features_train,\n",
        "                                          target_train_rougher,\n",
        "                                          scoring = smape_scorer,\n",
        "                                          cv = 5)\n",
        "smape_rougher = np.mean(abs(scores_linear_rougher))\n",
        "\n",
        "print(f\"Оценка линейной регрессии {smape_rougher}\")"
      ]
    },
    {
      "cell_type": "code",
      "execution_count": null,
      "metadata": {
        "id": "kAQz5XzIxQgS"
      },
      "outputs": [],
      "source": [
        "model_linear_final = LinearRegression().fit(features_train,target_train_final)\n",
        "scores_linear_final = cross_val_score(model_linear_final,\n",
        "                                          features_train,\n",
        "                                          target_train_final,\n",
        "                                          scoring = smape_scorer,\n",
        "                                          cv = 5)\n",
        "smape_final = np.mean(abs(scores_linear_final))\n",
        "\n",
        "print(f\"Оценка линейной регрессии {smape_final}\")"
      ]
    },
    {
      "cell_type": "code",
      "execution_count": null,
      "metadata": {
        "scrolled": true,
        "id": "37b8xvSsxQgS"
      },
      "outputs": [],
      "source": [
        "final_smape(smape_rougher, best_smape_final)"
      ]
    },
    {
      "cell_type": "markdown",
      "metadata": {
        "id": "aDVI4pfBxQgS"
      },
      "source": [
        "Линейная регрессия оказалась хуже случайного леса."
      ]
    },
    {
      "cell_type": "markdown",
      "metadata": {
        "id": "zBDyROgixQgT"
      },
      "source": [
        "Наилучшая модель оказалась случайный лес по общему sMAPE, для чернового концентрата с количеством деревьев 81, для финального концентрата с 41."
      ]
    },
    {
      "cell_type": "markdown",
      "metadata": {
        "id": "WU2WI4rrxQgT"
      },
      "source": [
        "Теперь посмотрим как наша модель покажет себя на тестовой выборке"
      ]
    },
    {
      "cell_type": "code",
      "execution_count": null,
      "metadata": {
        "id": "dNeRIj0fxQgT"
      },
      "outputs": [],
      "source": [
        "rogher_predict = best_model_forest_rougher.predict(features_test)\n",
        "final_predict = best_model_forest_final.predict(features_test)\n",
        "\n",
        "print(f'Оценка качества предсказаний чернового концентрата {smape(target_test_rougher,rogher_predict)}')\n",
        "print(f'Оценка качества предсказаний финального концентрата {smape(target_test_final,final_predict)}')\n",
        "print(f'Финальная оценка {final_smape(smape(target_test_rougher,rogher_predict),smape(target_test_final,final_predict))}')"
      ]
    },
    {
      "cell_type": "markdown",
      "metadata": {
        "id": "rmX-L0IFxQgT"
      },
      "source": [
        "Показатель немного хуже, чем на обучающей выборке, но в целом вполне неплохо. Теперь сравним нашу модель с константной."
      ]
    },
    {
      "cell_type": "markdown",
      "metadata": {
        "id": "HExHwp0oxQgU"
      },
      "source": [
        "Создадим нашу константную модель, обучим и посчитаем sMAPE"
      ]
    },
    {
      "cell_type": "code",
      "execution_count": null,
      "metadata": {
        "id": "VJnRcYxfxQgU"
      },
      "outputs": [],
      "source": [
        "dummy_regressor_rougher = DummyRegressor(strategy=\"median\")\n",
        "dummy_regressor_rougher.fit(features_train,target_train_rougher)\n",
        "dummy_rougher_predict = dummy_regressor_rougher.predict(features_test)\n",
        "smape_dummy_rougher = smape(target_test_rougher, dummy_rougher_predict)\n",
        "print(f'Оценка качества предсказаний чернового концентрата {smape_dummy_rougher}')"
      ]
    },
    {
      "cell_type": "code",
      "execution_count": null,
      "metadata": {
        "id": "BGEXTw2nxQgU"
      },
      "outputs": [],
      "source": [
        "dummy_regressor_final = DummyRegressor(strategy=\"median\")\n",
        "dummy_regressor_final.fit(features_train,target_train_final)\n",
        "dummy_final_predict = dummy_regressor_final.predict(features_test)\n",
        "smape_dummy_final = smape(target_test_final, dummy_final_predict)\n",
        "print(f'Оценка качества предсказаний финального концентрата {smape_dummy_final}')"
      ]
    },
    {
      "cell_type": "code",
      "execution_count": null,
      "metadata": {
        "scrolled": true,
        "id": "5ArnyHLDxQgU"
      },
      "outputs": [],
      "source": [
        "print(f'Финальная оценка {final_smape(smape_dummy_rougher, smape_dummy_final)}')"
      ]
    },
    {
      "cell_type": "markdown",
      "metadata": {
        "id": "oP5A95Q5xQgU"
      },
      "source": [
        "Наша модель совсем немного лучше констаной, всего на 0,1, но думаю, что для моего опыта вполне неплохой результат."
      ]
    },
    {
      "cell_type": "markdown",
      "metadata": {
        "id": "VL3fnD4QxQgU"
      },
      "source": [
        "## Вывод"
      ]
    },
    {
      "cell_type": "markdown",
      "metadata": {
        "id": "pDjHzQ8AxQgU"
      },
      "source": [
        "Таким образом, мы проанализировали датасет с данными о технологическом процессе добычи золота из руды. Посмотрели какие металлы являются побочными при добыче золота, оценили их размеры. Немного почистили датасет для более эффектичного обучения модели. Проанализировали работу дерева решений, случайного леса и линейной регрессии. Выбрали наиболее подходящую модель, а именно модель случайного леса с гиперпараметрами 21 и 31 для чернового и финального концентрата соответственно."
      ]
    }
  ],
  "metadata": {
    "ExecuteTimeLog": [
      {
        "duration": 434,
        "start_time": "2023-01-22T08:45:56.916Z"
      },
      {
        "duration": 129,
        "start_time": "2023-01-22T08:47:31.846Z"
      },
      {
        "duration": 1938,
        "start_time": "2023-01-22T08:48:10.205Z"
      },
      {
        "duration": 3,
        "start_time": "2023-01-22T12:24:12.169Z"
      },
      {
        "duration": 676,
        "start_time": "2023-01-22T12:24:12.529Z"
      },
      {
        "duration": 29,
        "start_time": "2023-01-22T12:24:24.278Z"
      },
      {
        "duration": 20,
        "start_time": "2023-01-22T12:25:04.978Z"
      },
      {
        "duration": 22,
        "start_time": "2023-01-22T12:25:05.778Z"
      },
      {
        "duration": 26,
        "start_time": "2023-01-22T13:02:44.583Z"
      },
      {
        "duration": 7,
        "start_time": "2023-01-22T13:04:39.593Z"
      },
      {
        "duration": 24,
        "start_time": "2023-01-22T13:04:45.760Z"
      },
      {
        "duration": 11,
        "start_time": "2023-01-22T13:04:52.572Z"
      },
      {
        "duration": 12,
        "start_time": "2023-01-22T13:05:45.582Z"
      },
      {
        "duration": 10,
        "start_time": "2023-01-22T13:06:10.165Z"
      },
      {
        "duration": 13,
        "start_time": "2023-01-22T13:28:38.038Z"
      },
      {
        "duration": 19,
        "start_time": "2023-01-22T13:29:49.949Z"
      },
      {
        "duration": 10,
        "start_time": "2023-01-22T14:02:18.822Z"
      },
      {
        "duration": 269,
        "start_time": "2023-01-22T14:02:31.702Z"
      },
      {
        "duration": 73,
        "start_time": "2023-01-22T14:14:21.065Z"
      },
      {
        "duration": 14,
        "start_time": "2023-01-22T14:15:01.330Z"
      },
      {
        "duration": 661,
        "start_time": "2023-01-22T14:15:22.744Z"
      },
      {
        "duration": 55,
        "start_time": "2023-01-22T14:15:28.770Z"
      },
      {
        "duration": 7,
        "start_time": "2023-01-22T14:15:43.171Z"
      },
      {
        "duration": 12,
        "start_time": "2023-01-22T14:23:16.220Z"
      },
      {
        "duration": 104,
        "start_time": "2023-01-22T14:23:34.139Z"
      },
      {
        "duration": 5,
        "start_time": "2023-01-22T14:28:39.238Z"
      },
      {
        "duration": 23,
        "start_time": "2023-01-22T14:28:51.988Z"
      },
      {
        "duration": 7,
        "start_time": "2023-01-22T14:29:08.185Z"
      },
      {
        "duration": 10,
        "start_time": "2023-01-22T14:29:43.307Z"
      },
      {
        "duration": 95,
        "start_time": "2023-01-22T14:30:01.998Z"
      },
      {
        "duration": 72,
        "start_time": "2023-01-22T14:30:13.618Z"
      },
      {
        "duration": 7,
        "start_time": "2023-01-22T14:30:48.197Z"
      },
      {
        "duration": 1435,
        "start_time": "2023-01-22T15:05:16.967Z"
      },
      {
        "duration": 4040,
        "start_time": "2023-01-22T15:05:18.405Z"
      },
      {
        "duration": 40,
        "start_time": "2023-01-22T15:05:22.448Z"
      },
      {
        "duration": 51,
        "start_time": "2023-01-22T15:05:22.491Z"
      },
      {
        "duration": 49,
        "start_time": "2023-01-22T15:05:22.545Z"
      },
      {
        "duration": 20,
        "start_time": "2023-01-22T15:05:22.596Z"
      },
      {
        "duration": 19,
        "start_time": "2023-01-22T15:05:22.618Z"
      },
      {
        "duration": 49,
        "start_time": "2023-01-22T15:05:22.639Z"
      },
      {
        "duration": 76,
        "start_time": "2023-01-22T15:05:22.690Z"
      },
      {
        "duration": 357,
        "start_time": "2023-01-22T15:05:22.769Z"
      },
      {
        "duration": 11,
        "start_time": "2023-01-22T15:05:23.127Z"
      },
      {
        "duration": 180,
        "start_time": "2023-01-22T15:05:23.142Z"
      },
      {
        "duration": 150,
        "start_time": "2023-01-22T15:05:23.326Z"
      },
      {
        "duration": 8,
        "start_time": "2023-01-22T15:12:10.611Z"
      },
      {
        "duration": 12,
        "start_time": "2023-01-22T15:12:16.980Z"
      },
      {
        "duration": 27,
        "start_time": "2023-01-22T15:12:29.441Z"
      },
      {
        "duration": 10,
        "start_time": "2023-01-22T15:12:34.431Z"
      },
      {
        "duration": 14,
        "start_time": "2023-01-22T15:14:11.591Z"
      },
      {
        "duration": 541,
        "start_time": "2023-01-22T15:14:50.613Z"
      },
      {
        "duration": 12,
        "start_time": "2023-01-22T15:15:17.031Z"
      },
      {
        "duration": 11,
        "start_time": "2023-01-22T15:16:19.841Z"
      },
      {
        "duration": 13,
        "start_time": "2023-01-22T15:16:33.390Z"
      },
      {
        "duration": 11,
        "start_time": "2023-01-22T15:16:36.831Z"
      },
      {
        "duration": 11,
        "start_time": "2023-01-22T15:16:52.221Z"
      },
      {
        "duration": 11,
        "start_time": "2023-01-22T15:17:00.871Z"
      },
      {
        "duration": 10,
        "start_time": "2023-01-22T15:26:23.510Z"
      },
      {
        "duration": 7,
        "start_time": "2023-01-22T15:26:26.819Z"
      },
      {
        "duration": 24,
        "start_time": "2023-01-22T15:27:27.249Z"
      },
      {
        "duration": 19,
        "start_time": "2023-01-22T15:27:40.490Z"
      },
      {
        "duration": 21,
        "start_time": "2023-01-22T15:27:51.770Z"
      },
      {
        "duration": 26,
        "start_time": "2023-01-22T15:27:57.619Z"
      },
      {
        "duration": 21,
        "start_time": "2023-01-22T15:28:27.470Z"
      },
      {
        "duration": 17,
        "start_time": "2023-01-22T15:42:10.581Z"
      },
      {
        "duration": 22,
        "start_time": "2023-01-22T15:42:18.471Z"
      },
      {
        "duration": 20,
        "start_time": "2023-01-22T15:43:22.664Z"
      },
      {
        "duration": 30,
        "start_time": "2023-01-22T16:14:47.284Z"
      },
      {
        "duration": 20,
        "start_time": "2023-01-22T16:19:40.684Z"
      },
      {
        "duration": 1309,
        "start_time": "2023-01-22T16:28:15.162Z"
      },
      {
        "duration": 661,
        "start_time": "2023-01-22T16:28:16.474Z"
      },
      {
        "duration": 32,
        "start_time": "2023-01-22T16:28:17.136Z"
      },
      {
        "duration": 19,
        "start_time": "2023-01-22T16:28:17.170Z"
      },
      {
        "duration": 21,
        "start_time": "2023-01-22T16:28:17.191Z"
      },
      {
        "duration": 35,
        "start_time": "2023-01-22T16:28:17.215Z"
      },
      {
        "duration": 6,
        "start_time": "2023-01-22T16:28:17.252Z"
      },
      {
        "duration": 31,
        "start_time": "2023-01-22T16:28:17.259Z"
      },
      {
        "duration": 21,
        "start_time": "2023-01-22T16:28:17.291Z"
      },
      {
        "duration": 271,
        "start_time": "2023-01-22T16:28:17.315Z"
      },
      {
        "duration": 8,
        "start_time": "2023-01-22T16:28:17.587Z"
      },
      {
        "duration": 106,
        "start_time": "2023-01-22T16:28:17.597Z"
      },
      {
        "duration": 62,
        "start_time": "2023-01-22T16:28:17.705Z"
      },
      {
        "duration": 11,
        "start_time": "2023-01-22T16:28:17.769Z"
      },
      {
        "duration": 9,
        "start_time": "2023-01-22T16:28:17.782Z"
      },
      {
        "duration": 20,
        "start_time": "2023-01-22T16:28:17.793Z"
      },
      {
        "duration": 38,
        "start_time": "2023-01-22T16:28:17.815Z"
      },
      {
        "duration": 32,
        "start_time": "2023-01-22T16:28:17.854Z"
      },
      {
        "duration": 12,
        "start_time": "2023-01-22T16:28:17.887Z"
      },
      {
        "duration": 20,
        "start_time": "2023-01-22T16:38:10.019Z"
      },
      {
        "duration": 527,
        "start_time": "2023-01-22T16:40:56.469Z"
      },
      {
        "duration": 667,
        "start_time": "2023-01-22T16:41:33.369Z"
      },
      {
        "duration": 585,
        "start_time": "2023-01-22T16:41:43.602Z"
      },
      {
        "duration": 687,
        "start_time": "2023-01-22T16:42:04.769Z"
      },
      {
        "duration": 642,
        "start_time": "2023-01-22T16:47:27.618Z"
      },
      {
        "duration": 961,
        "start_time": "2023-01-22T16:48:06.105Z"
      },
      {
        "duration": 843,
        "start_time": "2023-01-22T16:48:47.949Z"
      },
      {
        "duration": 1275,
        "start_time": "2023-01-22T16:52:23.567Z"
      },
      {
        "duration": 551,
        "start_time": "2023-01-22T16:53:02.478Z"
      },
      {
        "duration": 666,
        "start_time": "2023-01-22T17:09:40.675Z"
      },
      {
        "duration": 545,
        "start_time": "2023-01-22T17:10:30.155Z"
      },
      {
        "duration": 704,
        "start_time": "2023-01-22T17:12:02.784Z"
      },
      {
        "duration": 871,
        "start_time": "2023-01-22T17:12:11.616Z"
      },
      {
        "duration": 868,
        "start_time": "2023-01-22T17:12:21.165Z"
      },
      {
        "duration": 662,
        "start_time": "2023-01-22T17:15:12.465Z"
      },
      {
        "duration": 553,
        "start_time": "2023-01-22T17:16:41.776Z"
      },
      {
        "duration": 552,
        "start_time": "2023-01-22T17:16:53.606Z"
      },
      {
        "duration": 669,
        "start_time": "2023-01-22T17:30:41.077Z"
      },
      {
        "duration": 423,
        "start_time": "2023-01-22T17:32:15.750Z"
      },
      {
        "duration": 439,
        "start_time": "2023-01-22T17:32:38.057Z"
      },
      {
        "duration": 520,
        "start_time": "2023-01-22T17:32:47.652Z"
      },
      {
        "duration": 443,
        "start_time": "2023-01-22T17:32:53.596Z"
      },
      {
        "duration": 407,
        "start_time": "2023-01-22T17:34:50.901Z"
      },
      {
        "duration": 399,
        "start_time": "2023-01-22T17:34:59.576Z"
      },
      {
        "duration": 540,
        "start_time": "2023-01-22T17:35:27.116Z"
      },
      {
        "duration": 428,
        "start_time": "2023-01-22T17:36:09.748Z"
      },
      {
        "duration": 471,
        "start_time": "2023-01-22T17:38:06.477Z"
      },
      {
        "duration": 441,
        "start_time": "2023-01-22T17:38:12.936Z"
      },
      {
        "duration": 13,
        "start_time": "2023-01-22T18:03:13.834Z"
      },
      {
        "duration": 650,
        "start_time": "2023-01-22T18:03:44.192Z"
      },
      {
        "duration": 540,
        "start_time": "2023-01-22T18:04:02.292Z"
      },
      {
        "duration": 670,
        "start_time": "2023-01-22T18:04:09.152Z"
      },
      {
        "duration": 573,
        "start_time": "2023-01-22T18:04:50.192Z"
      },
      {
        "duration": 581,
        "start_time": "2023-01-22T18:05:25.291Z"
      },
      {
        "duration": 713,
        "start_time": "2023-01-22T18:08:39.181Z"
      },
      {
        "duration": 832,
        "start_time": "2023-01-22T18:09:00.642Z"
      },
      {
        "duration": 564,
        "start_time": "2023-01-22T18:13:20.622Z"
      },
      {
        "duration": 733,
        "start_time": "2023-01-22T20:13:44.319Z"
      },
      {
        "duration": 27,
        "start_time": "2023-01-22T20:14:22.399Z"
      },
      {
        "duration": 1406,
        "start_time": "2023-01-23T08:48:27.445Z"
      },
      {
        "duration": 3034,
        "start_time": "2023-01-23T08:48:28.853Z"
      },
      {
        "duration": 28,
        "start_time": "2023-01-23T08:48:31.889Z"
      },
      {
        "duration": 16,
        "start_time": "2023-01-23T08:48:31.919Z"
      },
      {
        "duration": 34,
        "start_time": "2023-01-23T08:48:31.937Z"
      },
      {
        "duration": 14,
        "start_time": "2023-01-23T08:48:31.973Z"
      },
      {
        "duration": 6,
        "start_time": "2023-01-23T08:48:31.989Z"
      },
      {
        "duration": 26,
        "start_time": "2023-01-23T08:48:31.996Z"
      },
      {
        "duration": 45,
        "start_time": "2023-01-23T08:48:32.024Z"
      },
      {
        "duration": 256,
        "start_time": "2023-01-23T08:48:32.072Z"
      },
      {
        "duration": 8,
        "start_time": "2023-01-23T08:48:32.330Z"
      },
      {
        "duration": 90,
        "start_time": "2023-01-23T08:48:32.339Z"
      },
      {
        "duration": 84,
        "start_time": "2023-01-23T08:48:32.431Z"
      },
      {
        "duration": 11,
        "start_time": "2023-01-23T08:48:32.517Z"
      },
      {
        "duration": 20,
        "start_time": "2023-01-23T08:48:32.530Z"
      },
      {
        "duration": 19,
        "start_time": "2023-01-23T08:48:32.551Z"
      },
      {
        "duration": 9,
        "start_time": "2023-01-23T08:48:32.572Z"
      },
      {
        "duration": 33,
        "start_time": "2023-01-23T08:48:32.583Z"
      },
      {
        "duration": 42,
        "start_time": "2023-01-23T08:48:32.618Z"
      },
      {
        "duration": 19,
        "start_time": "2023-01-23T08:48:32.662Z"
      },
      {
        "duration": 543,
        "start_time": "2023-01-23T08:48:32.683Z"
      },
      {
        "duration": 588,
        "start_time": "2023-01-23T08:48:33.227Z"
      },
      {
        "duration": 525,
        "start_time": "2023-01-23T08:48:33.816Z"
      },
      {
        "duration": 406,
        "start_time": "2023-01-23T08:48:34.343Z"
      },
      {
        "duration": 6,
        "start_time": "2023-01-23T08:48:34.751Z"
      },
      {
        "duration": 618,
        "start_time": "2023-01-23T08:48:34.759Z"
      },
      {
        "duration": 34,
        "start_time": "2023-01-23T08:48:35.380Z"
      },
      {
        "duration": 21,
        "start_time": "2023-01-23T08:59:06.072Z"
      },
      {
        "duration": 30,
        "start_time": "2023-01-23T08:59:31.912Z"
      },
      {
        "duration": 9,
        "start_time": "2023-01-23T09:30:34.243Z"
      },
      {
        "duration": 5,
        "start_time": "2023-01-23T09:52:02.668Z"
      },
      {
        "duration": 41,
        "start_time": "2023-01-23T09:52:13.618Z"
      },
      {
        "duration": 6,
        "start_time": "2023-01-23T09:52:18.667Z"
      },
      {
        "duration": 11,
        "start_time": "2023-01-23T09:52:36.787Z"
      },
      {
        "duration": 7,
        "start_time": "2023-01-23T10:02:03.357Z"
      },
      {
        "duration": 142,
        "start_time": "2023-01-23T10:11:35.755Z"
      },
      {
        "duration": 1383,
        "start_time": "2023-01-23T10:12:19.787Z"
      },
      {
        "duration": 718,
        "start_time": "2023-01-23T10:12:21.172Z"
      },
      {
        "duration": 40,
        "start_time": "2023-01-23T10:12:21.892Z"
      },
      {
        "duration": 26,
        "start_time": "2023-01-23T10:12:21.934Z"
      },
      {
        "duration": 29,
        "start_time": "2023-01-23T10:12:21.963Z"
      },
      {
        "duration": 27,
        "start_time": "2023-01-23T10:12:21.994Z"
      },
      {
        "duration": 25,
        "start_time": "2023-01-23T10:12:22.023Z"
      },
      {
        "duration": 23,
        "start_time": "2023-01-23T10:12:22.050Z"
      },
      {
        "duration": 18,
        "start_time": "2023-01-23T10:12:22.074Z"
      },
      {
        "duration": 289,
        "start_time": "2023-01-23T10:12:22.094Z"
      },
      {
        "duration": 8,
        "start_time": "2023-01-23T10:12:22.385Z"
      },
      {
        "duration": 115,
        "start_time": "2023-01-23T10:12:22.395Z"
      },
      {
        "duration": 71,
        "start_time": "2023-01-23T10:12:22.513Z"
      },
      {
        "duration": 15,
        "start_time": "2023-01-23T10:12:22.588Z"
      },
      {
        "duration": 12,
        "start_time": "2023-01-23T10:12:22.605Z"
      },
      {
        "duration": 49,
        "start_time": "2023-01-23T10:12:22.620Z"
      },
      {
        "duration": 8,
        "start_time": "2023-01-23T10:12:22.671Z"
      },
      {
        "duration": 39,
        "start_time": "2023-01-23T10:12:22.681Z"
      },
      {
        "duration": 38,
        "start_time": "2023-01-23T10:12:22.722Z"
      },
      {
        "duration": 36,
        "start_time": "2023-01-23T10:12:22.765Z"
      },
      {
        "duration": 689,
        "start_time": "2023-01-23T10:12:22.805Z"
      },
      {
        "duration": 703,
        "start_time": "2023-01-23T10:12:23.497Z"
      },
      {
        "duration": 622,
        "start_time": "2023-01-23T10:12:24.202Z"
      },
      {
        "duration": 500,
        "start_time": "2023-01-23T10:12:24.825Z"
      },
      {
        "duration": 10,
        "start_time": "2023-01-23T10:12:25.327Z"
      },
      {
        "duration": 725,
        "start_time": "2023-01-23T10:12:25.339Z"
      },
      {
        "duration": 21,
        "start_time": "2023-01-23T10:12:26.066Z"
      },
      {
        "duration": 9,
        "start_time": "2023-01-23T10:12:26.089Z"
      },
      {
        "duration": 9,
        "start_time": "2023-01-23T10:12:26.100Z"
      },
      {
        "duration": 162,
        "start_time": "2023-01-23T10:12:51.935Z"
      },
      {
        "duration": 1403,
        "start_time": "2023-01-23T10:12:57.515Z"
      },
      {
        "duration": 697,
        "start_time": "2023-01-23T10:12:58.920Z"
      },
      {
        "duration": 33,
        "start_time": "2023-01-23T10:12:59.620Z"
      },
      {
        "duration": 24,
        "start_time": "2023-01-23T10:12:59.655Z"
      },
      {
        "duration": 33,
        "start_time": "2023-01-23T10:12:59.682Z"
      },
      {
        "duration": 40,
        "start_time": "2023-01-23T10:12:59.717Z"
      },
      {
        "duration": 9,
        "start_time": "2023-01-23T10:12:59.760Z"
      },
      {
        "duration": 34,
        "start_time": "2023-01-23T10:12:59.771Z"
      },
      {
        "duration": 51,
        "start_time": "2023-01-23T10:12:59.807Z"
      },
      {
        "duration": 275,
        "start_time": "2023-01-23T10:12:59.860Z"
      },
      {
        "duration": 13,
        "start_time": "2023-01-23T10:13:00.147Z"
      },
      {
        "duration": 115,
        "start_time": "2023-01-23T10:13:00.162Z"
      },
      {
        "duration": 80,
        "start_time": "2023-01-23T10:13:00.279Z"
      },
      {
        "duration": 15,
        "start_time": "2023-01-23T10:13:00.363Z"
      },
      {
        "duration": 31,
        "start_time": "2023-01-23T10:13:00.379Z"
      },
      {
        "duration": 43,
        "start_time": "2023-01-23T10:13:00.412Z"
      },
      {
        "duration": 9,
        "start_time": "2023-01-23T10:13:00.457Z"
      },
      {
        "duration": 44,
        "start_time": "2023-01-23T10:13:00.469Z"
      },
      {
        "duration": 13,
        "start_time": "2023-01-23T10:13:00.515Z"
      },
      {
        "duration": 32,
        "start_time": "2023-01-23T10:13:00.530Z"
      },
      {
        "duration": 612,
        "start_time": "2023-01-23T10:13:00.564Z"
      },
      {
        "duration": 758,
        "start_time": "2023-01-23T10:13:01.177Z"
      },
      {
        "duration": 705,
        "start_time": "2023-01-23T10:13:01.937Z"
      },
      {
        "duration": 494,
        "start_time": "2023-01-23T10:13:02.644Z"
      },
      {
        "duration": 14,
        "start_time": "2023-01-23T10:13:03.140Z"
      },
      {
        "duration": 679,
        "start_time": "2023-01-23T10:13:03.156Z"
      },
      {
        "duration": 26,
        "start_time": "2023-01-23T10:13:03.838Z"
      },
      {
        "duration": 42,
        "start_time": "2023-01-23T10:13:03.867Z"
      },
      {
        "duration": 13,
        "start_time": "2023-01-23T10:13:03.912Z"
      },
      {
        "duration": 125,
        "start_time": "2023-01-23T10:13:28.804Z"
      },
      {
        "duration": 1393,
        "start_time": "2023-01-23T10:13:34.465Z"
      },
      {
        "duration": 695,
        "start_time": "2023-01-23T10:13:35.861Z"
      },
      {
        "duration": 27,
        "start_time": "2023-01-23T10:13:36.558Z"
      },
      {
        "duration": 22,
        "start_time": "2023-01-23T10:13:36.587Z"
      },
      {
        "duration": 40,
        "start_time": "2023-01-23T10:13:36.612Z"
      },
      {
        "duration": 16,
        "start_time": "2023-01-23T10:13:36.654Z"
      },
      {
        "duration": 13,
        "start_time": "2023-01-23T10:13:36.673Z"
      },
      {
        "duration": 36,
        "start_time": "2023-01-23T10:13:36.687Z"
      },
      {
        "duration": 49,
        "start_time": "2023-01-23T10:13:36.725Z"
      },
      {
        "duration": 263,
        "start_time": "2023-01-23T10:13:36.776Z"
      },
      {
        "duration": 13,
        "start_time": "2023-01-23T10:13:37.042Z"
      },
      {
        "duration": 123,
        "start_time": "2023-01-23T10:13:37.057Z"
      },
      {
        "duration": 56,
        "start_time": "2023-01-23T10:13:37.181Z"
      },
      {
        "duration": 11,
        "start_time": "2023-01-23T10:13:37.247Z"
      },
      {
        "duration": 13,
        "start_time": "2023-01-23T10:13:37.260Z"
      },
      {
        "duration": 21,
        "start_time": "2023-01-23T10:13:37.275Z"
      },
      {
        "duration": 7,
        "start_time": "2023-01-23T10:13:37.298Z"
      },
      {
        "duration": 74,
        "start_time": "2023-01-23T10:13:37.307Z"
      },
      {
        "duration": 19,
        "start_time": "2023-01-23T10:13:37.384Z"
      },
      {
        "duration": 21,
        "start_time": "2023-01-23T10:13:37.406Z"
      },
      {
        "duration": 595,
        "start_time": "2023-01-23T10:13:37.430Z"
      },
      {
        "duration": 641,
        "start_time": "2023-01-23T10:13:38.027Z"
      },
      {
        "duration": 562,
        "start_time": "2023-01-23T10:13:38.670Z"
      },
      {
        "duration": 419,
        "start_time": "2023-01-23T10:13:39.234Z"
      },
      {
        "duration": 9,
        "start_time": "2023-01-23T10:13:39.655Z"
      },
      {
        "duration": 828,
        "start_time": "2023-01-23T10:13:39.666Z"
      },
      {
        "duration": 20,
        "start_time": "2023-01-23T10:13:40.496Z"
      },
      {
        "duration": 30,
        "start_time": "2023-01-23T10:13:40.518Z"
      },
      {
        "duration": 7,
        "start_time": "2023-01-23T10:13:40.551Z"
      },
      {
        "duration": 5,
        "start_time": "2023-01-23T10:31:51.482Z"
      },
      {
        "duration": 1325,
        "start_time": "2023-01-23T10:31:57.393Z"
      },
      {
        "duration": 727,
        "start_time": "2023-01-23T10:31:58.721Z"
      },
      {
        "duration": 28,
        "start_time": "2023-01-23T10:31:59.450Z"
      },
      {
        "duration": 19,
        "start_time": "2023-01-23T10:31:59.480Z"
      },
      {
        "duration": 47,
        "start_time": "2023-01-23T10:31:59.502Z"
      },
      {
        "duration": 29,
        "start_time": "2023-01-23T10:31:59.552Z"
      },
      {
        "duration": 7,
        "start_time": "2023-01-23T10:31:59.583Z"
      },
      {
        "duration": 56,
        "start_time": "2023-01-23T10:31:59.592Z"
      },
      {
        "duration": 27,
        "start_time": "2023-01-23T10:31:59.650Z"
      },
      {
        "duration": 358,
        "start_time": "2023-01-23T10:31:59.680Z"
      },
      {
        "duration": 16,
        "start_time": "2023-01-23T10:32:00.041Z"
      },
      {
        "duration": 146,
        "start_time": "2023-01-23T10:32:00.061Z"
      },
      {
        "duration": 0,
        "start_time": "2023-01-23T10:32:00.209Z"
      },
      {
        "duration": 0,
        "start_time": "2023-01-23T10:32:00.210Z"
      },
      {
        "duration": 0,
        "start_time": "2023-01-23T10:32:00.212Z"
      },
      {
        "duration": 0,
        "start_time": "2023-01-23T10:32:00.213Z"
      },
      {
        "duration": 0,
        "start_time": "2023-01-23T10:32:00.214Z"
      },
      {
        "duration": 0,
        "start_time": "2023-01-23T10:32:00.215Z"
      },
      {
        "duration": 0,
        "start_time": "2023-01-23T10:32:00.216Z"
      },
      {
        "duration": 0,
        "start_time": "2023-01-23T10:32:00.217Z"
      },
      {
        "duration": 0,
        "start_time": "2023-01-23T10:32:00.219Z"
      },
      {
        "duration": 0,
        "start_time": "2023-01-23T10:32:00.220Z"
      },
      {
        "duration": 0,
        "start_time": "2023-01-23T10:32:00.221Z"
      },
      {
        "duration": 0,
        "start_time": "2023-01-23T10:32:00.223Z"
      },
      {
        "duration": 0,
        "start_time": "2023-01-23T10:32:00.224Z"
      },
      {
        "duration": 0,
        "start_time": "2023-01-23T10:32:00.225Z"
      },
      {
        "duration": 0,
        "start_time": "2023-01-23T10:32:00.227Z"
      },
      {
        "duration": 0,
        "start_time": "2023-01-23T10:32:00.228Z"
      },
      {
        "duration": 0,
        "start_time": "2023-01-23T10:32:00.248Z"
      },
      {
        "duration": 0,
        "start_time": "2023-01-23T10:32:00.249Z"
      },
      {
        "duration": 1790,
        "start_time": "2023-01-23T10:35:53.832Z"
      },
      {
        "duration": 726,
        "start_time": "2023-01-23T10:35:55.625Z"
      },
      {
        "duration": 36,
        "start_time": "2023-01-23T10:35:56.353Z"
      },
      {
        "duration": 23,
        "start_time": "2023-01-23T10:35:56.392Z"
      },
      {
        "duration": 54,
        "start_time": "2023-01-23T10:35:56.418Z"
      },
      {
        "duration": 17,
        "start_time": "2023-01-23T10:35:56.474Z"
      },
      {
        "duration": 7,
        "start_time": "2023-01-23T10:35:56.493Z"
      },
      {
        "duration": 55,
        "start_time": "2023-01-23T10:35:56.502Z"
      },
      {
        "duration": 26,
        "start_time": "2023-01-23T10:35:56.559Z"
      },
      {
        "duration": 277,
        "start_time": "2023-01-23T10:35:56.587Z"
      },
      {
        "duration": 10,
        "start_time": "2023-01-23T10:35:56.866Z"
      },
      {
        "duration": 27,
        "start_time": "2023-01-23T10:35:56.878Z"
      },
      {
        "duration": 155,
        "start_time": "2023-01-23T10:35:56.907Z"
      },
      {
        "duration": 57,
        "start_time": "2023-01-23T10:35:57.066Z"
      },
      {
        "duration": 25,
        "start_time": "2023-01-23T10:35:57.125Z"
      },
      {
        "duration": 12,
        "start_time": "2023-01-23T10:35:57.153Z"
      },
      {
        "duration": 22,
        "start_time": "2023-01-23T10:35:57.167Z"
      },
      {
        "duration": 8,
        "start_time": "2023-01-23T10:35:57.191Z"
      },
      {
        "duration": 66,
        "start_time": "2023-01-23T10:35:57.201Z"
      },
      {
        "duration": 19,
        "start_time": "2023-01-23T10:35:57.269Z"
      },
      {
        "duration": 20,
        "start_time": "2023-01-23T10:35:57.290Z"
      },
      {
        "duration": 606,
        "start_time": "2023-01-23T10:35:57.312Z"
      },
      {
        "duration": 732,
        "start_time": "2023-01-23T10:35:57.921Z"
      },
      {
        "duration": 649,
        "start_time": "2023-01-23T10:35:58.655Z"
      },
      {
        "duration": 477,
        "start_time": "2023-01-23T10:35:59.306Z"
      },
      {
        "duration": 9,
        "start_time": "2023-01-23T10:35:59.786Z"
      },
      {
        "duration": 811,
        "start_time": "2023-01-23T10:35:59.798Z"
      },
      {
        "duration": 39,
        "start_time": "2023-01-23T10:36:00.611Z"
      },
      {
        "duration": 26,
        "start_time": "2023-01-23T10:36:00.652Z"
      },
      {
        "duration": 43,
        "start_time": "2023-01-23T10:36:00.680Z"
      },
      {
        "duration": 14,
        "start_time": "2023-01-23T10:37:53.902Z"
      },
      {
        "duration": 4,
        "start_time": "2023-01-23T10:38:47.526Z"
      },
      {
        "duration": 6,
        "start_time": "2023-01-23T11:29:37.098Z"
      },
      {
        "duration": 1340,
        "start_time": "2023-01-23T11:29:42.276Z"
      },
      {
        "duration": 780,
        "start_time": "2023-01-23T11:29:43.619Z"
      },
      {
        "duration": 36,
        "start_time": "2023-01-23T11:29:44.401Z"
      },
      {
        "duration": 38,
        "start_time": "2023-01-23T11:29:44.438Z"
      },
      {
        "duration": 20,
        "start_time": "2023-01-23T11:29:44.484Z"
      },
      {
        "duration": 13,
        "start_time": "2023-01-23T11:29:44.505Z"
      },
      {
        "duration": 28,
        "start_time": "2023-01-23T11:29:44.520Z"
      },
      {
        "duration": 33,
        "start_time": "2023-01-23T11:29:44.551Z"
      },
      {
        "duration": 29,
        "start_time": "2023-01-23T11:29:44.586Z"
      },
      {
        "duration": 266,
        "start_time": "2023-01-23T11:29:44.617Z"
      },
      {
        "duration": 7,
        "start_time": "2023-01-23T11:29:44.885Z"
      },
      {
        "duration": 24,
        "start_time": "2023-01-23T11:29:44.893Z"
      },
      {
        "duration": 99,
        "start_time": "2023-01-23T11:29:44.919Z"
      },
      {
        "duration": 72,
        "start_time": "2023-01-23T11:29:45.021Z"
      },
      {
        "duration": 10,
        "start_time": "2023-01-23T11:29:45.094Z"
      },
      {
        "duration": 14,
        "start_time": "2023-01-23T11:29:45.105Z"
      },
      {
        "duration": 48,
        "start_time": "2023-01-23T11:29:45.121Z"
      },
      {
        "duration": 11,
        "start_time": "2023-01-23T11:29:45.172Z"
      },
      {
        "duration": 21,
        "start_time": "2023-01-23T11:29:45.185Z"
      },
      {
        "duration": 13,
        "start_time": "2023-01-23T11:29:45.208Z"
      },
      {
        "duration": 37,
        "start_time": "2023-01-23T11:29:45.222Z"
      },
      {
        "duration": 678,
        "start_time": "2023-01-23T11:29:45.262Z"
      },
      {
        "duration": 710,
        "start_time": "2023-01-23T11:29:45.942Z"
      },
      {
        "duration": 648,
        "start_time": "2023-01-23T11:29:46.660Z"
      },
      {
        "duration": 479,
        "start_time": "2023-01-23T11:29:47.310Z"
      },
      {
        "duration": 9,
        "start_time": "2023-01-23T11:29:47.791Z"
      },
      {
        "duration": 794,
        "start_time": "2023-01-23T11:29:47.802Z"
      },
      {
        "duration": 34,
        "start_time": "2023-01-23T11:29:48.597Z"
      },
      {
        "duration": 25,
        "start_time": "2023-01-23T11:29:48.632Z"
      },
      {
        "duration": 61,
        "start_time": "2023-01-23T11:29:48.659Z"
      },
      {
        "duration": 22,
        "start_time": "2023-01-23T11:29:48.722Z"
      },
      {
        "duration": 66,
        "start_time": "2023-01-23T12:00:14.737Z"
      },
      {
        "duration": 9,
        "start_time": "2023-01-23T12:00:28.618Z"
      },
      {
        "duration": 1464,
        "start_time": "2023-01-23T12:36:48.138Z"
      },
      {
        "duration": 2019,
        "start_time": "2023-01-23T12:36:49.604Z"
      },
      {
        "duration": 34,
        "start_time": "2023-01-23T12:36:51.625Z"
      },
      {
        "duration": 38,
        "start_time": "2023-01-23T12:36:51.660Z"
      },
      {
        "duration": 23,
        "start_time": "2023-01-23T12:36:51.700Z"
      },
      {
        "duration": 45,
        "start_time": "2023-01-23T12:36:51.725Z"
      },
      {
        "duration": 24,
        "start_time": "2023-01-23T12:36:51.772Z"
      },
      {
        "duration": 51,
        "start_time": "2023-01-23T12:36:51.798Z"
      },
      {
        "duration": 45,
        "start_time": "2023-01-23T12:36:51.851Z"
      },
      {
        "duration": 282,
        "start_time": "2023-01-23T12:36:51.898Z"
      },
      {
        "duration": 8,
        "start_time": "2023-01-23T12:36:52.182Z"
      },
      {
        "duration": 41,
        "start_time": "2023-01-23T12:36:52.192Z"
      },
      {
        "duration": 147,
        "start_time": "2023-01-23T12:36:52.234Z"
      },
      {
        "duration": 77,
        "start_time": "2023-01-23T12:36:52.385Z"
      },
      {
        "duration": 13,
        "start_time": "2023-01-23T12:36:52.464Z"
      },
      {
        "duration": 30,
        "start_time": "2023-01-23T12:36:52.479Z"
      },
      {
        "duration": 70,
        "start_time": "2023-01-23T12:36:52.511Z"
      },
      {
        "duration": 15,
        "start_time": "2023-01-23T12:36:52.583Z"
      },
      {
        "duration": 85,
        "start_time": "2023-01-23T12:36:52.600Z"
      },
      {
        "duration": 15,
        "start_time": "2023-01-23T12:36:52.686Z"
      },
      {
        "duration": 49,
        "start_time": "2023-01-23T12:36:52.702Z"
      },
      {
        "duration": 639,
        "start_time": "2023-01-23T12:36:52.753Z"
      },
      {
        "duration": 667,
        "start_time": "2023-01-23T12:36:53.393Z"
      },
      {
        "duration": 724,
        "start_time": "2023-01-23T12:36:54.062Z"
      },
      {
        "duration": 467,
        "start_time": "2023-01-23T12:36:54.788Z"
      },
      {
        "duration": 9,
        "start_time": "2023-01-23T12:36:55.257Z"
      },
      {
        "duration": 717,
        "start_time": "2023-01-23T12:36:55.267Z"
      },
      {
        "duration": 41,
        "start_time": "2023-01-23T12:36:55.987Z"
      },
      {
        "duration": 11,
        "start_time": "2023-01-23T12:36:56.030Z"
      },
      {
        "duration": 24,
        "start_time": "2023-01-23T12:36:56.043Z"
      },
      {
        "duration": 13,
        "start_time": "2023-01-23T12:36:56.070Z"
      },
      {
        "duration": 27,
        "start_time": "2023-01-23T12:36:56.086Z"
      },
      {
        "duration": 13,
        "start_time": "2023-01-23T12:36:56.117Z"
      },
      {
        "duration": 150,
        "start_time": "2023-01-23T13:13:17.195Z"
      },
      {
        "duration": 1532,
        "start_time": "2023-01-23T13:14:39.424Z"
      },
      {
        "duration": 1227,
        "start_time": "2023-01-23T13:16:59.686Z"
      },
      {
        "duration": 15,
        "start_time": "2023-01-23T13:19:33.294Z"
      },
      {
        "duration": 14,
        "start_time": "2023-01-23T13:21:36.393Z"
      },
      {
        "duration": 1191,
        "start_time": "2023-01-23T13:22:02.953Z"
      },
      {
        "duration": 14,
        "start_time": "2023-01-23T13:22:13.443Z"
      },
      {
        "duration": 1183,
        "start_time": "2023-01-23T13:22:22.354Z"
      },
      {
        "duration": 11,
        "start_time": "2023-01-23T13:22:56.543Z"
      },
      {
        "duration": 25,
        "start_time": "2023-01-23T13:23:03.867Z"
      },
      {
        "duration": 1180,
        "start_time": "2023-01-23T13:23:46.103Z"
      },
      {
        "duration": 1443,
        "start_time": "2023-01-23T13:24:01.913Z"
      },
      {
        "duration": 636,
        "start_time": "2023-01-23T13:24:03.358Z"
      },
      {
        "duration": 29,
        "start_time": "2023-01-23T13:24:03.996Z"
      },
      {
        "duration": 17,
        "start_time": "2023-01-23T13:24:04.027Z"
      },
      {
        "duration": 21,
        "start_time": "2023-01-23T13:24:04.045Z"
      },
      {
        "duration": 46,
        "start_time": "2023-01-23T13:24:04.068Z"
      },
      {
        "duration": 10,
        "start_time": "2023-01-23T13:24:04.116Z"
      },
      {
        "duration": 43,
        "start_time": "2023-01-23T13:24:04.128Z"
      },
      {
        "duration": 33,
        "start_time": "2023-01-23T13:24:04.174Z"
      },
      {
        "duration": 317,
        "start_time": "2023-01-23T13:24:04.211Z"
      },
      {
        "duration": 10,
        "start_time": "2023-01-23T13:24:04.530Z"
      },
      {
        "duration": 16,
        "start_time": "2023-01-23T13:24:04.542Z"
      },
      {
        "duration": 138,
        "start_time": "2023-01-23T13:24:04.560Z"
      },
      {
        "duration": 61,
        "start_time": "2023-01-23T13:24:04.700Z"
      },
      {
        "duration": 10,
        "start_time": "2023-01-23T13:24:04.764Z"
      },
      {
        "duration": 34,
        "start_time": "2023-01-23T13:24:04.776Z"
      },
      {
        "duration": 22,
        "start_time": "2023-01-23T13:24:04.812Z"
      },
      {
        "duration": 7,
        "start_time": "2023-01-23T13:24:04.837Z"
      },
      {
        "duration": 28,
        "start_time": "2023-01-23T13:24:04.847Z"
      },
      {
        "duration": 36,
        "start_time": "2023-01-23T13:24:04.877Z"
      },
      {
        "duration": 18,
        "start_time": "2023-01-23T13:24:04.915Z"
      },
      {
        "duration": 630,
        "start_time": "2023-01-23T13:24:04.934Z"
      },
      {
        "duration": 647,
        "start_time": "2023-01-23T13:24:05.567Z"
      },
      {
        "duration": 597,
        "start_time": "2023-01-23T13:24:06.216Z"
      },
      {
        "duration": 468,
        "start_time": "2023-01-23T13:24:06.815Z"
      },
      {
        "duration": 18,
        "start_time": "2023-01-23T13:24:07.285Z"
      },
      {
        "duration": 673,
        "start_time": "2023-01-23T13:24:07.305Z"
      },
      {
        "duration": 29,
        "start_time": "2023-01-23T13:24:07.981Z"
      },
      {
        "duration": 13,
        "start_time": "2023-01-23T13:24:08.012Z"
      },
      {
        "duration": 11,
        "start_time": "2023-01-23T13:24:08.027Z"
      },
      {
        "duration": 6,
        "start_time": "2023-01-23T13:24:08.040Z"
      },
      {
        "duration": 15,
        "start_time": "2023-01-23T13:24:08.048Z"
      },
      {
        "duration": 12,
        "start_time": "2023-01-23T13:24:08.065Z"
      },
      {
        "duration": 1404,
        "start_time": "2023-01-23T13:24:08.102Z"
      },
      {
        "duration": 1616,
        "start_time": "2023-01-23T13:54:40.977Z"
      },
      {
        "duration": 3282,
        "start_time": "2023-01-23T13:54:42.595Z"
      },
      {
        "duration": 27,
        "start_time": "2023-01-23T13:54:45.879Z"
      },
      {
        "duration": 20,
        "start_time": "2023-01-23T13:54:45.909Z"
      },
      {
        "duration": 34,
        "start_time": "2023-01-23T13:54:45.931Z"
      },
      {
        "duration": 26,
        "start_time": "2023-01-23T13:54:45.967Z"
      },
      {
        "duration": 9,
        "start_time": "2023-01-23T13:54:45.995Z"
      },
      {
        "duration": 44,
        "start_time": "2023-01-23T13:54:46.005Z"
      },
      {
        "duration": 42,
        "start_time": "2023-01-23T13:54:46.051Z"
      },
      {
        "duration": 290,
        "start_time": "2023-01-23T13:54:46.096Z"
      },
      {
        "duration": 10,
        "start_time": "2023-01-23T13:54:46.389Z"
      },
      {
        "duration": 15,
        "start_time": "2023-01-23T13:54:46.401Z"
      },
      {
        "duration": 143,
        "start_time": "2023-01-23T13:54:46.418Z"
      },
      {
        "duration": 91,
        "start_time": "2023-01-23T13:54:46.564Z"
      },
      {
        "duration": 11,
        "start_time": "2023-01-23T13:54:46.657Z"
      },
      {
        "duration": 9,
        "start_time": "2023-01-23T13:54:46.670Z"
      },
      {
        "duration": 24,
        "start_time": "2023-01-23T13:54:46.681Z"
      },
      {
        "duration": 35,
        "start_time": "2023-01-23T13:54:46.707Z"
      },
      {
        "duration": 24,
        "start_time": "2023-01-23T13:54:46.745Z"
      },
      {
        "duration": 15,
        "start_time": "2023-01-23T13:54:46.771Z"
      },
      {
        "duration": 21,
        "start_time": "2023-01-23T13:54:46.788Z"
      },
      {
        "duration": 705,
        "start_time": "2023-01-23T13:54:46.811Z"
      },
      {
        "duration": 749,
        "start_time": "2023-01-23T13:54:47.519Z"
      },
      {
        "duration": 825,
        "start_time": "2023-01-23T13:54:48.270Z"
      },
      {
        "duration": 564,
        "start_time": "2023-01-23T13:54:49.096Z"
      },
      {
        "duration": 8,
        "start_time": "2023-01-23T13:54:49.662Z"
      },
      {
        "duration": 722,
        "start_time": "2023-01-23T13:54:49.672Z"
      },
      {
        "duration": 29,
        "start_time": "2023-01-23T13:54:50.400Z"
      },
      {
        "duration": 32,
        "start_time": "2023-01-23T13:54:50.440Z"
      },
      {
        "duration": 21,
        "start_time": "2023-01-23T13:54:50.474Z"
      },
      {
        "duration": 25,
        "start_time": "2023-01-23T13:54:50.498Z"
      },
      {
        "duration": 30,
        "start_time": "2023-01-23T13:54:50.525Z"
      },
      {
        "duration": 33,
        "start_time": "2023-01-23T13:54:50.557Z"
      },
      {
        "duration": 1425,
        "start_time": "2023-01-23T13:54:50.591Z"
      },
      {
        "duration": 1540,
        "start_time": "2023-01-23T13:55:21.766Z"
      },
      {
        "duration": 865,
        "start_time": "2023-01-23T13:55:47.026Z"
      },
      {
        "duration": 1444,
        "start_time": "2023-01-23T13:56:02.076Z"
      },
      {
        "duration": 9,
        "start_time": "2023-01-23T14:22:42.082Z"
      },
      {
        "duration": 7,
        "start_time": "2023-01-23T14:24:38.488Z"
      },
      {
        "duration": 5,
        "start_time": "2023-01-23T14:24:38.913Z"
      },
      {
        "duration": 4,
        "start_time": "2023-01-23T14:48:26.881Z"
      },
      {
        "duration": 4,
        "start_time": "2023-01-23T14:48:28.102Z"
      },
      {
        "duration": 74,
        "start_time": "2023-01-23T14:56:24.400Z"
      },
      {
        "duration": 673,
        "start_time": "2023-01-23T15:16:20.998Z"
      },
      {
        "duration": 12,
        "start_time": "2023-01-23T15:19:31.488Z"
      },
      {
        "duration": 665,
        "start_time": "2023-01-23T15:19:32.098Z"
      },
      {
        "duration": 10,
        "start_time": "2023-01-23T15:20:24.847Z"
      },
      {
        "duration": 3537,
        "start_time": "2023-01-23T15:20:29.654Z"
      },
      {
        "duration": 50188,
        "start_time": "2023-01-23T15:27:27.068Z"
      },
      {
        "duration": 18286,
        "start_time": "2023-01-23T15:46:03.820Z"
      },
      {
        "duration": 1543,
        "start_time": "2023-01-23T20:19:17.855Z"
      },
      {
        "duration": 1960,
        "start_time": "2023-01-23T20:19:19.401Z"
      },
      {
        "duration": 39,
        "start_time": "2023-01-23T20:19:21.363Z"
      },
      {
        "duration": 24,
        "start_time": "2023-01-23T20:19:21.405Z"
      },
      {
        "duration": 32,
        "start_time": "2023-01-23T20:19:21.430Z"
      },
      {
        "duration": 19,
        "start_time": "2023-01-23T20:19:21.464Z"
      },
      {
        "duration": 10,
        "start_time": "2023-01-23T20:19:21.485Z"
      },
      {
        "duration": 32,
        "start_time": "2023-01-23T20:19:21.496Z"
      },
      {
        "duration": 18,
        "start_time": "2023-01-23T20:19:21.554Z"
      },
      {
        "duration": 273,
        "start_time": "2023-01-23T20:19:21.574Z"
      },
      {
        "duration": 10,
        "start_time": "2023-01-23T20:19:21.849Z"
      },
      {
        "duration": 15,
        "start_time": "2023-01-23T20:19:21.861Z"
      },
      {
        "duration": 115,
        "start_time": "2023-01-23T20:19:21.878Z"
      },
      {
        "duration": 69,
        "start_time": "2023-01-23T20:19:21.994Z"
      },
      {
        "duration": 10,
        "start_time": "2023-01-23T20:19:22.064Z"
      },
      {
        "duration": 9,
        "start_time": "2023-01-23T20:19:22.076Z"
      },
      {
        "duration": 20,
        "start_time": "2023-01-23T20:19:22.086Z"
      },
      {
        "duration": 7,
        "start_time": "2023-01-23T20:19:22.107Z"
      },
      {
        "duration": 57,
        "start_time": "2023-01-23T20:19:22.116Z"
      },
      {
        "duration": 14,
        "start_time": "2023-01-23T20:19:22.174Z"
      },
      {
        "duration": 16,
        "start_time": "2023-01-23T20:19:22.190Z"
      },
      {
        "duration": 675,
        "start_time": "2023-01-23T20:19:22.208Z"
      },
      {
        "duration": 587,
        "start_time": "2023-01-23T20:19:22.885Z"
      },
      {
        "duration": 720,
        "start_time": "2023-01-23T20:19:23.474Z"
      },
      {
        "duration": 584,
        "start_time": "2023-01-23T20:19:24.196Z"
      },
      {
        "duration": 9,
        "start_time": "2023-01-23T20:19:24.782Z"
      },
      {
        "duration": 563,
        "start_time": "2023-01-23T20:19:24.793Z"
      },
      {
        "duration": 21,
        "start_time": "2023-01-23T20:19:25.359Z"
      },
      {
        "duration": 10,
        "start_time": "2023-01-23T20:19:25.382Z"
      },
      {
        "duration": 9,
        "start_time": "2023-01-23T20:19:25.394Z"
      },
      {
        "duration": 8,
        "start_time": "2023-01-23T20:19:25.405Z"
      },
      {
        "duration": 15,
        "start_time": "2023-01-23T20:19:25.414Z"
      },
      {
        "duration": 22,
        "start_time": "2023-01-23T20:19:25.431Z"
      },
      {
        "duration": 12,
        "start_time": "2023-01-23T20:19:25.456Z"
      },
      {
        "duration": 7,
        "start_time": "2023-01-23T20:19:25.470Z"
      },
      {
        "duration": 5,
        "start_time": "2023-01-23T20:19:25.478Z"
      },
      {
        "duration": 18471,
        "start_time": "2023-01-23T20:19:25.485Z"
      },
      {
        "duration": 18613,
        "start_time": "2023-01-23T20:20:12.665Z"
      },
      {
        "duration": 107,
        "start_time": "2023-01-23T20:23:41.615Z"
      },
      {
        "duration": 18471,
        "start_time": "2023-01-23T20:24:03.184Z"
      },
      {
        "duration": 5,
        "start_time": "2023-01-23T20:25:22.774Z"
      },
      {
        "duration": 1655,
        "start_time": "2023-01-24T14:11:00.849Z"
      },
      {
        "duration": 2447,
        "start_time": "2023-01-24T14:11:02.506Z"
      },
      {
        "duration": 26,
        "start_time": "2023-01-24T14:11:04.955Z"
      },
      {
        "duration": 20,
        "start_time": "2023-01-24T14:11:04.984Z"
      },
      {
        "duration": 32,
        "start_time": "2023-01-24T14:11:05.006Z"
      },
      {
        "duration": 36,
        "start_time": "2023-01-24T14:11:05.048Z"
      },
      {
        "duration": 57,
        "start_time": "2023-01-24T14:11:05.086Z"
      },
      {
        "duration": 42,
        "start_time": "2023-01-24T14:11:05.153Z"
      },
      {
        "duration": 40,
        "start_time": "2023-01-24T14:11:05.196Z"
      },
      {
        "duration": 285,
        "start_time": "2023-01-24T14:11:05.238Z"
      },
      {
        "duration": 28,
        "start_time": "2023-01-24T14:11:05.524Z"
      },
      {
        "duration": 42,
        "start_time": "2023-01-24T14:11:05.554Z"
      },
      {
        "duration": 108,
        "start_time": "2023-01-24T14:11:05.597Z"
      },
      {
        "duration": 74,
        "start_time": "2023-01-24T14:11:05.707Z"
      },
      {
        "duration": 11,
        "start_time": "2023-01-24T14:11:05.783Z"
      },
      {
        "duration": 46,
        "start_time": "2023-01-24T14:11:05.795Z"
      },
      {
        "duration": 43,
        "start_time": "2023-01-24T14:11:05.844Z"
      },
      {
        "duration": 31,
        "start_time": "2023-01-24T14:11:05.889Z"
      },
      {
        "duration": 54,
        "start_time": "2023-01-24T14:11:05.921Z"
      },
      {
        "duration": 23,
        "start_time": "2023-01-24T14:11:05.977Z"
      },
      {
        "duration": 26,
        "start_time": "2023-01-24T14:11:06.002Z"
      },
      {
        "duration": 726,
        "start_time": "2023-01-24T14:11:06.030Z"
      },
      {
        "duration": 599,
        "start_time": "2023-01-24T14:11:06.758Z"
      },
      {
        "duration": 625,
        "start_time": "2023-01-24T14:11:07.359Z"
      },
      {
        "duration": 588,
        "start_time": "2023-01-24T14:11:07.988Z"
      },
      {
        "duration": 13,
        "start_time": "2023-01-24T14:11:08.578Z"
      },
      {
        "duration": 687,
        "start_time": "2023-01-24T14:11:08.593Z"
      },
      {
        "duration": 21,
        "start_time": "2023-01-24T14:11:09.284Z"
      },
      {
        "duration": 27,
        "start_time": "2023-01-24T14:11:09.306Z"
      },
      {
        "duration": 38,
        "start_time": "2023-01-24T14:11:09.335Z"
      },
      {
        "duration": 30,
        "start_time": "2023-01-24T14:11:09.375Z"
      },
      {
        "duration": 29,
        "start_time": "2023-01-24T14:11:09.407Z"
      },
      {
        "duration": 47,
        "start_time": "2023-01-24T14:11:09.438Z"
      },
      {
        "duration": 39,
        "start_time": "2023-01-24T14:11:09.487Z"
      },
      {
        "duration": 42,
        "start_time": "2023-01-24T14:11:09.528Z"
      },
      {
        "duration": 37,
        "start_time": "2023-01-24T14:11:09.572Z"
      },
      {
        "duration": 18984,
        "start_time": "2023-01-24T14:11:09.611Z"
      },
      {
        "duration": 19525,
        "start_time": "2023-01-24T14:11:28.597Z"
      },
      {
        "duration": 5,
        "start_time": "2023-01-24T14:11:48.124Z"
      },
      {
        "duration": 388901,
        "start_time": "2023-01-24T14:11:48.130Z"
      },
      {
        "duration": 393863,
        "start_time": "2023-01-24T14:18:17.040Z"
      },
      {
        "duration": 4,
        "start_time": "2023-01-24T14:24:50.905Z"
      },
      {
        "duration": 37499,
        "start_time": "2023-01-24T14:56:08.528Z"
      },
      {
        "duration": 378054,
        "start_time": "2023-01-24T15:27:16.025Z"
      },
      {
        "duration": 118,
        "start_time": "2023-01-24T16:02:02.111Z"
      },
      {
        "duration": 12,
        "start_time": "2023-01-24T16:02:02.605Z"
      },
      {
        "duration": 1658,
        "start_time": "2023-01-24T16:02:12.187Z"
      },
      {
        "duration": 1439,
        "start_time": "2023-01-24T16:02:23.101Z"
      },
      {
        "duration": 4,
        "start_time": "2023-01-24T16:02:24.544Z"
      },
      {
        "duration": 1463,
        "start_time": "2023-01-24T16:19:39.878Z"
      },
      {
        "duration": 4,
        "start_time": "2023-01-24T16:19:41.343Z"
      },
      {
        "duration": 2218,
        "start_time": "2023-01-24T16:33:25.987Z"
      },
      {
        "duration": 8123,
        "start_time": "2023-01-24T16:35:11.477Z"
      },
      {
        "duration": 8247,
        "start_time": "2023-01-24T16:35:22.082Z"
      },
      {
        "duration": 20253,
        "start_time": "2023-01-24T16:38:08.799Z"
      },
      {
        "duration": 1627,
        "start_time": "2023-01-25T09:48:08.677Z"
      },
      {
        "duration": 2570,
        "start_time": "2023-01-25T09:48:10.306Z"
      },
      {
        "duration": 26,
        "start_time": "2023-01-25T09:48:12.878Z"
      },
      {
        "duration": 18,
        "start_time": "2023-01-25T09:48:12.906Z"
      },
      {
        "duration": 29,
        "start_time": "2023-01-25T09:48:12.925Z"
      },
      {
        "duration": 14,
        "start_time": "2023-01-25T09:48:12.956Z"
      },
      {
        "duration": 14,
        "start_time": "2023-01-25T09:48:12.971Z"
      },
      {
        "duration": 24,
        "start_time": "2023-01-25T09:48:12.987Z"
      },
      {
        "duration": 38,
        "start_time": "2023-01-25T09:48:13.013Z"
      },
      {
        "duration": 271,
        "start_time": "2023-01-25T09:48:13.055Z"
      },
      {
        "duration": 17,
        "start_time": "2023-01-25T09:48:13.328Z"
      },
      {
        "duration": 17,
        "start_time": "2023-01-25T09:48:13.347Z"
      },
      {
        "duration": 106,
        "start_time": "2023-01-25T09:48:13.365Z"
      },
      {
        "duration": 68,
        "start_time": "2023-01-25T09:48:13.473Z"
      },
      {
        "duration": 10,
        "start_time": "2023-01-25T09:48:13.543Z"
      },
      {
        "duration": 9,
        "start_time": "2023-01-25T09:48:13.554Z"
      },
      {
        "duration": 20,
        "start_time": "2023-01-25T09:48:13.565Z"
      },
      {
        "duration": 8,
        "start_time": "2023-01-25T09:48:13.587Z"
      },
      {
        "duration": 59,
        "start_time": "2023-01-25T09:48:13.597Z"
      },
      {
        "duration": 16,
        "start_time": "2023-01-25T09:48:13.658Z"
      },
      {
        "duration": 22,
        "start_time": "2023-01-25T09:48:13.676Z"
      },
      {
        "duration": 669,
        "start_time": "2023-01-25T09:48:13.699Z"
      },
      {
        "duration": 578,
        "start_time": "2023-01-25T09:48:14.370Z"
      },
      {
        "duration": 583,
        "start_time": "2023-01-25T09:48:14.950Z"
      },
      {
        "duration": 554,
        "start_time": "2023-01-25T09:48:15.535Z"
      },
      {
        "duration": 7,
        "start_time": "2023-01-25T09:48:16.091Z"
      },
      {
        "duration": 593,
        "start_time": "2023-01-25T09:48:16.099Z"
      },
      {
        "duration": 6,
        "start_time": "2023-01-25T09:48:16.695Z"
      },
      {
        "duration": 15,
        "start_time": "2023-01-25T09:48:16.702Z"
      },
      {
        "duration": 9,
        "start_time": "2023-01-25T09:48:16.719Z"
      },
      {
        "duration": 24,
        "start_time": "2023-01-25T09:48:16.729Z"
      },
      {
        "duration": 25,
        "start_time": "2023-01-25T09:48:16.755Z"
      },
      {
        "duration": 15,
        "start_time": "2023-01-25T09:48:16.781Z"
      },
      {
        "duration": 8,
        "start_time": "2023-01-25T09:48:16.797Z"
      },
      {
        "duration": 18541,
        "start_time": "2023-01-25T09:48:16.807Z"
      },
      {
        "duration": 19024,
        "start_time": "2023-01-25T09:48:35.350Z"
      },
      {
        "duration": 4,
        "start_time": "2023-01-25T09:48:54.376Z"
      },
      {
        "duration": 375841,
        "start_time": "2023-01-25T09:48:54.382Z"
      },
      {
        "duration": 385348,
        "start_time": "2023-01-25T09:55:10.225Z"
      },
      {
        "duration": 4,
        "start_time": "2023-01-25T10:01:35.575Z"
      },
      {
        "duration": 1767,
        "start_time": "2023-01-25T10:01:35.580Z"
      },
      {
        "duration": 1995,
        "start_time": "2023-01-25T10:01:37.349Z"
      },
      {
        "duration": 4,
        "start_time": "2023-01-25T10:01:39.346Z"
      },
      {
        "duration": 10897,
        "start_time": "2023-01-25T10:01:39.352Z"
      },
      {
        "duration": 10690,
        "start_time": "2023-01-25T10:18:59.761Z"
      },
      {
        "duration": 1452,
        "start_time": "2023-01-25T10:55:47.996Z"
      },
      {
        "duration": 674,
        "start_time": "2023-01-25T10:55:49.450Z"
      },
      {
        "duration": 34,
        "start_time": "2023-01-25T10:55:50.125Z"
      },
      {
        "duration": 18,
        "start_time": "2023-01-25T10:55:50.161Z"
      },
      {
        "duration": 20,
        "start_time": "2023-01-25T10:55:50.181Z"
      },
      {
        "duration": 38,
        "start_time": "2023-01-25T10:55:50.202Z"
      },
      {
        "duration": 7,
        "start_time": "2023-01-25T10:55:50.242Z"
      },
      {
        "duration": 35,
        "start_time": "2023-01-25T10:55:50.251Z"
      },
      {
        "duration": 37,
        "start_time": "2023-01-25T10:55:50.287Z"
      },
      {
        "duration": 282,
        "start_time": "2023-01-25T10:55:50.327Z"
      },
      {
        "duration": 10,
        "start_time": "2023-01-25T10:55:50.611Z"
      },
      {
        "duration": 29,
        "start_time": "2023-01-25T10:55:50.623Z"
      },
      {
        "duration": 105,
        "start_time": "2023-01-25T10:55:50.654Z"
      },
      {
        "duration": 59,
        "start_time": "2023-01-25T10:55:50.760Z"
      },
      {
        "duration": 23,
        "start_time": "2023-01-25T10:55:50.821Z"
      },
      {
        "duration": 10,
        "start_time": "2023-01-25T10:55:50.845Z"
      },
      {
        "duration": 24,
        "start_time": "2023-01-25T10:55:50.857Z"
      },
      {
        "duration": 8,
        "start_time": "2023-01-25T10:55:50.883Z"
      },
      {
        "duration": 50,
        "start_time": "2023-01-25T10:55:50.892Z"
      },
      {
        "duration": 15,
        "start_time": "2023-01-25T10:55:50.944Z"
      },
      {
        "duration": 27,
        "start_time": "2023-01-25T10:55:50.961Z"
      },
      {
        "duration": 661,
        "start_time": "2023-01-25T10:55:50.990Z"
      },
      {
        "duration": 575,
        "start_time": "2023-01-25T10:55:51.653Z"
      },
      {
        "duration": 568,
        "start_time": "2023-01-25T10:55:52.230Z"
      },
      {
        "duration": 559,
        "start_time": "2023-01-25T10:55:52.800Z"
      },
      {
        "duration": 7,
        "start_time": "2023-01-25T10:55:53.361Z"
      },
      {
        "duration": 554,
        "start_time": "2023-01-25T10:55:53.370Z"
      },
      {
        "duration": 3,
        "start_time": "2023-01-25T10:55:53.928Z"
      },
      {
        "duration": 5,
        "start_time": "2023-01-25T10:55:53.940Z"
      },
      {
        "duration": 10,
        "start_time": "2023-01-25T10:55:53.947Z"
      },
      {
        "duration": 10,
        "start_time": "2023-01-25T10:55:53.959Z"
      },
      {
        "duration": 9,
        "start_time": "2023-01-25T10:55:53.970Z"
      },
      {
        "duration": 20,
        "start_time": "2023-01-25T10:55:53.981Z"
      },
      {
        "duration": 7,
        "start_time": "2023-01-25T10:55:54.003Z"
      },
      {
        "duration": 121,
        "start_time": "2023-01-25T10:55:54.012Z"
      },
      {
        "duration": 0,
        "start_time": "2023-01-25T10:55:54.140Z"
      },
      {
        "duration": 0,
        "start_time": "2023-01-25T10:55:54.141Z"
      },
      {
        "duration": 0,
        "start_time": "2023-01-25T10:55:54.141Z"
      },
      {
        "duration": 0,
        "start_time": "2023-01-25T10:55:54.143Z"
      },
      {
        "duration": 0,
        "start_time": "2023-01-25T10:55:54.144Z"
      },
      {
        "duration": 0,
        "start_time": "2023-01-25T10:55:54.145Z"
      },
      {
        "duration": 0,
        "start_time": "2023-01-25T10:55:54.148Z"
      },
      {
        "duration": 0,
        "start_time": "2023-01-25T10:55:54.149Z"
      },
      {
        "duration": 0,
        "start_time": "2023-01-25T10:55:54.150Z"
      },
      {
        "duration": 1450,
        "start_time": "2023-01-25T11:01:41.055Z"
      },
      {
        "duration": 689,
        "start_time": "2023-01-25T11:01:42.507Z"
      },
      {
        "duration": 27,
        "start_time": "2023-01-25T11:01:43.198Z"
      },
      {
        "duration": 31,
        "start_time": "2023-01-25T11:01:43.227Z"
      },
      {
        "duration": 21,
        "start_time": "2023-01-25T11:01:43.260Z"
      },
      {
        "duration": 20,
        "start_time": "2023-01-25T11:01:43.282Z"
      },
      {
        "duration": 7,
        "start_time": "2023-01-25T11:01:43.304Z"
      },
      {
        "duration": 22,
        "start_time": "2023-01-25T11:01:43.340Z"
      },
      {
        "duration": 26,
        "start_time": "2023-01-25T11:01:43.363Z"
      },
      {
        "duration": 277,
        "start_time": "2023-01-25T11:01:43.392Z"
      },
      {
        "duration": 8,
        "start_time": "2023-01-25T11:01:43.671Z"
      },
      {
        "duration": 13,
        "start_time": "2023-01-25T11:01:43.680Z"
      },
      {
        "duration": 119,
        "start_time": "2023-01-25T11:01:43.695Z"
      },
      {
        "duration": 72,
        "start_time": "2023-01-25T11:01:43.816Z"
      },
      {
        "duration": 10,
        "start_time": "2023-01-25T11:01:43.890Z"
      },
      {
        "duration": 10,
        "start_time": "2023-01-25T11:01:43.902Z"
      },
      {
        "duration": 42,
        "start_time": "2023-01-25T11:01:43.913Z"
      },
      {
        "duration": 7,
        "start_time": "2023-01-25T11:01:43.957Z"
      },
      {
        "duration": 28,
        "start_time": "2023-01-25T11:01:43.965Z"
      },
      {
        "duration": 14,
        "start_time": "2023-01-25T11:01:43.995Z"
      },
      {
        "duration": 33,
        "start_time": "2023-01-25T11:01:44.011Z"
      },
      {
        "duration": 687,
        "start_time": "2023-01-25T11:01:44.046Z"
      },
      {
        "duration": 570,
        "start_time": "2023-01-25T11:01:44.735Z"
      },
      {
        "duration": 583,
        "start_time": "2023-01-25T11:01:45.307Z"
      },
      {
        "duration": 615,
        "start_time": "2023-01-25T11:01:45.892Z"
      },
      {
        "duration": 8,
        "start_time": "2023-01-25T11:01:46.508Z"
      },
      {
        "duration": 571,
        "start_time": "2023-01-25T11:01:46.518Z"
      },
      {
        "duration": 7,
        "start_time": "2023-01-25T11:01:47.092Z"
      },
      {
        "duration": 11,
        "start_time": "2023-01-25T11:01:47.100Z"
      },
      {
        "duration": 10,
        "start_time": "2023-01-25T11:01:47.113Z"
      },
      {
        "duration": 10,
        "start_time": "2023-01-25T11:01:47.125Z"
      },
      {
        "duration": 5,
        "start_time": "2023-01-25T11:01:47.141Z"
      },
      {
        "duration": 11,
        "start_time": "2023-01-25T11:01:47.148Z"
      },
      {
        "duration": 9,
        "start_time": "2023-01-25T11:01:47.161Z"
      },
      {
        "duration": 18632,
        "start_time": "2023-01-25T11:01:47.172Z"
      },
      {
        "duration": 19050,
        "start_time": "2023-01-25T11:02:05.806Z"
      },
      {
        "duration": 4,
        "start_time": "2023-01-25T11:02:24.858Z"
      },
      {
        "duration": 375683,
        "start_time": "2023-01-25T11:02:24.864Z"
      },
      {
        "duration": 1793,
        "start_time": "2023-01-25T12:01:53.856Z"
      },
      {
        "duration": 2198,
        "start_time": "2023-01-25T12:01:55.651Z"
      },
      {
        "duration": 31,
        "start_time": "2023-01-25T12:01:57.851Z"
      },
      {
        "duration": 26,
        "start_time": "2023-01-25T12:01:57.885Z"
      },
      {
        "duration": 22,
        "start_time": "2023-01-25T12:01:57.913Z"
      },
      {
        "duration": 17,
        "start_time": "2023-01-25T12:01:57.937Z"
      },
      {
        "duration": 8,
        "start_time": "2023-01-25T12:01:57.956Z"
      },
      {
        "duration": 48,
        "start_time": "2023-01-25T12:01:57.966Z"
      },
      {
        "duration": 23,
        "start_time": "2023-01-25T12:01:58.016Z"
      },
      {
        "duration": 273,
        "start_time": "2023-01-25T12:01:58.042Z"
      },
      {
        "duration": 11,
        "start_time": "2023-01-25T12:01:58.317Z"
      },
      {
        "duration": 23,
        "start_time": "2023-01-25T12:01:58.330Z"
      },
      {
        "duration": 101,
        "start_time": "2023-01-25T12:01:58.355Z"
      },
      {
        "duration": 66,
        "start_time": "2023-01-25T12:01:58.458Z"
      },
      {
        "duration": 11,
        "start_time": "2023-01-25T12:01:58.526Z"
      },
      {
        "duration": 14,
        "start_time": "2023-01-25T12:01:58.539Z"
      },
      {
        "duration": 44,
        "start_time": "2023-01-25T12:01:58.555Z"
      },
      {
        "duration": 8,
        "start_time": "2023-01-25T12:01:58.601Z"
      },
      {
        "duration": 25,
        "start_time": "2023-01-25T12:01:58.611Z"
      },
      {
        "duration": 15,
        "start_time": "2023-01-25T12:01:58.638Z"
      },
      {
        "duration": 46,
        "start_time": "2023-01-25T12:01:58.655Z"
      },
      {
        "duration": 666,
        "start_time": "2023-01-25T12:01:58.702Z"
      },
      {
        "duration": 630,
        "start_time": "2023-01-25T12:01:59.371Z"
      },
      {
        "duration": 701,
        "start_time": "2023-01-25T12:02:00.003Z"
      },
      {
        "duration": 596,
        "start_time": "2023-01-25T12:02:00.706Z"
      },
      {
        "duration": 8,
        "start_time": "2023-01-25T12:02:01.303Z"
      },
      {
        "duration": 586,
        "start_time": "2023-01-25T12:02:01.313Z"
      },
      {
        "duration": 7,
        "start_time": "2023-01-25T12:02:01.903Z"
      },
      {
        "duration": 49,
        "start_time": "2023-01-25T12:02:01.912Z"
      },
      {
        "duration": 34,
        "start_time": "2023-01-25T12:02:01.963Z"
      },
      {
        "duration": 64,
        "start_time": "2023-01-25T12:02:01.999Z"
      },
      {
        "duration": 38,
        "start_time": "2023-01-25T12:02:02.065Z"
      },
      {
        "duration": 63,
        "start_time": "2023-01-25T12:02:02.105Z"
      },
      {
        "duration": 28,
        "start_time": "2023-01-25T12:02:02.171Z"
      },
      {
        "duration": 16882,
        "start_time": "2023-01-25T12:02:02.202Z"
      },
      {
        "duration": 17366,
        "start_time": "2023-01-25T12:02:19.087Z"
      },
      {
        "duration": 4,
        "start_time": "2023-01-25T12:02:36.455Z"
      },
      {
        "duration": 337362,
        "start_time": "2023-01-25T12:02:36.460Z"
      },
      {
        "duration": 334335,
        "start_time": "2023-01-25T12:08:13.824Z"
      },
      {
        "duration": 4,
        "start_time": "2023-01-25T12:13:48.161Z"
      },
      {
        "duration": 1440,
        "start_time": "2023-01-25T12:13:48.167Z"
      },
      {
        "duration": 1892,
        "start_time": "2023-01-25T12:13:49.609Z"
      },
      {
        "duration": 11,
        "start_time": "2023-01-25T12:13:51.504Z"
      },
      {
        "duration": 28515,
        "start_time": "2023-01-25T12:13:51.517Z"
      },
      {
        "duration": 1439,
        "start_time": "2023-01-25T12:18:30.152Z"
      },
      {
        "duration": 717,
        "start_time": "2023-01-25T12:18:31.594Z"
      },
      {
        "duration": 28,
        "start_time": "2023-01-25T12:18:32.313Z"
      },
      {
        "duration": 19,
        "start_time": "2023-01-25T12:18:32.344Z"
      },
      {
        "duration": 44,
        "start_time": "2023-01-25T12:18:32.365Z"
      },
      {
        "duration": 37,
        "start_time": "2023-01-25T12:18:32.411Z"
      },
      {
        "duration": 25,
        "start_time": "2023-01-25T12:18:32.449Z"
      },
      {
        "duration": 41,
        "start_time": "2023-01-25T12:18:32.476Z"
      },
      {
        "duration": 24,
        "start_time": "2023-01-25T12:18:32.519Z"
      },
      {
        "duration": 254,
        "start_time": "2023-01-25T12:18:32.545Z"
      },
      {
        "duration": 8,
        "start_time": "2023-01-25T12:18:32.801Z"
      },
      {
        "duration": 16,
        "start_time": "2023-01-25T12:18:32.810Z"
      },
      {
        "duration": 104,
        "start_time": "2023-01-25T12:18:32.828Z"
      },
      {
        "duration": 56,
        "start_time": "2023-01-25T12:18:32.933Z"
      },
      {
        "duration": 11,
        "start_time": "2023-01-25T12:18:32.999Z"
      },
      {
        "duration": 17,
        "start_time": "2023-01-25T12:18:33.012Z"
      },
      {
        "duration": 27,
        "start_time": "2023-01-25T12:18:33.031Z"
      },
      {
        "duration": 25,
        "start_time": "2023-01-25T12:18:33.060Z"
      },
      {
        "duration": 36,
        "start_time": "2023-01-25T12:18:33.086Z"
      },
      {
        "duration": 15,
        "start_time": "2023-01-25T12:18:33.123Z"
      },
      {
        "duration": 36,
        "start_time": "2023-01-25T12:18:33.140Z"
      },
      {
        "duration": 618,
        "start_time": "2023-01-25T12:18:33.179Z"
      },
      {
        "duration": 604,
        "start_time": "2023-01-25T12:18:33.799Z"
      },
      {
        "duration": 553,
        "start_time": "2023-01-25T12:18:34.405Z"
      },
      {
        "duration": 548,
        "start_time": "2023-01-25T12:18:34.960Z"
      },
      {
        "duration": 7,
        "start_time": "2023-01-25T12:18:35.510Z"
      },
      {
        "duration": 528,
        "start_time": "2023-01-25T12:18:35.518Z"
      },
      {
        "duration": 2,
        "start_time": "2023-01-25T12:18:36.049Z"
      },
      {
        "duration": 16,
        "start_time": "2023-01-25T12:18:36.053Z"
      },
      {
        "duration": 14,
        "start_time": "2023-01-25T12:18:36.071Z"
      },
      {
        "duration": 24,
        "start_time": "2023-01-25T12:18:36.087Z"
      },
      {
        "duration": 13,
        "start_time": "2023-01-25T12:18:36.113Z"
      },
      {
        "duration": 10,
        "start_time": "2023-01-25T12:18:36.128Z"
      },
      {
        "duration": 13,
        "start_time": "2023-01-25T12:18:36.139Z"
      },
      {
        "duration": 17109,
        "start_time": "2023-01-25T12:18:36.154Z"
      },
      {
        "duration": 17043,
        "start_time": "2023-01-25T12:18:53.265Z"
      },
      {
        "duration": 4,
        "start_time": "2023-01-25T12:19:10.309Z"
      },
      {
        "duration": 349517,
        "start_time": "2023-01-25T12:19:10.315Z"
      },
      {
        "duration": 1274,
        "start_time": "2023-01-25T12:26:15.757Z"
      },
      {
        "duration": 677,
        "start_time": "2023-01-25T12:26:17.033Z"
      },
      {
        "duration": 25,
        "start_time": "2023-01-25T12:26:17.711Z"
      },
      {
        "duration": 20,
        "start_time": "2023-01-25T12:26:17.738Z"
      },
      {
        "duration": 19,
        "start_time": "2023-01-25T12:26:17.760Z"
      },
      {
        "duration": 48,
        "start_time": "2023-01-25T12:26:17.781Z"
      },
      {
        "duration": 11,
        "start_time": "2023-01-25T12:26:17.831Z"
      },
      {
        "duration": 28,
        "start_time": "2023-01-25T12:26:17.844Z"
      },
      {
        "duration": 19,
        "start_time": "2023-01-25T12:26:17.873Z"
      },
      {
        "duration": 243,
        "start_time": "2023-01-25T12:26:17.895Z"
      },
      {
        "duration": 8,
        "start_time": "2023-01-25T12:26:18.140Z"
      },
      {
        "duration": 17,
        "start_time": "2023-01-25T12:26:18.149Z"
      },
      {
        "duration": 104,
        "start_time": "2023-01-25T12:26:18.167Z"
      },
      {
        "duration": 60,
        "start_time": "2023-01-25T12:26:18.272Z"
      },
      {
        "duration": 11,
        "start_time": "2023-01-25T12:26:18.334Z"
      },
      {
        "duration": 10,
        "start_time": "2023-01-25T12:26:18.347Z"
      },
      {
        "duration": 55,
        "start_time": "2023-01-25T12:26:18.359Z"
      },
      {
        "duration": 6,
        "start_time": "2023-01-25T12:26:18.415Z"
      },
      {
        "duration": 21,
        "start_time": "2023-01-25T12:26:18.423Z"
      },
      {
        "duration": 13,
        "start_time": "2023-01-25T12:26:18.445Z"
      },
      {
        "duration": 18,
        "start_time": "2023-01-25T12:26:18.460Z"
      },
      {
        "duration": 645,
        "start_time": "2023-01-25T12:26:18.480Z"
      },
      {
        "duration": 590,
        "start_time": "2023-01-25T12:26:19.127Z"
      },
      {
        "duration": 587,
        "start_time": "2023-01-25T12:26:19.718Z"
      },
      {
        "duration": 583,
        "start_time": "2023-01-25T12:26:20.307Z"
      },
      {
        "duration": 14,
        "start_time": "2023-01-25T12:26:20.892Z"
      },
      {
        "duration": 591,
        "start_time": "2023-01-25T12:26:20.912Z"
      },
      {
        "duration": 7,
        "start_time": "2023-01-25T12:26:21.516Z"
      },
      {
        "duration": 27,
        "start_time": "2023-01-25T12:26:21.524Z"
      },
      {
        "duration": 17,
        "start_time": "2023-01-25T12:26:21.553Z"
      },
      {
        "duration": 9,
        "start_time": "2023-01-25T12:26:21.572Z"
      },
      {
        "duration": 12,
        "start_time": "2023-01-25T12:26:21.583Z"
      },
      {
        "duration": 19,
        "start_time": "2023-01-25T12:26:21.597Z"
      },
      {
        "duration": 12,
        "start_time": "2023-01-25T12:26:21.619Z"
      },
      {
        "duration": 16766,
        "start_time": "2023-01-25T12:26:21.632Z"
      },
      {
        "duration": 17463,
        "start_time": "2023-01-25T12:26:38.401Z"
      },
      {
        "duration": 4,
        "start_time": "2023-01-25T12:26:55.866Z"
      },
      {
        "duration": 337064,
        "start_time": "2023-01-25T12:26:55.871Z"
      },
      {
        "duration": 1469,
        "start_time": "2023-01-25T12:34:27.140Z"
      },
      {
        "duration": 700,
        "start_time": "2023-01-25T12:34:28.611Z"
      },
      {
        "duration": 25,
        "start_time": "2023-01-25T12:34:29.312Z"
      },
      {
        "duration": 25,
        "start_time": "2023-01-25T12:34:29.338Z"
      },
      {
        "duration": 21,
        "start_time": "2023-01-25T12:34:29.365Z"
      },
      {
        "duration": 26,
        "start_time": "2023-01-25T12:34:29.388Z"
      },
      {
        "duration": 6,
        "start_time": "2023-01-25T12:34:29.416Z"
      },
      {
        "duration": 21,
        "start_time": "2023-01-25T12:34:29.424Z"
      },
      {
        "duration": 21,
        "start_time": "2023-01-25T12:34:29.446Z"
      },
      {
        "duration": 261,
        "start_time": "2023-01-25T12:34:29.468Z"
      },
      {
        "duration": 7,
        "start_time": "2023-01-25T12:34:29.730Z"
      },
      {
        "duration": 14,
        "start_time": "2023-01-25T12:34:29.739Z"
      },
      {
        "duration": 107,
        "start_time": "2023-01-25T12:34:29.755Z"
      },
      {
        "duration": 61,
        "start_time": "2023-01-25T12:34:29.865Z"
      },
      {
        "duration": 10,
        "start_time": "2023-01-25T12:34:29.927Z"
      },
      {
        "duration": 8,
        "start_time": "2023-01-25T12:34:29.939Z"
      },
      {
        "duration": 21,
        "start_time": "2023-01-25T12:34:29.949Z"
      },
      {
        "duration": 42,
        "start_time": "2023-01-25T12:34:29.972Z"
      },
      {
        "duration": 24,
        "start_time": "2023-01-25T12:34:30.016Z"
      },
      {
        "duration": 14,
        "start_time": "2023-01-25T12:34:30.041Z"
      },
      {
        "duration": 22,
        "start_time": "2023-01-25T12:34:30.057Z"
      },
      {
        "duration": 764,
        "start_time": "2023-01-25T12:34:30.080Z"
      },
      {
        "duration": 570,
        "start_time": "2023-01-25T12:34:30.845Z"
      },
      {
        "duration": 537,
        "start_time": "2023-01-25T12:34:31.417Z"
      },
      {
        "duration": 577,
        "start_time": "2023-01-25T12:34:31.956Z"
      },
      {
        "duration": 8,
        "start_time": "2023-01-25T12:34:32.534Z"
      },
      {
        "duration": 534,
        "start_time": "2023-01-25T12:34:32.544Z"
      },
      {
        "duration": 7,
        "start_time": "2023-01-25T12:34:33.080Z"
      },
      {
        "duration": 23,
        "start_time": "2023-01-25T12:34:33.088Z"
      },
      {
        "duration": 10,
        "start_time": "2023-01-25T12:34:33.114Z"
      },
      {
        "duration": 28,
        "start_time": "2023-01-25T12:34:33.126Z"
      },
      {
        "duration": 27,
        "start_time": "2023-01-25T12:34:33.155Z"
      },
      {
        "duration": 39,
        "start_time": "2023-01-25T12:34:33.183Z"
      },
      {
        "duration": 13,
        "start_time": "2023-01-25T12:34:33.224Z"
      },
      {
        "duration": 17153,
        "start_time": "2023-01-25T12:34:33.238Z"
      },
      {
        "duration": 17942,
        "start_time": "2023-01-25T12:34:50.392Z"
      },
      {
        "duration": 5,
        "start_time": "2023-01-25T12:35:08.335Z"
      },
      {
        "duration": 344935,
        "start_time": "2023-01-25T12:35:08.342Z"
      },
      {
        "duration": 350894,
        "start_time": "2023-01-25T12:40:53.279Z"
      },
      {
        "duration": 4,
        "start_time": "2023-01-25T12:46:44.177Z"
      },
      {
        "duration": 2841,
        "start_time": "2023-01-25T12:46:44.185Z"
      },
      {
        "duration": 3104,
        "start_time": "2023-01-25T12:46:47.100Z"
      },
      {
        "duration": 7,
        "start_time": "2023-01-25T12:46:50.206Z"
      },
      {
        "duration": 6536,
        "start_time": "2023-01-25T12:46:50.218Z"
      },
      {
        "duration": 1646,
        "start_time": "2023-01-25T12:56:26.935Z"
      },
      {
        "duration": 786,
        "start_time": "2023-01-25T12:56:28.583Z"
      },
      {
        "duration": 44,
        "start_time": "2023-01-25T12:56:29.371Z"
      },
      {
        "duration": 28,
        "start_time": "2023-01-25T12:56:29.418Z"
      },
      {
        "duration": 33,
        "start_time": "2023-01-25T12:56:29.449Z"
      },
      {
        "duration": 31,
        "start_time": "2023-01-25T12:56:29.484Z"
      },
      {
        "duration": 24,
        "start_time": "2023-01-25T12:56:29.521Z"
      },
      {
        "duration": 30,
        "start_time": "2023-01-25T12:56:29.547Z"
      },
      {
        "duration": 30,
        "start_time": "2023-01-25T12:56:29.579Z"
      },
      {
        "duration": 270,
        "start_time": "2023-01-25T12:56:29.612Z"
      },
      {
        "duration": 19,
        "start_time": "2023-01-25T12:56:29.884Z"
      },
      {
        "duration": 19,
        "start_time": "2023-01-25T12:56:29.905Z"
      },
      {
        "duration": 101,
        "start_time": "2023-01-25T12:56:29.926Z"
      },
      {
        "duration": 71,
        "start_time": "2023-01-25T12:56:30.029Z"
      },
      {
        "duration": 11,
        "start_time": "2023-01-25T12:56:30.102Z"
      },
      {
        "duration": 28,
        "start_time": "2023-01-25T12:56:30.118Z"
      },
      {
        "duration": 39,
        "start_time": "2023-01-25T12:56:30.148Z"
      },
      {
        "duration": 23,
        "start_time": "2023-01-25T12:56:30.189Z"
      },
      {
        "duration": 63,
        "start_time": "2023-01-25T12:56:30.214Z"
      },
      {
        "duration": 17,
        "start_time": "2023-01-25T12:56:30.278Z"
      },
      {
        "duration": 48,
        "start_time": "2023-01-25T12:56:30.297Z"
      },
      {
        "duration": 848,
        "start_time": "2023-01-25T12:56:30.348Z"
      },
      {
        "duration": 674,
        "start_time": "2023-01-25T12:56:31.199Z"
      },
      {
        "duration": 603,
        "start_time": "2023-01-25T12:56:31.875Z"
      },
      {
        "duration": 584,
        "start_time": "2023-01-25T12:56:32.480Z"
      },
      {
        "duration": 7,
        "start_time": "2023-01-25T12:56:33.066Z"
      },
      {
        "duration": 573,
        "start_time": "2023-01-25T12:56:33.075Z"
      },
      {
        "duration": 7,
        "start_time": "2023-01-25T12:56:33.653Z"
      },
      {
        "duration": 9,
        "start_time": "2023-01-25T12:56:33.662Z"
      },
      {
        "duration": 18,
        "start_time": "2023-01-25T12:56:33.673Z"
      },
      {
        "duration": 25,
        "start_time": "2023-01-25T12:56:33.702Z"
      },
      {
        "duration": 15,
        "start_time": "2023-01-25T12:56:33.728Z"
      },
      {
        "duration": 11,
        "start_time": "2023-01-25T12:56:33.745Z"
      },
      {
        "duration": 16,
        "start_time": "2023-01-25T12:56:33.758Z"
      },
      {
        "duration": 17074,
        "start_time": "2023-01-25T12:56:33.776Z"
      },
      {
        "duration": 18230,
        "start_time": "2023-01-25T12:56:50.853Z"
      },
      {
        "duration": 4,
        "start_time": "2023-01-25T12:57:09.085Z"
      },
      {
        "duration": 353133,
        "start_time": "2023-01-25T12:57:09.102Z"
      },
      {
        "duration": 379132,
        "start_time": "2023-01-25T13:03:02.237Z"
      },
      {
        "duration": 5,
        "start_time": "2023-01-25T13:09:21.371Z"
      },
      {
        "duration": 2426,
        "start_time": "2023-01-25T13:09:21.378Z"
      },
      {
        "duration": 2993,
        "start_time": "2023-01-25T13:09:23.806Z"
      },
      {
        "duration": 10,
        "start_time": "2023-01-25T13:09:26.802Z"
      },
      {
        "duration": 9603,
        "start_time": "2023-01-25T13:09:26.816Z"
      },
      {
        "duration": 1792,
        "start_time": "2023-01-26T09:41:36.378Z"
      },
      {
        "duration": 2299,
        "start_time": "2023-01-26T09:41:38.172Z"
      },
      {
        "duration": 31,
        "start_time": "2023-01-26T09:41:40.474Z"
      },
      {
        "duration": 23,
        "start_time": "2023-01-26T09:41:40.507Z"
      },
      {
        "duration": 45,
        "start_time": "2023-01-26T09:41:40.533Z"
      },
      {
        "duration": 25,
        "start_time": "2023-01-26T09:41:40.580Z"
      },
      {
        "duration": 79,
        "start_time": "2023-01-26T09:43:30.084Z"
      },
      {
        "duration": 5,
        "start_time": "2023-01-26T09:43:39.670Z"
      },
      {
        "duration": 6,
        "start_time": "2023-01-26T09:48:54.855Z"
      },
      {
        "duration": 120,
        "start_time": "2023-01-26T09:49:08.645Z"
      },
      {
        "duration": 7,
        "start_time": "2023-01-26T09:49:23.415Z"
      },
      {
        "duration": 18,
        "start_time": "2023-01-26T10:01:13.246Z"
      },
      {
        "duration": 1536,
        "start_time": "2023-01-26T10:01:20.080Z"
      },
      {
        "duration": 776,
        "start_time": "2023-01-26T10:01:21.618Z"
      },
      {
        "duration": 25,
        "start_time": "2023-01-26T10:01:22.395Z"
      },
      {
        "duration": 49,
        "start_time": "2023-01-26T10:01:22.429Z"
      },
      {
        "duration": 65,
        "start_time": "2023-01-26T10:01:22.479Z"
      },
      {
        "duration": 40,
        "start_time": "2023-01-26T10:01:22.548Z"
      },
      {
        "duration": 30,
        "start_time": "2023-01-26T10:01:22.590Z"
      },
      {
        "duration": 49,
        "start_time": "2023-01-26T10:01:22.623Z"
      },
      {
        "duration": 43,
        "start_time": "2023-01-26T10:01:22.674Z"
      },
      {
        "duration": 283,
        "start_time": "2023-01-26T10:01:22.720Z"
      },
      {
        "duration": 7,
        "start_time": "2023-01-26T10:01:23.005Z"
      },
      {
        "duration": 38,
        "start_time": "2023-01-26T10:01:23.014Z"
      },
      {
        "duration": 145,
        "start_time": "2023-01-26T10:01:23.054Z"
      },
      {
        "duration": 80,
        "start_time": "2023-01-26T10:01:23.201Z"
      },
      {
        "duration": 11,
        "start_time": "2023-01-26T10:01:23.283Z"
      },
      {
        "duration": 16,
        "start_time": "2023-01-26T10:01:23.296Z"
      },
      {
        "duration": 46,
        "start_time": "2023-01-26T10:01:23.313Z"
      },
      {
        "duration": 7,
        "start_time": "2023-01-26T10:01:23.361Z"
      },
      {
        "duration": 48,
        "start_time": "2023-01-26T10:01:23.370Z"
      },
      {
        "duration": 32,
        "start_time": "2023-01-26T10:01:23.420Z"
      },
      {
        "duration": 37,
        "start_time": "2023-01-26T10:01:23.455Z"
      },
      {
        "duration": 696,
        "start_time": "2023-01-26T10:01:23.494Z"
      },
      {
        "duration": 650,
        "start_time": "2023-01-26T10:01:24.191Z"
      },
      {
        "duration": 678,
        "start_time": "2023-01-26T10:01:24.844Z"
      },
      {
        "duration": 621,
        "start_time": "2023-01-26T10:01:25.523Z"
      },
      {
        "duration": 20,
        "start_time": "2023-01-26T10:01:26.146Z"
      },
      {
        "duration": 655,
        "start_time": "2023-01-26T10:01:26.167Z"
      },
      {
        "duration": 14,
        "start_time": "2023-01-26T10:01:26.829Z"
      },
      {
        "duration": 48,
        "start_time": "2023-01-26T10:01:26.845Z"
      },
      {
        "duration": 56,
        "start_time": "2023-01-26T10:01:26.895Z"
      },
      {
        "duration": 38,
        "start_time": "2023-01-26T10:01:26.954Z"
      },
      {
        "duration": 58,
        "start_time": "2023-01-26T10:01:26.994Z"
      },
      {
        "duration": 37,
        "start_time": "2023-01-26T10:01:27.054Z"
      },
      {
        "duration": 81,
        "start_time": "2023-01-26T10:01:27.093Z"
      },
      {
        "duration": 18921,
        "start_time": "2023-01-26T10:01:27.176Z"
      },
      {
        "duration": 19351,
        "start_time": "2023-01-26T10:01:46.099Z"
      },
      {
        "duration": 4,
        "start_time": "2023-01-26T10:02:05.452Z"
      },
      {
        "duration": 1370,
        "start_time": "2023-01-26T10:50:38.458Z"
      },
      {
        "duration": 710,
        "start_time": "2023-01-26T10:50:39.830Z"
      },
      {
        "duration": 26,
        "start_time": "2023-01-26T10:50:40.541Z"
      },
      {
        "duration": 21,
        "start_time": "2023-01-26T10:50:40.568Z"
      },
      {
        "duration": 29,
        "start_time": "2023-01-26T10:50:40.591Z"
      },
      {
        "duration": 20,
        "start_time": "2023-01-26T10:50:40.627Z"
      },
      {
        "duration": 10,
        "start_time": "2023-01-26T10:50:40.649Z"
      },
      {
        "duration": 38,
        "start_time": "2023-01-26T10:50:40.660Z"
      },
      {
        "duration": 33,
        "start_time": "2023-01-26T10:50:40.699Z"
      },
      {
        "duration": 252,
        "start_time": "2023-01-26T10:50:40.734Z"
      },
      {
        "duration": 8,
        "start_time": "2023-01-26T10:50:40.988Z"
      },
      {
        "duration": 30,
        "start_time": "2023-01-26T10:50:40.997Z"
      },
      {
        "duration": 103,
        "start_time": "2023-01-26T10:50:41.029Z"
      },
      {
        "duration": 58,
        "start_time": "2023-01-26T10:50:41.134Z"
      },
      {
        "duration": 10,
        "start_time": "2023-01-26T10:50:41.194Z"
      },
      {
        "duration": 33,
        "start_time": "2023-01-26T10:50:41.206Z"
      },
      {
        "duration": 32,
        "start_time": "2023-01-26T10:50:41.241Z"
      },
      {
        "duration": 23,
        "start_time": "2023-01-26T10:50:41.275Z"
      },
      {
        "duration": 30,
        "start_time": "2023-01-26T10:50:41.299Z"
      },
      {
        "duration": 14,
        "start_time": "2023-01-26T10:50:41.331Z"
      },
      {
        "duration": 30,
        "start_time": "2023-01-26T10:50:41.347Z"
      },
      {
        "duration": 654,
        "start_time": "2023-01-26T10:50:41.379Z"
      },
      {
        "duration": 542,
        "start_time": "2023-01-26T10:50:42.034Z"
      },
      {
        "duration": 564,
        "start_time": "2023-01-26T10:50:42.577Z"
      },
      {
        "duration": 558,
        "start_time": "2023-01-26T10:50:43.142Z"
      },
      {
        "duration": 7,
        "start_time": "2023-01-26T10:50:43.702Z"
      },
      {
        "duration": 587,
        "start_time": "2023-01-26T10:50:43.710Z"
      },
      {
        "duration": 7,
        "start_time": "2023-01-26T10:50:44.300Z"
      },
      {
        "duration": 70,
        "start_time": "2023-01-26T10:50:44.308Z"
      },
      {
        "duration": 45,
        "start_time": "2023-01-26T10:50:44.379Z"
      },
      {
        "duration": 59,
        "start_time": "2023-01-26T10:50:44.426Z"
      },
      {
        "duration": 78,
        "start_time": "2023-01-26T10:50:44.487Z"
      },
      {
        "duration": 39,
        "start_time": "2023-01-26T10:50:44.567Z"
      },
      {
        "duration": 49,
        "start_time": "2023-01-26T10:50:44.608Z"
      },
      {
        "duration": 16941,
        "start_time": "2023-01-26T10:50:44.659Z"
      },
      {
        "duration": 17439,
        "start_time": "2023-01-26T10:51:01.601Z"
      },
      {
        "duration": 5,
        "start_time": "2023-01-26T10:51:19.041Z"
      },
      {
        "duration": 342917,
        "start_time": "2023-01-26T10:51:19.048Z"
      },
      {
        "duration": 345813,
        "start_time": "2023-01-26T10:57:01.967Z"
      },
      {
        "duration": 4,
        "start_time": "2023-01-26T11:02:47.782Z"
      },
      {
        "duration": 1542,
        "start_time": "2023-01-26T11:02:47.788Z"
      },
      {
        "duration": 1596,
        "start_time": "2023-01-26T11:02:49.332Z"
      },
      {
        "duration": 4,
        "start_time": "2023-01-26T11:02:50.932Z"
      },
      {
        "duration": 9526,
        "start_time": "2023-01-26T11:02:50.938Z"
      },
      {
        "duration": 469,
        "start_time": "2023-01-26T11:03:00.468Z"
      },
      {
        "duration": 74,
        "start_time": "2023-01-26T11:03:01.287Z"
      },
      {
        "duration": 86,
        "start_time": "2023-01-26T11:03:40.806Z"
      },
      {
        "duration": 8,
        "start_time": "2023-01-26T11:03:46.388Z"
      },
      {
        "duration": 662,
        "start_time": "2023-01-26T11:05:24.428Z"
      },
      {
        "duration": 83,
        "start_time": "2023-01-26T12:25:03.028Z"
      },
      {
        "duration": 1270,
        "start_time": "2023-01-26T12:25:07.468Z"
      },
      {
        "duration": 1205,
        "start_time": "2023-01-26T12:26:51.087Z"
      },
      {
        "duration": 1415,
        "start_time": "2023-01-26T12:27:36.303Z"
      },
      {
        "duration": 647,
        "start_time": "2023-01-26T12:27:37.720Z"
      },
      {
        "duration": 27,
        "start_time": "2023-01-26T12:27:38.369Z"
      },
      {
        "duration": 33,
        "start_time": "2023-01-26T12:27:38.398Z"
      },
      {
        "duration": 23,
        "start_time": "2023-01-26T12:27:38.433Z"
      },
      {
        "duration": 15,
        "start_time": "2023-01-26T12:27:38.458Z"
      },
      {
        "duration": 6,
        "start_time": "2023-01-26T12:27:38.475Z"
      },
      {
        "duration": 53,
        "start_time": "2023-01-26T12:27:38.483Z"
      },
      {
        "duration": 21,
        "start_time": "2023-01-26T12:27:38.538Z"
      },
      {
        "duration": 266,
        "start_time": "2023-01-26T12:27:38.562Z"
      },
      {
        "duration": 8,
        "start_time": "2023-01-26T12:27:38.829Z"
      },
      {
        "duration": 13,
        "start_time": "2023-01-26T12:27:38.839Z"
      },
      {
        "duration": 109,
        "start_time": "2023-01-26T12:27:38.853Z"
      },
      {
        "duration": 64,
        "start_time": "2023-01-26T12:27:38.963Z"
      },
      {
        "duration": 9,
        "start_time": "2023-01-26T12:27:39.029Z"
      },
      {
        "duration": 17,
        "start_time": "2023-01-26T12:27:39.039Z"
      },
      {
        "duration": 29,
        "start_time": "2023-01-26T12:27:39.058Z"
      },
      {
        "duration": 6,
        "start_time": "2023-01-26T12:27:39.089Z"
      },
      {
        "duration": 31,
        "start_time": "2023-01-26T12:27:39.096Z"
      },
      {
        "duration": 14,
        "start_time": "2023-01-26T12:27:39.128Z"
      },
      {
        "duration": 18,
        "start_time": "2023-01-26T12:27:39.144Z"
      },
      {
        "duration": 703,
        "start_time": "2023-01-26T12:27:39.163Z"
      },
      {
        "duration": 586,
        "start_time": "2023-01-26T12:27:39.868Z"
      },
      {
        "duration": 581,
        "start_time": "2023-01-26T12:27:40.456Z"
      },
      {
        "duration": 548,
        "start_time": "2023-01-26T12:27:41.039Z"
      },
      {
        "duration": 8,
        "start_time": "2023-01-26T12:27:41.588Z"
      },
      {
        "duration": 538,
        "start_time": "2023-01-26T12:27:41.597Z"
      },
      {
        "duration": 11,
        "start_time": "2023-01-26T12:27:42.138Z"
      },
      {
        "duration": 8,
        "start_time": "2023-01-26T12:27:42.150Z"
      },
      {
        "duration": 6,
        "start_time": "2023-01-26T12:27:42.159Z"
      },
      {
        "duration": 6,
        "start_time": "2023-01-26T12:27:42.167Z"
      },
      {
        "duration": 9,
        "start_time": "2023-01-26T12:27:42.175Z"
      },
      {
        "duration": 10,
        "start_time": "2023-01-26T12:27:42.186Z"
      },
      {
        "duration": 7,
        "start_time": "2023-01-26T12:27:42.198Z"
      },
      {
        "duration": 16907,
        "start_time": "2023-01-26T12:27:42.206Z"
      },
      {
        "duration": 16947,
        "start_time": "2023-01-26T12:27:59.115Z"
      },
      {
        "duration": 4,
        "start_time": "2023-01-26T12:28:16.064Z"
      },
      {
        "duration": 340765,
        "start_time": "2023-01-26T12:28:16.069Z"
      },
      {
        "duration": 257512,
        "start_time": "2023-01-26T12:33:56.835Z"
      },
      {
        "duration": 0,
        "start_time": "2023-01-26T12:38:14.349Z"
      },
      {
        "duration": 0,
        "start_time": "2023-01-26T12:38:14.350Z"
      },
      {
        "duration": 0,
        "start_time": "2023-01-26T12:38:14.351Z"
      },
      {
        "duration": 0,
        "start_time": "2023-01-26T12:38:14.352Z"
      },
      {
        "duration": 0,
        "start_time": "2023-01-26T12:38:14.354Z"
      },
      {
        "duration": 357403,
        "start_time": "2023-01-26T12:40:42.336Z"
      },
      {
        "duration": 4,
        "start_time": "2023-01-26T12:48:08.311Z"
      },
      {
        "duration": 1608,
        "start_time": "2023-01-26T12:48:37.919Z"
      },
      {
        "duration": 1799,
        "start_time": "2023-01-26T12:48:39.529Z"
      },
      {
        "duration": 5,
        "start_time": "2023-01-26T12:48:41.330Z"
      },
      {
        "duration": 27,
        "start_time": "2023-01-26T13:03:55.241Z"
      },
      {
        "duration": 11,
        "start_time": "2023-01-26T13:03:56.230Z"
      },
      {
        "duration": 7,
        "start_time": "2023-01-26T13:04:03.290Z"
      },
      {
        "duration": 6,
        "start_time": "2023-01-26T13:08:43.643Z"
      },
      {
        "duration": 7,
        "start_time": "2023-01-26T13:08:44.624Z"
      },
      {
        "duration": 4,
        "start_time": "2023-01-26T13:08:45.471Z"
      },
      {
        "duration": 5,
        "start_time": "2023-01-26T13:10:08.399Z"
      },
      {
        "duration": 84,
        "start_time": "2023-01-26T13:15:26.689Z"
      },
      {
        "duration": 87,
        "start_time": "2023-01-26T13:15:37.788Z"
      },
      {
        "duration": 79,
        "start_time": "2023-01-26T13:16:07.082Z"
      },
      {
        "duration": 72,
        "start_time": "2023-01-26T13:16:13.078Z"
      },
      {
        "duration": 75,
        "start_time": "2023-01-26T13:16:15.940Z"
      },
      {
        "duration": 98,
        "start_time": "2023-01-26T13:16:31.289Z"
      },
      {
        "duration": 73,
        "start_time": "2023-01-26T13:16:36.173Z"
      },
      {
        "duration": 75,
        "start_time": "2023-01-26T13:16:53.180Z"
      },
      {
        "duration": 33,
        "start_time": "2023-01-26T13:17:38.478Z"
      },
      {
        "duration": 33,
        "start_time": "2023-01-26T13:19:30.778Z"
      },
      {
        "duration": 4,
        "start_time": "2023-01-26T13:21:03.529Z"
      },
      {
        "duration": 1377,
        "start_time": "2023-01-26T14:17:46.970Z"
      },
      {
        "duration": 658,
        "start_time": "2023-01-26T14:17:48.349Z"
      },
      {
        "duration": 25,
        "start_time": "2023-01-26T14:17:49.010Z"
      },
      {
        "duration": 49,
        "start_time": "2023-01-26T14:17:49.037Z"
      },
      {
        "duration": 21,
        "start_time": "2023-01-26T14:17:49.088Z"
      },
      {
        "duration": 14,
        "start_time": "2023-01-26T14:17:49.111Z"
      },
      {
        "duration": 7,
        "start_time": "2023-01-26T14:17:49.127Z"
      },
      {
        "duration": 25,
        "start_time": "2023-01-26T14:17:49.135Z"
      },
      {
        "duration": 23,
        "start_time": "2023-01-26T14:17:49.161Z"
      },
      {
        "duration": 267,
        "start_time": "2023-01-26T14:17:49.187Z"
      },
      {
        "duration": 8,
        "start_time": "2023-01-26T14:17:49.455Z"
      },
      {
        "duration": 20,
        "start_time": "2023-01-26T14:17:49.464Z"
      },
      {
        "duration": 100,
        "start_time": "2023-01-26T14:17:49.485Z"
      },
      {
        "duration": 61,
        "start_time": "2023-01-26T14:17:49.587Z"
      },
      {
        "duration": 10,
        "start_time": "2023-01-26T14:17:49.650Z"
      },
      {
        "duration": 9,
        "start_time": "2023-01-26T14:17:49.662Z"
      },
      {
        "duration": 51,
        "start_time": "2023-01-26T14:17:49.673Z"
      },
      {
        "duration": 56,
        "start_time": "2023-01-26T14:17:49.726Z"
      },
      {
        "duration": 31,
        "start_time": "2023-01-26T14:17:49.784Z"
      },
      {
        "duration": 22,
        "start_time": "2023-01-26T14:17:49.817Z"
      },
      {
        "duration": 16,
        "start_time": "2023-01-26T14:17:49.841Z"
      },
      {
        "duration": 685,
        "start_time": "2023-01-26T14:17:49.859Z"
      },
      {
        "duration": 553,
        "start_time": "2023-01-26T14:17:50.546Z"
      },
      {
        "duration": 536,
        "start_time": "2023-01-26T14:17:51.100Z"
      },
      {
        "duration": 538,
        "start_time": "2023-01-26T14:17:51.638Z"
      },
      {
        "duration": 6,
        "start_time": "2023-01-26T14:17:52.178Z"
      },
      {
        "duration": 539,
        "start_time": "2023-01-26T14:17:52.185Z"
      },
      {
        "duration": 11,
        "start_time": "2023-01-26T14:17:52.727Z"
      },
      {
        "duration": 25,
        "start_time": "2023-01-26T14:17:52.739Z"
      },
      {
        "duration": 9,
        "start_time": "2023-01-26T14:17:52.766Z"
      },
      {
        "duration": 8,
        "start_time": "2023-01-26T14:17:52.776Z"
      },
      {
        "duration": 7,
        "start_time": "2023-01-26T14:17:52.786Z"
      },
      {
        "duration": 7,
        "start_time": "2023-01-26T14:17:52.795Z"
      },
      {
        "duration": 5,
        "start_time": "2023-01-26T14:17:52.803Z"
      },
      {
        "duration": 16665,
        "start_time": "2023-01-26T14:17:52.809Z"
      },
      {
        "duration": 16824,
        "start_time": "2023-01-26T14:18:09.476Z"
      },
      {
        "duration": 4,
        "start_time": "2023-01-26T14:18:26.302Z"
      },
      {
        "duration": 336295,
        "start_time": "2023-01-26T14:18:26.307Z"
      },
      {
        "duration": 353112,
        "start_time": "2023-01-26T14:24:02.604Z"
      },
      {
        "duration": 8,
        "start_time": "2023-01-26T14:29:55.719Z"
      },
      {
        "duration": 1624,
        "start_time": "2023-01-26T14:29:55.729Z"
      },
      {
        "duration": 1773,
        "start_time": "2023-01-26T14:29:57.355Z"
      },
      {
        "duration": 4,
        "start_time": "2023-01-26T14:29:59.130Z"
      },
      {
        "duration": 34,
        "start_time": "2023-01-26T14:29:59.137Z"
      },
      {
        "duration": 130,
        "start_time": "2023-01-26T14:29:59.172Z"
      },
      {
        "duration": 0,
        "start_time": "2023-01-26T14:29:59.304Z"
      },
      {
        "duration": 0,
        "start_time": "2023-01-26T14:29:59.305Z"
      },
      {
        "duration": 8,
        "start_time": "2023-01-26T14:45:48.652Z"
      },
      {
        "duration": 9,
        "start_time": "2023-01-26T14:46:03.412Z"
      },
      {
        "duration": 8,
        "start_time": "2023-01-26T14:46:04.340Z"
      },
      {
        "duration": 7,
        "start_time": "2023-01-26T15:30:26.001Z"
      },
      {
        "duration": 7,
        "start_time": "2023-01-26T15:30:26.374Z"
      },
      {
        "duration": 1552,
        "start_time": "2023-01-27T11:56:45.817Z"
      },
      {
        "duration": 1401,
        "start_time": "2023-01-27T11:56:52.785Z"
      },
      {
        "duration": 1719,
        "start_time": "2023-01-27T11:56:54.188Z"
      },
      {
        "duration": 28,
        "start_time": "2023-01-27T11:56:55.909Z"
      },
      {
        "duration": 19,
        "start_time": "2023-01-27T11:56:55.939Z"
      },
      {
        "duration": 40,
        "start_time": "2023-01-27T11:56:55.960Z"
      },
      {
        "duration": 15,
        "start_time": "2023-01-27T11:56:56.002Z"
      },
      {
        "duration": 14,
        "start_time": "2023-01-27T11:56:56.018Z"
      },
      {
        "duration": 24,
        "start_time": "2023-01-27T11:56:56.034Z"
      },
      {
        "duration": 49,
        "start_time": "2023-01-27T11:56:56.060Z"
      },
      {
        "duration": 293,
        "start_time": "2023-01-27T11:56:56.112Z"
      },
      {
        "duration": 11,
        "start_time": "2023-01-27T11:56:56.407Z"
      },
      {
        "duration": 20,
        "start_time": "2023-01-27T11:56:56.420Z"
      },
      {
        "duration": 117,
        "start_time": "2023-01-27T11:56:56.442Z"
      },
      {
        "duration": 73,
        "start_time": "2023-01-27T11:56:56.560Z"
      },
      {
        "duration": 10,
        "start_time": "2023-01-27T11:56:56.635Z"
      },
      {
        "duration": 10,
        "start_time": "2023-01-27T11:56:56.647Z"
      },
      {
        "duration": 53,
        "start_time": "2023-01-27T11:56:56.658Z"
      },
      {
        "duration": 7,
        "start_time": "2023-01-27T11:56:56.712Z"
      },
      {
        "duration": 62,
        "start_time": "2023-01-27T11:56:56.721Z"
      },
      {
        "duration": 17,
        "start_time": "2023-01-27T11:56:56.785Z"
      },
      {
        "duration": 21,
        "start_time": "2023-01-27T11:56:56.803Z"
      },
      {
        "duration": 723,
        "start_time": "2023-01-27T11:56:56.826Z"
      },
      {
        "duration": 585,
        "start_time": "2023-01-27T11:56:57.551Z"
      },
      {
        "duration": 600,
        "start_time": "2023-01-27T11:56:58.138Z"
      },
      {
        "duration": 128,
        "start_time": "2023-01-27T11:56:58.741Z"
      },
      {
        "duration": 0,
        "start_time": "2023-01-27T11:56:58.871Z"
      },
      {
        "duration": 0,
        "start_time": "2023-01-27T11:56:58.873Z"
      },
      {
        "duration": 0,
        "start_time": "2023-01-27T11:56:58.874Z"
      },
      {
        "duration": 0,
        "start_time": "2023-01-27T11:56:58.875Z"
      },
      {
        "duration": 0,
        "start_time": "2023-01-27T11:56:58.876Z"
      },
      {
        "duration": 0,
        "start_time": "2023-01-27T11:56:58.877Z"
      },
      {
        "duration": 0,
        "start_time": "2023-01-27T11:56:58.878Z"
      },
      {
        "duration": 0,
        "start_time": "2023-01-27T11:56:58.879Z"
      },
      {
        "duration": 0,
        "start_time": "2023-01-27T11:56:58.881Z"
      },
      {
        "duration": 0,
        "start_time": "2023-01-27T11:56:58.882Z"
      },
      {
        "duration": 0,
        "start_time": "2023-01-27T11:56:58.899Z"
      },
      {
        "duration": 0,
        "start_time": "2023-01-27T11:56:58.901Z"
      },
      {
        "duration": 0,
        "start_time": "2023-01-27T11:56:58.902Z"
      },
      {
        "duration": 0,
        "start_time": "2023-01-27T11:56:58.904Z"
      },
      {
        "duration": 0,
        "start_time": "2023-01-27T11:56:58.905Z"
      },
      {
        "duration": 0,
        "start_time": "2023-01-27T11:56:58.906Z"
      },
      {
        "duration": 0,
        "start_time": "2023-01-27T11:56:58.907Z"
      },
      {
        "duration": 0,
        "start_time": "2023-01-27T11:56:58.908Z"
      },
      {
        "duration": 0,
        "start_time": "2023-01-27T11:56:58.909Z"
      },
      {
        "duration": 0,
        "start_time": "2023-01-27T11:56:58.910Z"
      },
      {
        "duration": 0,
        "start_time": "2023-01-27T11:56:58.911Z"
      },
      {
        "duration": 0,
        "start_time": "2023-01-27T11:56:58.912Z"
      },
      {
        "duration": 0,
        "start_time": "2023-01-27T11:56:58.913Z"
      },
      {
        "duration": 3,
        "start_time": "2023-01-27T11:57:22.770Z"
      },
      {
        "duration": 540,
        "start_time": "2023-01-27T11:58:48.686Z"
      },
      {
        "duration": 414,
        "start_time": "2023-01-27T11:59:54.844Z"
      },
      {
        "duration": 406,
        "start_time": "2023-01-27T12:00:06.337Z"
      },
      {
        "duration": 380,
        "start_time": "2023-01-27T12:03:17.224Z"
      }
    ],
    "kernelspec": {
      "display_name": "Python 3 (ipykernel)",
      "language": "python",
      "name": "python3"
    },
    "language_info": {
      "codemirror_mode": {
        "name": "ipython",
        "version": 3
      },
      "file_extension": ".py",
      "mimetype": "text/x-python",
      "name": "python",
      "nbconvert_exporter": "python",
      "pygments_lexer": "ipython3",
      "version": "3.9.5"
    },
    "toc": {
      "base_numbering": 1,
      "nav_menu": {},
      "number_sections": true,
      "sideBar": true,
      "skip_h1_title": true,
      "title_cell": "Содержание",
      "title_sidebar": "Contents",
      "toc_cell": true,
      "toc_position": {
        "height": "calc(100% - 180px)",
        "left": "10px",
        "top": "150px",
        "width": "279.273px"
      },
      "toc_section_display": true,
      "toc_window_display": true
    },
    "colab": {
      "provenance": []
    }
  },
  "nbformat": 4,
  "nbformat_minor": 0
}